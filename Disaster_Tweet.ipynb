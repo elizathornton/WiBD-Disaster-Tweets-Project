{
  "nbformat": 4,
  "nbformat_minor": 0,
  "metadata": {
    "colab": {
      "provenance": [],
      "authorship_tag": "ABX9TyNqI5ZP0bSbdY3B3eO0CoVo",
      "include_colab_link": true
    },
    "kernelspec": {
      "name": "python3",
      "display_name": "Python 3"
    },
    "language_info": {
      "name": "python"
    }
  },
  "cells": [
    {
      "cell_type": "markdown",
      "metadata": {
        "id": "view-in-github",
        "colab_type": "text"
      },
      "source": [
        "<a href=\"https://colab.research.google.com/github/elizathornton/WiBD-Disaster-Tweets-Project/blob/main/Disaster_Tweet.ipynb\" target=\"_parent\"><img src=\"https://colab.research.google.com/assets/colab-badge.svg\" alt=\"Open In Colab\"/></a>"
      ]
    },
    {
      "cell_type": "code",
      "execution_count": null,
      "metadata": {
        "id": "uqwF7KhuegbE"
      },
      "outputs": [],
      "source": [
        "!pip install --upgrade gensim\n",
        "import pandas as pd\n",
        "import numpy as np\n",
        "import re\n",
        "import string\n",
        "import matplotlib.pyplot as plt\n",
        "\n",
        "!pip install -q wordcloud\n",
        "import wordcloud\n",
        "\n",
        "import nltk\n",
        "nltk.download('all')\n",
        "\n",
        "from nltk.stem import PorterStemmer\n",
        "from nltk.stem.wordnet import WordNetLemmatizer\n",
        "from nltk.corpus import stopwords\n",
        "\n",
        "!pip install neattext\n",
        "from neattext.pipeline import TextPipeline\n",
        "from neattext.functions import  remove_emails, fix_contractions, remove_numbers,remove_emojis,remove_special_characters, remove_stopwords, remove_html_tags, remove_urls, remove_puncts,remove_custom_pattern\n",
        "\n",
        "\n",
        "import gensim\n",
        "from sklearn.model_selection import train_test_split\n",
        "from sklearn.feature_extraction.text import TfidfVectorizer\n",
        "from sklearn.metrics import confusion_matrix, ConfusionMatrixDisplay, precision_score\n",
        "from sklearn.ensemble import RandomForestClassifier\n",
        "from sklearn.ensemble import GradientBoostingClassifier\n",
        "from sklearn import model_selection\n",
        "from sklearn.linear_model import LogisticRegression\n",
        "from sklearn.tree import DecisionTreeClassifier\n",
        "from sklearn.neighbors import KNeighborsClassifier\n",
        "from sklearn.discriminant_analysis import LinearDiscriminantAnalysis\n",
        "from sklearn.naive_bayes import GaussianNB\n",
        "from sklearn.svm import SVC\n",
        "from sklearn.metrics import accuracy_score\n",
        "from sklearn.metrics import classification_report\n",
        "from sklearn.metrics import recall_score\n",
        "\n",
        "from keras.models import Sequential\n",
        "from keras.layers import Dense\n",
        "\n",
        "from google.colab import drive\n",
        "drive.mount('/content/drive')\n"
      ]
    },
    {
      "cell_type": "code",
      "source": [
        "#read in the tweets\n",
        "df = pd.read_csv('/content/drive/My Drive/WiBD/data/train.csv')\n",
        "\n",
        "\n",
        "# remove the columns keyword and location\n",
        "df.drop(['keyword','location'],axis=1,inplace=True)\n"
      ],
      "metadata": {
        "id": "QRqK45meAE0H"
      },
      "execution_count": null,
      "outputs": []
    },
    {
      "cell_type": "code",
      "source": [
        "#  TO DO \n",
        "# consider changing the cleaning process:\n",
        "# removely only the hashtag from tags and separate the words\n",
        "# fix spelling.\n",
        " # then remove stop words\n",
        "\n",
        " \n"
      ],
      "metadata": {
        "id": "h9LvZz6iqczx"
      },
      "execution_count": null,
      "outputs": []
    },
    {
      "cell_type": "code",
      "source": [
        "def clean(text):\n",
        "\n",
        "    text = text.lower() # make it all lower case\n",
        "    text = re.sub(r'\\n', '', text) # take out any line breaks\n",
        "  \n",
        "\n",
        "    specific_cleaning = TextPipeline(steps=[remove_numbers, fix_contractions, \n",
        "                                            remove_stopwords, remove_emails,remove_emojis, \n",
        "                                            remove_html_tags, remove_urls, remove_special_characters])\n",
        "    \n",
        "    text = specific_cleaning.transform(text)\n",
        "\n",
        " \n",
        "    lemmatizer = WordNetLemmatizer()\n",
        "    text = \" \".join([lemmatizer.lemmatize(word) for word in text.split()])\n",
        "\n",
        "    return text"
      ],
      "metadata": {
        "id": "MbRQ576Q-jd7"
      },
      "execution_count": null,
      "outputs": []
    },
    {
      "cell_type": "code",
      "source": [
        "# apply the \"clean\" function to the data frame, and put the cleaned text in a new column\n",
        "df['clean_text'] = df['text'].map(clean)\n",
        "# Remove duplicate texts AFTER removing @'s, web addresses,  and non-word characthers\n",
        "df = df.drop_duplicates(subset='text', keep=\"first\")\n"
      ],
      "metadata": {
        "id": "s57GXeDfVi7m"
      },
      "execution_count": null,
      "outputs": []
    },
    {
      "cell_type": "code",
      "source": [
        "df.head()"
      ],
      "metadata": {
        "colab": {
          "base_uri": "https://localhost:8080/",
          "height": 206
        },
        "id": "7FnH6uBhDqBC",
        "outputId": "8ac1e90d-04e5-47d6-a8b0-00ef0e2b21af"
      },
      "execution_count": null,
      "outputs": [
        {
          "output_type": "execute_result",
          "data": {
            "text/plain": [
              "   id                                               text  target  \\\n",
              "0   1  Our Deeds are the Reason of this #earthquake M...       1   \n",
              "1   4             Forest fire near La Ronge Sask. Canada       1   \n",
              "2   5  All residents asked to 'shelter in place' are ...       1   \n",
              "3   6  13,000 people receive #wildfires evacuation or...       1   \n",
              "4   7  Just got sent this photo from Ruby #Alaska as ...       1   \n",
              "\n",
              "                                          clean_text  \n",
              "0               deed reason earthquake allah forgive  \n",
              "1              forest fire near la ronge sask canada  \n",
              "2  resident asked shelter place notified officer ...  \n",
              "3  people receive wildfire evacuation order calif...  \n",
              "4  got sent photo ruby alaska smoke wildfire pour...  "
            ],
            "text/html": [
              "\n",
              "  <div id=\"df-24f4186e-49a4-4ad8-8c91-f882e428c8fa\">\n",
              "    <div class=\"colab-df-container\">\n",
              "      <div>\n",
              "<style scoped>\n",
              "    .dataframe tbody tr th:only-of-type {\n",
              "        vertical-align: middle;\n",
              "    }\n",
              "\n",
              "    .dataframe tbody tr th {\n",
              "        vertical-align: top;\n",
              "    }\n",
              "\n",
              "    .dataframe thead th {\n",
              "        text-align: right;\n",
              "    }\n",
              "</style>\n",
              "<table border=\"1\" class=\"dataframe\">\n",
              "  <thead>\n",
              "    <tr style=\"text-align: right;\">\n",
              "      <th></th>\n",
              "      <th>id</th>\n",
              "      <th>text</th>\n",
              "      <th>target</th>\n",
              "      <th>clean_text</th>\n",
              "    </tr>\n",
              "  </thead>\n",
              "  <tbody>\n",
              "    <tr>\n",
              "      <th>0</th>\n",
              "      <td>1</td>\n",
              "      <td>Our Deeds are the Reason of this #earthquake M...</td>\n",
              "      <td>1</td>\n",
              "      <td>deed reason earthquake allah forgive</td>\n",
              "    </tr>\n",
              "    <tr>\n",
              "      <th>1</th>\n",
              "      <td>4</td>\n",
              "      <td>Forest fire near La Ronge Sask. Canada</td>\n",
              "      <td>1</td>\n",
              "      <td>forest fire near la ronge sask canada</td>\n",
              "    </tr>\n",
              "    <tr>\n",
              "      <th>2</th>\n",
              "      <td>5</td>\n",
              "      <td>All residents asked to 'shelter in place' are ...</td>\n",
              "      <td>1</td>\n",
              "      <td>resident asked shelter place notified officer ...</td>\n",
              "    </tr>\n",
              "    <tr>\n",
              "      <th>3</th>\n",
              "      <td>6</td>\n",
              "      <td>13,000 people receive #wildfires evacuation or...</td>\n",
              "      <td>1</td>\n",
              "      <td>people receive wildfire evacuation order calif...</td>\n",
              "    </tr>\n",
              "    <tr>\n",
              "      <th>4</th>\n",
              "      <td>7</td>\n",
              "      <td>Just got sent this photo from Ruby #Alaska as ...</td>\n",
              "      <td>1</td>\n",
              "      <td>got sent photo ruby alaska smoke wildfire pour...</td>\n",
              "    </tr>\n",
              "  </tbody>\n",
              "</table>\n",
              "</div>\n",
              "      <button class=\"colab-df-convert\" onclick=\"convertToInteractive('df-24f4186e-49a4-4ad8-8c91-f882e428c8fa')\"\n",
              "              title=\"Convert this dataframe to an interactive table.\"\n",
              "              style=\"display:none;\">\n",
              "        \n",
              "  <svg xmlns=\"http://www.w3.org/2000/svg\" height=\"24px\"viewBox=\"0 0 24 24\"\n",
              "       width=\"24px\">\n",
              "    <path d=\"M0 0h24v24H0V0z\" fill=\"none\"/>\n",
              "    <path d=\"M18.56 5.44l.94 2.06.94-2.06 2.06-.94-2.06-.94-.94-2.06-.94 2.06-2.06.94zm-11 1L8.5 8.5l.94-2.06 2.06-.94-2.06-.94L8.5 2.5l-.94 2.06-2.06.94zm10 10l.94 2.06.94-2.06 2.06-.94-2.06-.94-.94-2.06-.94 2.06-2.06.94z\"/><path d=\"M17.41 7.96l-1.37-1.37c-.4-.4-.92-.59-1.43-.59-.52 0-1.04.2-1.43.59L10.3 9.45l-7.72 7.72c-.78.78-.78 2.05 0 2.83L4 21.41c.39.39.9.59 1.41.59.51 0 1.02-.2 1.41-.59l7.78-7.78 2.81-2.81c.8-.78.8-2.07 0-2.86zM5.41 20L4 18.59l7.72-7.72 1.47 1.35L5.41 20z\"/>\n",
              "  </svg>\n",
              "      </button>\n",
              "      \n",
              "  <style>\n",
              "    .colab-df-container {\n",
              "      display:flex;\n",
              "      flex-wrap:wrap;\n",
              "      gap: 12px;\n",
              "    }\n",
              "\n",
              "    .colab-df-convert {\n",
              "      background-color: #E8F0FE;\n",
              "      border: none;\n",
              "      border-radius: 50%;\n",
              "      cursor: pointer;\n",
              "      display: none;\n",
              "      fill: #1967D2;\n",
              "      height: 32px;\n",
              "      padding: 0 0 0 0;\n",
              "      width: 32px;\n",
              "    }\n",
              "\n",
              "    .colab-df-convert:hover {\n",
              "      background-color: #E2EBFA;\n",
              "      box-shadow: 0px 1px 2px rgba(60, 64, 67, 0.3), 0px 1px 3px 1px rgba(60, 64, 67, 0.15);\n",
              "      fill: #174EA6;\n",
              "    }\n",
              "\n",
              "    [theme=dark] .colab-df-convert {\n",
              "      background-color: #3B4455;\n",
              "      fill: #D2E3FC;\n",
              "    }\n",
              "\n",
              "    [theme=dark] .colab-df-convert:hover {\n",
              "      background-color: #434B5C;\n",
              "      box-shadow: 0px 1px 3px 1px rgba(0, 0, 0, 0.15);\n",
              "      filter: drop-shadow(0px 1px 2px rgba(0, 0, 0, 0.3));\n",
              "      fill: #FFFFFF;\n",
              "    }\n",
              "  </style>\n",
              "\n",
              "      <script>\n",
              "        const buttonEl =\n",
              "          document.querySelector('#df-24f4186e-49a4-4ad8-8c91-f882e428c8fa button.colab-df-convert');\n",
              "        buttonEl.style.display =\n",
              "          google.colab.kernel.accessAllowed ? 'block' : 'none';\n",
              "\n",
              "        async function convertToInteractive(key) {\n",
              "          const element = document.querySelector('#df-24f4186e-49a4-4ad8-8c91-f882e428c8fa');\n",
              "          const dataTable =\n",
              "            await google.colab.kernel.invokeFunction('convertToInteractive',\n",
              "                                                     [key], {});\n",
              "          if (!dataTable) return;\n",
              "\n",
              "          const docLinkHtml = 'Like what you see? Visit the ' +\n",
              "            '<a target=\"_blank\" href=https://colab.research.google.com/notebooks/data_table.ipynb>data table notebook</a>'\n",
              "            + ' to learn more about interactive tables.';\n",
              "          element.innerHTML = '';\n",
              "          dataTable['output_type'] = 'display_data';\n",
              "          await google.colab.output.renderOutput(dataTable, element);\n",
              "          const docLink = document.createElement('div');\n",
              "          docLink.innerHTML = docLinkHtml;\n",
              "          element.appendChild(docLink);\n",
              "        }\n",
              "      </script>\n",
              "    </div>\n",
              "  </div>\n",
              "  "
            ]
          },
          "metadata": {},
          "execution_count": 5
        }
      ]
    },
    {
      "cell_type": "markdown",
      "source": [
        "# Tokenize the text"
      ],
      "metadata": {
        "id": "5CAH3SsJh4O1"
      }
    },
    {
      "cell_type": "code",
      "source": [
        "sentences = [nltk.word_tokenize(sent) for sent in df['clean_text']]"
      ],
      "metadata": {
        "id": "1v2EMMwzHba5"
      },
      "execution_count": null,
      "outputs": []
    },
    {
      "cell_type": "markdown",
      "source": [
        "# Vectorization\n",
        "Let's try and compare 2 different different vectorization techniques:\n",
        "\n",
        "1) Word2vec\n",
        "\n",
        "2) TFIDF\n",
        "\n",
        "I'm going to split the dataset into train/ test data and then vectorize it 2 different ways - Word2Vec  (which hopefully will find relationships between words to be able to classify words used to describe disasters based on the training data) and TFIDF (which uses word frequencies to find which words are important in determining if a text is about disasters)"
      ],
      "metadata": {
        "id": "fHifDPAo7_mC"
      }
    },
    {
      "cell_type": "markdown",
      "source": [],
      "metadata": {
        "id": "26n6_Dxp8IQH"
      }
    },
    {
      "cell_type": "code",
      "source": [
        "\n",
        "#In this section we will split up the data into test and train and vectorize it 2 different ways\n",
        "\n",
        "#split up the data into train / test\n",
        "X_train, X_test, y_train, y_test = train_test_split(df['clean_text'], df['target'] , test_size=0.2)\n",
        "\n",
        "# Train the word2vec model\n",
        "\n",
        "w2v_model = gensim.models.Word2Vec(sentences,\n",
        "                                   vector_size=100, \n",
        "                                   window=5,\n",
        "                                   min_count=2)\n",
        "words = set(w2v_model.wv.index_to_key )\n",
        "\n",
        "#vectorize the X_train and X_test data with word2vec\n",
        "X_train_vect = np.array([np.array([w2v_model.wv[i] for i in ls if i in words])\n",
        "                         for ls in X_train])\n",
        "X_test_vect = np.array([np.array([w2v_model.wv[i] for i in ls if i in words])\n",
        "                         for ls in X_test])\n",
        "\n",
        "\n",
        "# Compute sentence vectors by averaging the word vectors for the words contained in the sentence\n",
        "X_train_w2v = []\n",
        "for v in X_train_vect:\n",
        "    if v.size:\n",
        "        X_train_w2v.append(v.mean(axis=0))\n",
        "    else:\n",
        "        X_train_w2v.append(np.zeros(100, dtype=float))\n",
        "        \n",
        "X_test_w2v = []\n",
        "for v in X_test_vect:\n",
        "    if v.size:\n",
        "        X_test_w2v.append(v.mean(axis=0))\n",
        "    else:\n",
        "        X_test_w2v.append(np.zeros(100, dtype=float))\n",
        "\n",
        "# vectorize the train / test data with tfidf\n",
        "\n",
        "tfidf_vectorizer = TfidfVectorizer(max_features=1000) # put in max features? \n",
        "vectorized_sentences = tfidf_vectorizer.fit(X_train)\n",
        "X_train_tfidf  = tfidf_vectorizer.transform(X_train)\n",
        "X_test_tfidf = tfidf_vectorizer.transform(X_test)\n",
        "\n",
        "\n",
        "\n",
        "#tfidf_vect = TfidfVectorizer(max_features=5000)\n",
        "#tfidf_vect.fit(x_train)\n",
        "\n",
        "#x_train_tfidf = tfidf_vect.transform(x_train)\n",
        "#x_val_tfidf = tfidf_vect.transform(x_val)\n"
      ],
      "metadata": {
        "colab": {
          "base_uri": "https://localhost:8080/"
        },
        "id": "PqrPU7LUipCE",
        "outputId": "a7f2489d-d0e7-4c54-b879-68f79d63c6bd"
      },
      "execution_count": null,
      "outputs": [
        {
          "output_type": "stream",
          "name": "stderr",
          "text": [
            "<ipython-input-6-fa0eb9220c46>:16: VisibleDeprecationWarning: Creating an ndarray from ragged nested sequences (which is a list-or-tuple of lists-or-tuples-or ndarrays with different lengths or shapes) is deprecated. If you meant to do this, you must specify 'dtype=object' when creating the ndarray.\n",
            "  X_train_vect = np.array([np.array([w2v_model.wv[i] for i in ls if i in words])\n",
            "<ipython-input-6-fa0eb9220c46>:18: VisibleDeprecationWarning: Creating an ndarray from ragged nested sequences (which is a list-or-tuple of lists-or-tuples-or ndarrays with different lengths or shapes) is deprecated. If you meant to do this, you must specify 'dtype=object' when creating the ndarray.\n",
            "  X_test_vect = np.array([np.array([w2v_model.wv[i] for i in ls if i in words])\n"
          ]
        }
      ]
    },
    {
      "cell_type": "code",
      "source": [
        "print(words)"
      ],
      "metadata": {
        "colab": {
          "base_uri": "https://localhost:8080/"
        },
        "id": "s_X4O8GoB9ij",
        "outputId": "4611f8cb-5543-465c-8ffd-7bbbae0003c9"
      },
      "execution_count": null,
      "outputs": [
        {
          "output_type": "stream",
          "name": "stdout",
          "text": [
            "{'woman', 'fema', 'town', 'your', 'transformed', 'le', 'forgotten', 'hatred', 'tribune', 'freefrom', 'pharaoh', 'fall', 'hollywood', 'ice', 'internet', 'mate', 'bullseye', 'need', 'f', 'stranded', 'stagetwo', 'cld', 'thetwister', 'batter', 'shooting', 'bicyclist', 'customer', 'ad', 'cage', 'drawn', 'wftv', 'olap', 'duke', 'ebike', 'wine', 'fury', 'tuning', 'breaking', 'shell', 'floated', 'feeding', 'vault', 'closed', 'alot', 'cnn', 'meteoearth', 'uh', 'exterminate', 'casper', 'durant', 'classic', 'acoustic', 'reading', 'technica', 'rank', 'clev', 'short', 'related', 'rose', 'cut', 'corey', 'unlocking', 'vashon', 'fox', 'invoice', 'si', 'zaynmalik', 'condemn', 'jenner', 'croatian', 'holmgren', 'appreciate', 'act', 'limit', 'kurtschlichter', 'o', 'caribbean', 'wash', 'zabadani', 'called', 'action', 'creating', 'pov', 'landing', 'rover', 'corner', 'pjnet', 'politifiact', 'forex', 'vabengal', 'coming', 'wipp', 'penny', 'salvador', 'radar', 'rained', 'odds', 'led', 'kerricktrial', 'aba', 'bigger', 'noahanyname', 'waking', 'ssw', 'donald', 'gold', 'auction', 'visited', 'roof', 'youtube', 'birth', 'warns', 'penalty', 'year', 'swiss', 'bos', 'britishbakeoff', 'reinstate', 'rocky', 'tornado', 'up', 'rainstorm', 'including', 'start', 'me', 'fail', 'satan', 'recent', 'fuel', 'mamata', 'fergusons', 'tmp', 'shouting', 'science', 'patriot', 'sen', 'taste', 'selfimage', 'bout', 'sippin', 'consider', 'opened', 'hold', 'lower', 'thing', 'draw', 'bike', 'irish', 'roller', 'suffered', 'truelove', 'jeff', 'airline', 'astrology', 'hope', 'exposure', 'plan', 'charlie', 'telegraph', 'ceo', 'hieroglyphic', 'walter', 'camp', 'silvergray', 'fashion', 'scar', 'careful', 'ordered', 'starving', 'collisionno', 'slowly', 'first', 'news', 'bush', 'gps', 'emperor', 'peacefully', 'wanting', 'beer', 'johnny', 'chattanooga', 'ave', 'checked', 'sided', 'soccer', 'oil', 'gaza', 'finding', 'sized', 'old', 'alois', 'indian', 'earthquake', 'pizza', 'trophy', 'icelandreview', 'male', 'reshapes', 'clinton', 'threatens', 'hiker', 'national', 'parking', 'hardline', 'sandstorm', 'parent', 'control', 'harper', 'scoopit', 'cockpit', 'american', 'chicagoarea', 'destroyed', 'room', 'transit', 'hahah', 'newzsacramento', 'kisii', 'justified', 'livingsafely', 'swell', 'worldnews', 'sir', 'daniel', 'vermont', 'jump', 'everyones', 'tech', 'acute', 'with', 'investing', 'diageos', 'freshman', 'forth', 'newlywed', 'detonate', 'novel', 'new', 'drinking', 'it', 'reddit', 'chairman', 'deal', 'amazon', 'station', 'immediately', 'ovo', 'daily', 'golf', 'missile', 'health', 'mcilroy', 'hurricane', 'targeted', 'symphony', 'drew', 'review', 'electrocute', 'lotz', 'butt', 'social', 'nature', 'ta', 'alleged', 'path', 'revealed', 'yemen', 'panicking', 'spinning', 'closing', 'thyroid', 'split', 'sex', 'top', 'assistance', 'actually', 'ignored', 'oliver', 'rly', 'april', 'refused', 'v', 'thx', 'sb', 'nba', 'swept', 'meat', 'tomorrow', 'band', 'capital', 'knee', 'asked', 'chase', 'central', 'remove', 'sacramento', 'dopey', 'bombing', 'video', 'department', 'hurricanedolce', 'southern', 'anxiety', 'foxnews', 'youth', 'prime', 'highest', 'parole', 'trfc', 'prepare', 'maximum', 'ga', 'calumsos', 'candle', 'testing', 'odd', 'affiliation', 'lol', 'n', 'blaze', 'guess', 'policy', 'ky', 'areddit', 'hamas', 'world', 'requiring', 'president', 'usa', 'suh', 'giant', 'aunt', 'msnbc', 'examiner', 'growingupblack', 'denali', 'gem', 'highway', 'pilot', 'sick', 'ed', 'hill', 'summerfate', 'encore', 'nick', 'restaurant', 'lnp', 'adult', 'purchased', 'tragic', 'explains', 'punishment', 'mukilteo', 'harm', 'site', 'mumbai', 'believing', 'aka', 'climatechange', 'access', 'thick', 'eastern', 'blksampwhts', 'suv', 'girl', 'soviet', 'repair', 'but', 'battlefield', 'average', 'france', 'committed', 'announced', 'beckarnley', 'asia', 'injures', 'saving', 'policerun', 'condition', 'lowlying', 'taxi', 'gum', 'kurd', 'hoax', 'necessary', 'intelligence', 'trs', 'dependency', 'stone', 'messenger', 'orange', 'roll', 'affected', 'unfolded', 'literally', 'mph', 'congress', 'primarily', 'butthe', 'hatchet', 'ke', 'hillary', 'forecast', 'mitt', 'dakota', 'weighs', 'blackberry', 'livelihood', 'warrior', 'brake', 'medic', 'accidentally', 'july', 'vida', 'urgent', 'aftershock', 'removed', 'elliott', 'serious', 'smithsonian', 'ames', 'measles', 'protecting', 'wce', 'cement', 'antonio', 'contruction', 'tanzania', 'narendramodi', 'thanks', 'micom', 'taking', 'mother', 'busy', 'florida', 'tripledigit', 'how', 'speaker', 'border', 'lesson', 'preparedness', 'mi', 'mock', 'loud', 'performing', 'displace', 'banquet', 'situation', 'skipping', 'malaysian', 'siren', 'supply', 'xp', 'salty', 'dumb', 'iraqi', 'sheet', 'pakistannews', 'mentally', 'nude', 'industry', 'kelly', 'realdonaldtrump', 'rapidly', 'timelapse', 'who', 'zimbabwe', 'federal', 'french', 'household', 'changed', 'baseball', 'ring', 'germany', 'itunes', 'smoke', 'eastbound', 'sunk', 'bread', 'defeat', 'bowling', 'based', 'inmate', 'trailer', 'prevent', 'claim', 'vintage', 'exhausted', 'beauty', 'running', 'ireland', 'fabric', 'protesting', 'jersey', 'collided', 'photographer', 'olympic', 'application', 'dual', 'intersection', 'number', 'identitytheft', 'prompt', 'joined', 'hahahaha', 'skin', 'combo', 'coastal', 'gear', 'er', 'sheeran', 'cousin', 'suit', 'jazz', 'interview', 'wonder', 'triumph', 'activates', 'audience', 'apparent', 'kill', 'outside', 'wouldeath', 'met', 'superhero', 'nfl', 'whatsapp', 'story', 'meek', 'investigate', 'hellfire', 'newsarama', 'hijack', 'dambisa', 'australia', 'attempting', 'guard', 'plane', 'zone', 'goodbye', 'kindermorgan', 'copilot', 'racing', 'usatoday', 'component', 'cried', 'portland', 'long', 'grief', 'thirst', 'hew', 'con', 'modi', 'cmon', 'international', 'los', 'greatest', 'djicemoon', 'well', 'wired', 'clothes', 'carrying', 'smoking', 'point', 'highly', 'drive', 'education', 'remain', 'tasmania', 'significant', 'eden', 'circus', 'inferno', 'uber', 'paid', 'wound', 'enrt', 'suru', 'jkl', 'motorcycle', 'gmt', 'healthcare', 'hwo', 'suffering', 'study', 'fatburning', 'excellent', 'tahoe', 'imdb', 'topstories', 'battle', 'ci', 'edt', 'outbreak', 'plague', 'afghanistan', 'retail', 'riot', 'ep', 'standuser', 'inspection', 'malaysia', 'why', 'walker', 'marketing', 'color', 'believe', 'daesh', 'step', 'certain', 'idiot', 'player', 'frank', 'exploit', 'focus', 'rockbottomradfm', 'unprecedented', 'junk', 'didnt', 'grows', 'zarry', 'white', 'dickhead', 'smoky', 'wan', 'housing', 'razed', 'value', 'injuryi', 'hmu', 'nope', 'tho', 'bodybagging', 'hair', 'midget', 'seven', 'her', 'robinson', 'loss', 'light', 'motivation', 'samesex', 'ml', 'blew', 'honey', 'voluntary', 'afghan', 'tt', 'log', 'pipeline', 'pocket', 'burning', 'engine', 'create', 'fun', 'chevrolet', 'unrest', 'organization', 'fresno', 'bring', 'thursday', 'document', 'wud', 'humidity', 'playthursdays', 'au', 'whistle', 'towel', 'nv', 'went', 'true', 'proper', 'sight', 'incredibly', 'taliban', 'explores', 'np', 'train', 'pakistani', 'caesar', 'react', 'wisenews', 'resident', 'exacerbated', 'diamond', 'precipitation', 'officially', 'toronto', 'monsoon', 'anniversary', 'weyreygidi', 'rick', 'punch', 'stab', 'master', 'wattle', 'screamed', 'headset', 'lollapalooza', 'discovery', 'vet', 'impossible', 'movie', 'wanted', 'sort', 'messi', 'escaped', 'anza', 'single', 'abstorm', 'kraft', 'tflbusalerts', 'lolol', 'ego', 'after', 'superstition', 'fairy', 'stu', 'miami', 'thunderstorm', 'so', 'rubber', 'pair', 'alabama', 'burst', 'itunesmusic', 'fading', 'luchaunderground', 'sputnik', 'factory', 'free', 'ntsb', 'moment', 'my', 'mr', 'jewish', 'economy', 'looked', 'potential', 'actual', 'showed', 'va', 'billboard', 'push', 'simulation', 'lethal', 'closest', 'chinese', 'bicycle', 'woodlawn', 'hacker', 'titanic', 'hamburg', 'bkn', 'fight', 'goulburn', 'oc', 'horn', 'europe', 'peanut', 'chem', 'ch', 'explosionproof', 'ago', 'mobile', 'tea', 'change', 'garfield', 'hah', 'mcdonalds', 'democrat', 'cnnbrk', 'college', 'function', 'weak', 'realised', 'retract', 'bronx', 'language', 'th', 'insubcontinent', 'tournament', 'lv', 'shout', 'strip', 'angry', 'spontaneously', 'endures', 'eventually', 'episode', 'gadget', 'automatic', 'expected', 'affecting', 'government', 'tv', 'mishap', 'gander', 'zakbagans', 'or', 'center', 'boxer', 'hang', 'w', 'struck', 'ray', 'host', 'programme', 'barn', 'newest', 'dc', 'hungry', 'nickcannon', 'approach', 'pile', 'blood', 'wildfire', 'taco', 'if', 'repeat', 'wouldelectrocute', 'shift', 'betrayed', 'wod', 'wrapup', 'museum', 'temperature', 'comic', 'bomb', 'insomnia', 'larger', 'worn', 'pull', 'context', 'calamity', 'played', 'end', 'evidence', 'library', 'sewer', 'lifted', 'legendary', 'growth', 'msica', 'stealing', 'blocking', 'cream', 'calm', 'memory', 'no', 'gorgeous', 'vital', 'metal', 'brush', 'r', 'mkx', 'stand', 'philippine', 'here', 'method', 'rotator', 'ori', 'neverending', 'that', 'haiyan', 'snack', 'anna', 'equipment', 'cross', 'pitcher', 'cannon', 'horrible', 'mitigation', 'engvaus', 'mirage', 'impact', 'friggin', 'net', 'h', 'shit', 'bff', 'ay', 'manslaughter', 'text', 'clown', 'rtrrt', 'horizon', 'unto', 'testimony', 'are', 'lmfao', 'william', 'ramag', 'watched', 'flip', 'improve', 'basically', 'threaten', 'pluto', 'reveals', 'j', 'pmharper', 'arabia', 'admit', 'negro', 'sake', 'seek', 'shake', 'tool', 'outflow', 'gang', 'cbcca', 'helen', 'press', 'speaking', 'fifa', 'european', 'rwy', 'voting', 'architecture', 'clear', 'absolute', 'authentic', 'witter', 'apocalypse', 'inevitable', 'gate', 'nankana', 'typhoon', 'wood', 'diet', 'gig', 'for', 'hero', 'bluejays', 'peace', 'rubble', 'hardcore', 'pak', 'juror', 'shaped', 'curiosity', 'back', 'ran', 'warship', 'around', 'soup', 'newbie', 'dem', 'carr', 'realtime', 'lrt', 'harrybecareful', 'examining', 'fd', 'independent', 'tower', 'western', 'loving', 'deep', 'ton', 'jeb', 'british', 'elijah', 'bargain', 'intern', 'sr', 'facility', 'wedding', 'trent', 'enjoyed', 'questioning', 'fill', 'inning', 'random', 'nwo', 'mercury', 'correspondent', 'finish', 'fairfax', 'treating', 'playstation', 'vladimir', 'wmata', 'petition', 'britain', 'hoe', 'gun', 'unit', 'debate', 'fitness', 'acid', 'fallacy', 'usar', 'helping', 'twice', 'often', 'iron', 'innovation', 'concert', 'undercover', 'sept', 'homeless', 'battery', 'nj', 'assisting', 'dy', 'glorious', 'steam', 'root', 'spilled', 'model', 'executive', 'cole', 'carried', 'general', 'job', 'gf', 'missionhills', 'stans', 'turn', 'shoot', 'generation', 'throne', 'mood', 'energy', 'struggling', 'oneself', 'able', 'pepper', 'cap', 'envw', 'idfire', 'technique', 'disea', 'satchel', 'rapping', 'turkmen', 'pit', 'haunting', 'ant', 'crossborder', 'revolt', 'italy', 'seriously', 'mental', 'extends', 'dude', 'shaking', 'patched', 'authority', 'usgs', 'shame', 'bully', 'pickens', 'esteemed', 'bowl', 'bg', 'actress', 'regular', 'mayhem', 'da', 'monitor', 'cosponsor', 'scary', 'killer', 'afp', 'rant', 'high', 'poverty', 'office', 'shitty', 'list', 'telling', 'hike', 'putting', 'appropriation', 'ignore', 'blowout', 'como', 'offer', 'edit', 'prophet', 'form', 'shepherd', 'katrina', 'pretend', 'definitely', 'wale', 'bb', 'quickly', 'bringing', 'ashayo', 'brutally', 'gas', 'realize', 'russia', 'abubaraa', 'pun', 'write', 'fuckin', 'what', 'great', 'flush', 'cleric', 'premature', 'fine', 'emerges', 'fluid', 'alarm', 'brunette', 'etc', 'sep', 'dutch', 'richmond', 'cricket', 'strong', 'governor', 'financial', 'un', 'chair', 'vega', 'concrete', 'koinnews', 'forbid', 'rage', 'line', 'exciting', 'streak', 'shock', 'nsfw', 'december', 'cry', 'worse', 'kindly', 'lovely', 'california', 'taiwan', 'country', 'detonated', 'loop', 'worldwide', 'diamondkesawn', 'treat', 'worried', 'willing', 'rogue', 'rob', 'edm', 'leaving', 'z', 'part', 'equate', 'saddlebrooke', 'golem', 'faster', 'insane', 'armageddon', 'indie', 'hey', 'flaming', 'depth', 'nostalgia', 'rescued', 'phew', 'raider', 'poor', 'prepared', 'wolf', 'photoshop', 'rated', 'delay', 'sun', 'breakingnews', 'caught', 'katunews', 'legion', 'come', 'cuban', 'nigerian', 'butter', 'sismo', 'tear', 'produce', 'nail', 'schiphol', 'bobcat', 'through', 'blizzarddraco', 'austin', 'warm', 'whale', 'hated', 'cover', 'joy', 'roster', 'empire', 'cast', 'listed', 'boom', 'enroute', 'bear', 'leg', 'global', 'awareness', 'desk', 'simon', 'alex', 'talk', 'tragedy', 'typhoondevastated', 'spell', 'noise', 'tix', 'fantastic', 'tie', 'advised', 'possibility', 'tee', 'join', 'cheryl', 'house', 'prez', 'armed', 'worry', 'solid', 'ameenshaikh', 'murder', 'kind', 'lionel', 'carpet', 'concerned', 'plastic', 'brief', 'display', 'blamed', 'edinburgh', 'registered', 'road', 'steak', 'major', 'leaked', 'stabbing', 'quiz', 'prom', 'jp', 'blue', 'factor', 'occurred', 'knowing', 'you', 'bicep', 'lifestyle', 'guest', 'lifting', 'ethiopian', 'wnd', 'staff', 'suspected', 'chance', 'spent', 'illusion', 'died', 'anchor', 'mind', 'female', 'child', 'truth', 'd', 'button', 'blueprint', 'sudden', 'abandoned', 'activity', 'yahoonews', 'billionaire', 'ebay', 'lived', 'screaming', 'adam', 'chocolate', 'localarsonist', 'wpri', 'armory', 'theadvocatemag', 'pol', 'collection', 'murderer', 'elkhorn', 'unsafe', 'filled', 'pandemonium', 'fishing', 'accionempresa', 'suicidebombing', 'soul', 'approves', 'reshape', 'forward', 'hearing', 'fate', 'mess', 'complaint', 'begging', 'deserves', 'drain', 'entered', 'suspect', 'blk', 'future', 'rockstar', 'dock', 'walerga', 'tch', 'gon', 'satellite', 'came', 'hug', 'stolen', 'facebook', 'maker', 'project', 'son', 'brock', 'll', 'mode', 'lightningcaused', 'pro', 'sat', 'yearold', 'hack', 'win', 'jst', 'continues', 'cargo', 'nbc', 'early', 'whirlwind', 'gov', 'vinyl', 'wy', 'volcano', 'marketer', 'atomic', 'gunman', 'winning', 'ak', 'facing', 'dramatic', 'knife', 'nbcnews', 'causing', 'certainly', 'proposed', 'blah', 'internal', 'bago', 'homeowner', 'joel', 'behavior', 'burnt', 'bombed', 'subject', 'angel', 'onlinecommunities', 'stack', 'glimpse', 'barackobama', 'sweet', 'stole', 'falcon', 'straight', 'constantly', 'claytonbryant', 'least', 'cc', 'senate', 'business', 'darude', 'crater', 'condo', 'season', 'return', 'shoulder', 'careless', 'memphis', 'contemplating', 'emergency', 'register', 'bio', 'longer', 'surprise', 'yay', 'waterresistant', 'property', 'centre', 'rep', 'she', 'career', 'imagined', 'turkish', 'muslim', 'lmao', 'later', 'protect', 'oth', 'recap', 'drunk', 'ram', 'soo', 'huge', 'saved', 'automation', 'wheavenly', 'tutorial', 'warfighting', 'refugio', 'cutting', 'tcot', 'biker', 'few', 'retweeted', 'loretta', 'relative', 'tote', 'ante', 'forever', 'only', 'moral', 'hide', 'reminds', 'regime', 'sunset', 'pancake', 'nice', 'universe', 'michigan', 'newsgoldcoast', 'whoop', 'deny', 'sequel', 'prompted', 'prince', 'drought', 'want', 'pump', 'demon', 'cave', 'space', 'more', 'class', 'declares', 'grace', 'scale', 'blow', 'mouth', 'lt', 'hatcap', 'falling', 'porridge', 'generalnews', 'ruin', 'skynews', 'indeed', 'sustainable', 'animalrescue', 'arson', 'enter', 'link', 'thomas', 'taxiway', 'said', 'ral', 'available', 'assembly', 'session', 'billion', 'ride', 'avoided', 'struggle', 'desolation', 'latest', 'severe', 'bayelsa', 'obsessed', 'vicinity', 'stop', 'ah', 'advance', 'wave', 'chart', 'fatalityus', 'ticket', 'firetruck', 'place', 'soooo', 'pay', 'dressed', 'driver', 'hiphop', 'earbuds', 'glink', 'elsa', 'chest', 'set', 'sail', 'pt', 'canyon', 'prone', 'attendance', 'specially', 'traumatised', 'southampton', 'built', 'hijacker', 'profile', 'wearing', 'closure', 'collide', 'charge', 'commerce', 'stadium', 'kowing', 'sponsor', 'multiple', 'body', 'wire', 'frog', 'working', 'soundcloud', 'seed', 'gain', 'sorry', 'dream', 'parade', 'jose', 'kerry', 'windstorm', 'regard', 'nashville', 'won', 'smaug', 'attraction', 'drowned', 'vocal', 'apollo', 'specif', 'plant', 'opposite', 'vanessa', 'fedex', 'prosecuted', 'overload', 'ushanka', 'christie', 'exercise', 'decide', 'cake', 'fixing', 'reap', 'solution', 'percent', 'foster', 'troop', 'lack', 'travel', 'shelby', 'sheer', 'cloud', 'olive', 'decrease', 'sturgis', 'njenga', 'huh', 'jamaicaobserver', 'cool', 'recover', 'wordpressdotcom', 'undergroundrailraod', 'genius', 'aircraft', 'economic', 'jonathan', 'udhampur', 'feed', 'traverse', 'leading', 'realization', 'bag', 'len', 'apch', 'twia', 'fifth', 'tweet', 'affect', 'priority', 'choking', 'give', 'right', 'recount', 'like', 'tattoo', 'direction', 'couple', 'iconic', 'nasa', 'aint', 'lesbian', 'bean', 'john', 'bob', 'partnership', 'catastrophic', 'annihilation', 'kidding', 'mv', 'rising', 're', 'wild', 'scene', 'japan', 'wayne', 'motorcyclist', 'poster', 'militant', 'alien', 'pulling', 'dallas', 'liked', 'tor', 'combust', 'journey', 'cont', 'drill', 'martinmj', 'dress', 'damaging', 'jr', 'washingtonpost', 'picked', 'ebola', 'evil', 'ornament', 'moulding', 'diff', 'broken', 'org', 'information', 'men', 'fix', 'shape', 'arrived', 'password', 'oral', 'riding', 'combined', 'defect', 'wit', 'die', 'skirt', 'location', 'recovery', 'gopdebate', 'mina', 'fb', 'face', 'pond', 'workout', 'foxtrot', 'confirmed', 'boise', 'philadelphia', 'swansea', 'possibly', 'tak', 'homs', 'smell', 'trial', 'eh', 'different', 'predict', 'treeporn', 'lifethreatening', 'lab', 'mania', 'muzzamil', 'se', 'leadership', 'decision', 'notification', 'mafia', 'murfreesboro', 'gg', 'behalf', 'lighting', 't', 'civil', 'learning', 'inj', 'appointment', 'hottest', 'grill', 'community', 'crippling', 'pussy', 'christ', 'venice', 'extension', 'effort', 'fte', 'dk', 'salvation', 'exhibition', 'avalanche', 'height', 'wondering', 'denier', 'multidimensi', 'lost', 'skyline', 'local', 'countless', 'lane', 'denial', 'full', 'rest', 'ushed', 'mufc', 'potus', 'village', 'disgusting', 'calumet', 'musician', 'saturday', 'equally', 'ship', 'understanding', 'gm', 'marek', 'shirt', 'blonde', 'upgrade', 'pop', 'que', 'loseit', 'generally', 'forest', 'lloyd', 'secret', 'bar', 'collision', 'ignition', 'gunfire', 'epicenter', 'rip', 'food', 'ruebs', 'stressed', 'field', 'hockey', 'humanity', 'canoe', 'reopen', 'opinion', 'dmpl', 'bath', 'thought', 'btwn', 'effect', 'hazmat', 'saudi', 'safely', 'ik', 'disappoints', 'vince', 'tongue', 'tyre', 'gawx', 'farrakhan', 'justmarried', 'flash', 'triedhttptcobbdpnjxsx', 'cunt', 'monogram', 'logo', 'vantage', 'package', 'resulting', 'take', 'mop', 'ee', 'tesla', 'farm', 'failure', 'spin', 'wrong', 'creativity', 'linerless', 'original', 'moderate', 'bitch', 'forgot', 'cancer', 'cop', 'averted', 'lucky', 'petitiontake', 'agent', 'degree', 'shadow', 'offr', 'pbban', 'putin', 'storm', 'ground', 'discus', 'excitement', 'santa', 'medal', 'texas', 'them', 'minhazmerchant', 'autistic', 'bridge', 'sideline', 'faux', 'breakfast', 'pounded', 'preorder', 'pant', 'minor', 'game', 'chonce', 'song', 'david', 'def', 'funtenna', 'other', 'hughes', 'bbc', 'civilization', 'teamstream', 'hosting', 'enabled', 'looping', 'pattern', 'declined', 'wannabe', 'newberg', 'themed', 'sarcasm', 'tha', 'loading', 'completely', 'receive', 'crime', 'according', 'canaanite', 'role', 'summer', 'down', 'lubbock', 'divided', 'took', 'asks', 'wb', 'smooth', 'coincide', 'arizona', 'expose', 'rotation', 'jax', 'because', 'fucked', 'quote', 'twister', 'mayan', 'mix', 'tiger', 'rdhorndale', 'asshole', 'servant', 'disaster', 'wee', 'jet', 'chewing', 'rainfall', 'bistro', 'turbine', 'assistant', 'prod', 'mnpdnashville', 'egypt', 'colder', 'do', 'spoke', 'app', 'jealous', 'freestyle', 'cleared', 'scariest', 'bundle', 'abortion', 'covered', 'german', 'kit', 'daughter', 'artistsunited', 'instagram', 'violation', 'board', 'clip', 'arsonist', 'conclusively', 'bradleybrad', 'good', 'vest', 'city', 'nation', 'rea', 'row', 'helpline', 'message', 'volunteer', 'catfish', 'transfer', 'scientist', 'june', 'zero', 'grove', 'whipped', 'nb', 'external', 'mad', 'late', 'investigation', 'scout', 'upheaval', 'derailment', 'chile', 'alcohol', 'stomach', 'blanket', 'wouldemolish', 'vehicle', 'retweet', 'bankstown', 'animal', 'replace', 'kashmir', 'sweden', 'maintenance', 'editor', 'quest', 'gbbo', 'evolve', 'freaking', 'palestinian', 'arnhem', 'finishing', 'prefer', 'started', 'enugu', 'spain', 'throwingknifes', 'disco', 'lately', 'andy', 'mei', 'quartz', 'silent', 'spirit', 'meltdown', 'epilepsy', 'warne', 'acted', 'i', 'enemy', 'surge', 'suddenly', 'idol', 'belongs', 'cj', 'flat', 'evansville', 'cameroon', 'moscow', 'trek', 'mma', 'trunk', 'fat', 'protest', 'gd', 'advisory', 'designed', 'uribe', 'tdp', 'following', 'unfortunately', 'young', 'sprinter', 'arm', 'runner', 'heard', 'askcharley', 'balance', 'label', 'firey', 'standard', 'everyday', 'barrier', 'error', 'fled', 'physical', 'loved', 'blight', 'week', 'electricity', 'hop', 'desolate', 'touched', 'braking', 'japton', 'boxing', 'camilacabello', 'pmarca', 'lead', 'defense', 'car', 'loaded', 'butterfinger', 'nu', 'giving', 'temper', 'attained', 'grain', 'remember', 'impressed', 'creates', 'soak', 'colluded', 'race', 'happily', 'ma', 'dunbar', 'unsuckdcmetro', 'getting', 'ridiculous', 'nhl', 'exchange', 'gerenciatodos', 'timkaine', 'ca', 'friend', 'southdowns', 'malik', 'hot', 'nostril', 'midnight', 'whomever', 'editorial', 'travis', 'fire', 'b', 'interested', 'emotionally', 'hypocrisy', 'bbsp', 'harbor', 'epic', 'pacific', 'crash', 'placing', 'saturn', 'crush', 'slicker', 'solve', 'google', 'diamorfiend', 'ha', 'strategicpatience', 'sit', 'vuitton', 'belt', 'chosen', 'costly', 'wicked', 'hand', 'follower', 'hidden', 'ri', 'im', 'reagan', 'please', 'biological', 'of', 'floor', 'wen', 'blowing', 'move', 'chunk', 'roh', 'juice', 'dealing', 'welcome', 'vgbootcamp', 'helicopter', 'unveiled', 'laois', 'beneath', 'investigating', 'bloody', 'evacuated', 'alexbelloli', 'landslide', 'phone', 'hostageamp', 'hole', 'deed', 'send', 'dryer', 'slam', 'tremor', 'seeing', 'wattpad', 'residential', 'sn', 'voter', 'sale', 'intensity', 'ohh', 'inspired', 'advanced', 'kurdish', 'anyways', 'stylish', 'xb', 'fund', 'castle', 'fennovoima', 'inc', 'impending', 'planet', 'cant', 'thee', 'freakiest', 'dnb', 'festival', 'anger', 'thief', 'southeast', 'sub', 'force', 'loose', 'wfp', 'cable', 'tlc', 'lifetime', 'dt', 'kith', 'corleonedaboss', 'plot', 'team', 'shelli', 'manmade', 'hannaph', 'pakistan', 'reduce', 'trinity', 'care', 'obliterated', 'mama', 'pllolz', 'challenged', 'sto', 'mtvhottest', 'date', 'responding', 'hahahah', 'everyone', 'damage', 'touch', 'avenue', 'lone', 'spring', 'hardy', 'peaceful', 'vacant', 'inst', 'society', 'happy', 'square', 'ability', 'bother', 'hr', 'course', 'ethereal', 'myfitnesspal', 'church', 'ever', 'exited', 'raynbowaffair', 'communication', 'safety', 'flashback', 'leisure', 'tax', 'fuck', 'deadly', 'daytoday', 'float', 'tired', 'jailed', 'delayed', 'wake', 'rail', 'swallowed', 'bp', 'ir', 'gif', 'jordan', 'guided', 'digit', 'meatloving', 'audio', 'shipping', 'alternative', 'strike', 'ghostwriter', 'bound', 'hurt', 'buckle', 'recognize', 'rotten', 'wd', 'throwing', 'permanent', 'figure', 'crew', 'total', 'calling', 'ten', 'keegan', 'cash', 'slower', 'grazed', 'mass', 'oct', 'tf', 'fighting', 'alberta', 'incase', 'vanuatu', 'contain', 'seeker', 'survival', 'ill', 'shipwreck', 'fragile', 'bought', 'laden', 'held', 'meekmill', 'ihhen', 'object', 'kicked', 'encouragement', 'tokyo', 'priest', 'member', 'apple', 'bet', 'sneak', 'nnw', 'save', 'insurer', 'intact', 'oso', 'exposed', 'comment', 'drop', 'be', 'respect', 'minister', 'uk', 'lay', 'watch', 'fully', 'supposed', 'bakeofffriends', 'meal', 'locker', 'talkin', 'created', 'curfew', 'globalwarming', 'football', 'mp', 'eye', 'wwii', 'wwe', 'veteran', 'album', 'association', 'brought', 'patience', 'l', 'heavenly', 'nm', 'rcmp', 'damaged', 'electrocuted', 'ink', 'shania', 'lavenderpoetrycafe', 'tidal', 'navy', 'demonstration', 'oak', 'happen', 'destroy', 'ultimate', 'medicine', 'thank', 'imperfect', 'lee', 'three', 'army', 'cfc', 'folk', 'rider', 'bc', 'powerful', 'letter', 'meant', 'cooking', 'dan', 'hijacking', 'ready', 'ronnie', 'eurotunnel', 'wedn', 'joke', 'winter', 'county', 'hazard', 'piner', 'pot', 'wholesale', 'singing', 'enhanced', 'dad', 'greg', 'outlook', 'visibility', 'rn', 'krefeld', 'basis', 'suffer', 'weston', 'locked', 'confirms', 'picking', 'robot', 'cite', 'recipe', 'million', 'check', 'pick', 'kotaweather', 'freeway', 'gi', 'key', 'cup', 'caitlin', 'emsc', 'mansehra', 'et', 'lizard', 'yellow', 'doubt', 'addict', 'utterly', 'tom', 'sahib', 'voted', 'ww', 'syndrome', 'logan', 'sexual', 'solicitor', 'artificial', 'justin', 'note', 'named', 'firefighter', 'bangin', 'nigeria', 'agrees', 'rioting', 'k', 'abbswinston', 'everything', 'terrorist', 'blessed', 'childhood', 'cdt', 'estate', 'desert', 'reach', 'selling', 'porn', 'posted', 'regional', 'killed', 'friendship', 'pkwy', 'bat', 'hazardous', 'issued', 'coursing', 'penn', 'montetjwitter', 'blunt', 'chicago', 'green', 'unawares', 'poland', 'gone', 'wealth', 'trusting', 'spaceship', 'injury', 'wrecked', 'correction', 'code', 'roanoke', 'quarrel', 'advertised', 'thunder', 'experience', 'felt', 'wish', 'offs', 'holed', 'restive', 'pet', 'captain', 'gt', 'treated', 'regardless', 'bump', 'metric', 'trip', 'fish', 'idk', 'skill', 'inch', 'solitude', 'others', 'poem', 'raw', 'providence', 'warcraft', 'heal', 'cigarette', 'passed', 'volcanoinrussia', 'doe', 'fireman', 'peep', 'winston', 'cleanup', 'reason', 'kyle', 'teaching', 'g', 'chernobyl', 'offroad', 'religion', 'stacey', 'spider', 'yugvani', 'votejktid', 'jimmyfallon', 'championship', 'idc', 'arianagrande', 'inundation', 'komen', 'innocent', 'referring', 'greatbritishbakeoff', 'christian', 'salt', 'pulwama', 'twentynine', 'tale', 'bus', 'omfg', 'ridge', 'cindy', 'promise', 'japn', 'abbott', 'sending', 'sell', 'christmas', 'request', 'restricted', 'kinda', 'brick', 'chip', 'vegetarian', 'allow', 'chesttorso', 'ut', 'catastrophe', 'improvement', 'favor', 'popularmmos', 'cnewslive', 'awkward', 'post', 'crackdown', 'money', 'diving', 'trench', 'raid', 'download', 'arrested', 'guy', 'lil', 'manutd', 'movement', 'moth', 'complex', 'salmon', 'habit', 'hunger', 'toe', 'ttes', 'cold', 'trolley', 'extra', 'pb', 'training', 'mm', 'disrupts', 'not', 'service', 'dtn', 'large', 'aogashima', 'radiation', 'state', 'safer', 'bad', 'load', 'head', 'ford', 'released', 'page', 'eq', 'posting', 'tour', 'york', 'pamela', 'climb', 'hat', 'timeline', 'self', 'opposition', 'grass', 'wouldnt', 'nugget', 'dw', 'sing', 'wmur', 'motion', 'smiling', 'ultimalucha', 'watertown', 'reported', 'saipan', 'gettin', 'added', 'baby', 'wear', 'older', 'safari', 'p', 'edge', 'proof', 'aftershockdelo', 'attention', 'got', 'worrying', 'neil', 'computer', 'outfit', 'declaration', 'harry', 'problem', 'ex', 'pasta', 'placed', 'tumblr', 'snuff', 'ending', 'help', 'make', 'catch', 'ptsdchat', 'surgery', 'hailstorm', 'mac', 'ct', 'shut', 'retro', 'born', 'shedding', 'spreading', 'microsofts', 'leave', 'absolutely', 'germ', 'renison', 'spending', 'coral', 'metlife', 'stuart', 'organic', 'would', 'surfer', 'ianhellfire', 'pan', 'foul', 'rworldnews', 'september', 'lglorg', 'ima', 'gop', 'survived', 'cafire', 'slave', 'cape', 'goldstein', 'knocking', 'snowden', 'annual', 'pickerel', 'tooth', 'upwards', 'range', 'bake', 'lunch', 'aspect', 'specialist', 'bee', 'troll', 'ooh', 'redeemeth', 'mutual', 'pantherattack', 'stress', 'heading', 'smile', 'sport', 'bal', 'toxic', 'nuclear', 'marked', 'fantasy', 'cofounder', 'dubstep', 'judge', 'widespread', 'cocaine', 'teen', 'rey', 'puppy', 'karymsky', 'conflict', 'yall', 'by', 'realise', 'contact', 'mlb', 'insult', 'commute', 'sharing', 'strengthening', 'credit', 'isil', 'cramer', 'roosevelt', 'living', 'mom', 'kick', 'higher', 'philly', 'someone', 'equal', 'permit', 'power', 'made', 'phoenix', 'schedule', 'lightning', 'buck', 'pumpkin', 'king', 'while', 'campus', 'destructive', 'pressed', 'beam', 'contributing', 'exp', 'liberal', 'trubgme', 'carry', 'thrown', 'cheap', 'traveling', 'sinkhole', 'cia', 'infosec', 'drag', 'worker', 'sophie', 'chemical', 'quoted', 'fixed', 'sad', 'image', 'batting', 'student', 'dollar', 'sustainability', 'interesting', 'tc', 'mets', 'moved', 'oun', 'play', 'amid', 'one', 'screenshots', 'paul', 'wednesday', 'london', 'feinstein', 'personally', 'name', 'drake', 'rapper', 'dropping', 'knob', 'report', 'nc', 'can', 'maj', 'spit', 'knock', 'douchebag', 'despite', 'samanthaturne', 'poplar', 'lulgzimbestpicts', 'bubble', 'budget', 'eating', 'socket', 'iraq', 'trick', 'crossed', 'cliff', 'photography', 'brings', 'noaa', 'administration', 'company', 'matter', 'cope', 'underway', 'coping', 'landscape', 'pointing', 'sweetyoung', 'legacy', 'thanku', 'disruptive', 'dedicated', 'ab', 'amp', 'langley', 'group', 'invited', 'concluded', 'anymore', 'stroke', 'tell', 'uranium', 'wheeler', 'predicted', 'cyber', 'searching', 'terror', 'annoying', 'zionist', 'everybody', 'casualty', 'statement', 'firework', 'continually', 'sadly', 'detroit', 'user', 'handbag', 'neck', 'del', 'brave', 'happens', 'fed', 'active', 'linked', 'specimen', 'haram', 'na', 'knight', 'bbcnews', 'milk', 'bancodeseries', 'commit', 'seat', 'seattle', 'tomato', 'crack', 'duty', 'talent', 'hi', 'iii', 'tab', 'silver', 'corp', 'dear', 'exist', 'iran', 'potentially', 'temporary', 'leveled', 'clever', 'rally', 'system', 'siding', 'dog', 'fired', 'georgia', 'cell', 'transport', 'defend', 'pdx', 'task', 'celebration', 'rain', 'hating', 'disorder', 'presence', 'elizabeth', 'witness', 'privacy', 'miyagi', 'chevy', 'johnson', 'vote', 'jack', 'am', 'ap', 'curb', 'fi', 'brother', 'ipad', 'prepares', 'till', 'fr', 'beginning', 'mansion', 'trafford', 'nd', 'israeli', 'opening', 'nyt', 'exploded', 'nazi', 'pitch', 'bullet', 'dick', 'dying', 'sniping', 'mullah', 'idp', 'wouldetonate', 'terrifying', 'buried', 'justifying', 'is', 'stay', 'plummeted', 'dieplease', 'progressive', 'brewing', 'xl', 'stick', 'attractive', 'upset', 'claimed', 'govt', 'counter', 'aquarium', 'coahuila', 'rating', 'teamhendrick', 'remorse', 'playing', 'eu', 'okinawa', 'phase', 'cr', 'vaccine', 'refund', 'mid', 'journalist', 'derails', 'currently', 'growing', 'turkey', 'greenway', 'drifting', 'india', 'videoveranomtv', 'anybody', 'briton', 'endangered', 'middle', 'epidemic', 'element', 'mattson', 'yahoo', 'answer', 'chris', 'bedroom', 'costlier', 'shower', 'countynews', 'landfall', 'setting', 'simulate', 'adding', 'km', 'mary', 'nan', 'ancient', 'open', 'twin', 'sometimes', 'planning', 'weekend', 'expense', 'jim', 'morgan', 'foxnew', 'bare', 'rockin', 'shanghai', 'thisiswhywecanthavenicethings', 'headed', 'patrick', 'capsized', 'northwest', 'support', 'manufactured', 'wpt', 'close', 'earned', 'preservation', 'infectious', 'sitting', 'fir', 'longterm', 'cta', 'particularly', 'nato', 'auto', 'geneva', 'mx', 'material', 'newsintweets', 'vi', 'perspective', 'natural', 'fwy', 'yep', 'adventure', 'comparison', 'mandatory', 'utc', 'sea', 'double', 'ear', 'super', 'logistics', 'wi', 'honestly', 'nicki', 'fool', 'atm', 'rice', 'microlight', 'mention', 'overtime', 'grateful', 'compliant', 'doll', 'eb', 'reckless', 'hysteria', 'tan', 'collapse', 'terrible', 'squad', 'vice', 'davidvonderhaar', 'fence', 'nikeplus', 'californian', 'msf', 'the', 'eudrylantiqua', 'nema', 'usually', 'mistreated', 'refuse', 'majority', 'wind', 'release', 'destroys', 'non', 'wedaugth', 'supernatural', 'diverse', 'lot', 'postbattle', 'tip', 'prior', 'hail', 'xxx', 'hella', 'eastward', 'csx', 'vessel', 'cam', 'queen', 'yougov', 'esp', 'design', 'rapidcity', 'current', 'camera', 'engage', 'piece', 'involved', 'obama', 'vine', 'myself', 'soldier', 'smart', 'wwi', 'chilling', 'in', 'gallipoli', 'happened', 'abomb', 'asf', 'sensorsenso', 'kissed', 'lith', 'commercial', 'isnt', 'version', 'londonfire', 'etisalat', 'madhya', 'supreme', 'cyclone', 'logic', 'ban', 'yankee', 'get', 'nw', 'coffee', 'cdc', 'explain', 'client', 'm', 'going', 'obliterate', 'include', 'marians', 'bunch', 'headline', 'repay', 'strategy', 'fist', 'bmw', 'karachi', 'efak', 'crashing', 'he', 'sicily', 'fella', 'furious', 'best', 'home', 'lego', 'cartoon', 'gunsense', 'port', 'firefighting', 'brazilian', 'hip', 'rexyy', 'totaling', 'explodes', 'drone', 'zipper', 'goku', 'on', 'leaf', 'geometric', 'flight', 'teenager', 'private', 'faith', 'detonation', 'intensifies', 'tryna', 'hardly', 'legal', 'idea', 'feature', 'invest', 'destroyer', 'temple', 'quality', 'proud', 'shaw', 'carlos', 'tsunamiesh', 'hasbro', 'returned', 'see', 'hopefully', 'yycstorm', 'let', 'manchester', 'realmandyrain', 'installation', 'dat', 'val', 'microphone', 'bend', 'crusty', 'mod', 'structure', 'thurs', 'scott', 'mining', 'book', 'fruit', 'changing', 'palm', 'hunter', 'aniston', 'fallen', 'coast', 'instruction', 'til', 'yelling', 'heroine', 'develop', 'us', 'sharp', 'gusty', 'basic', 'author', 'wow', 'wrap', 'tension', 'mexico', 'sorrow', 'unique', 'fbi', 'pkk', 'gta', 'excited', 'arabian', 'appears', 'bookboost', 'waste', 'zionism', 'reopens', 'weathernetwork', 'grey', 'patna', 'devastation', 'pdp', 'enormous', 'panic', 'italian', 'mh', 'grande', 'mean', 'jhaustin', 'trail', 'fair', 'bastard', 'jonathanferrell', 'traditional', 'iphone', 'caused', 'badge', 'off', 'bed', 'crap', 'signing', 'meeting', 'drink', 'breathe', 'gaining', 'youre', 'aware', 'joe', 'his', 'modified', 'stream', 'click', 'township', 'mosque', 'people', 'freespeech', 'sinking', 'thuggin', 'favorite', 'syria', 'charity', 'sign', 'copycat', 'every', 'alright', 'anxious', 'bundled', 'nah', 'hobbit', 'multi', 'pressure', 'alarmed', 'punjab', 'striking', 'fourth', 'wheel', 'squirrel', 'lock', 'hype', 'stamp', 'looter', 'grandpa', 'run', 'weakness', 'market', 'looking', 'mississauga', 'pattonoswalt', 'yea', 'grenade', 'disappearance', 'ally', 'explosion', 'faroeislands', 'street', 'cruz', 'frontpage', 'outdoor', 'rid', 'fkn', 'principle', 'nuke', 'inevitably', 'detectado', 'parenthood', 'cherokee', 'cuz', 'tsunami', 'bangladesh', 'fossil', 'raung', 'youll', 'collins', 'elevated', 'visit', 'victory', 'volga', 'michelebachman', 'okanagan', 'whao', 'feared', 'structural', 'atlantic', 'earring', 'rule', 'and', 'notice', 'niece', 'backpack', 'today', 'management', 'pinpoint', 'genocide', 'size', 'english', 'noticed', 'mountain', 'admin', 'disappeared', 'sky', 'eaten', 'keratin', 'racist', 'distinct', 'goal', 'dreaming', 'e', 'yonews', 'drool', 'youngheroesid', 'wom', 'charles', 'violence', 'wealthy', 'di', 'ask', 'riversiskiyou', 'rb', 'source', 'park', 'increased', 'starter', 'ltlt', 'heartwarming', 'xoxo', 'exclusive', 'deadliest', 'expensive', 'puncture', 'university', 'parker', 'drove', 'director', 'bird', 'technology', 'anellatulip', 'august', 'plate', 'pillow', 'nursing', 'legio', 'elite', 'bruise', 'cyprus', 'flag', 'houston', 'temp', 'demolition', 'coworker', 'beat', 'neighbor', 'kombat', 'wreckage', 'boy', 'anything', 'applies', 'diaporama', 'jake', 'ops', 'quarantine', 'hello', 'biggest', 'damn', 'soft', 'dublin', 'tried', 'advice', 'medieval', 'shoe', 'recording', 'travelling', 'oh', 'snowball', 'faan', 'shooter', 'apart', 'justinbieber', 'julie', 'comedy', 'cu', 'waterway', 'henry', 'boyfriend', 'hell', 'suruc', 'club', 'charging', 'pedestrian', 'usnwsgov', 'escaping', 'ki', 'fatal', 'niall', 'strain', 'cupcake', 'dragon', 'fortunately', 'sosfam', 'yeah', 'fold', 'listenlive', 'discussion', 'snapchat', 'snap', 'type', 'environmental', 'express', 'bagging', 'fact', 'id', 'starring', 'survivor', 'instant', 'fettilootch', 'zippednews', 'coil', 'itsjustinstuart', 'sparked', 'pre', 'demolished', 'oregon', 'experienced', 'skinny', 'wasnt', 'feast', 'legit', 'summit', 'magner', 'none', 'featured', 'distributed', 'dm', 'footage', 'andrew', 'autoinsurance', 'ended', 'chan', 'oops', 'cdcgov', 'occasion', 'normal', 'deliver', 'asap', 'outbid', 'hearthstone', 'scared', 'sham', 'human', 'reuters', 'po', 'tin', 'railway', 'tuesday', 'babe', 'joneskyle', 'garden', 'bengal', 'pin', 'drown', 'uploading', 'dating', 'listen', 'navbl', 'important', 'tough', 'kiev', 'marshall', 'death', 'burned', 'accused', 'reduced', 'doc', 'nda', 'approval', 'demolish', 'moyo', 'popular', 'surf', 'upgrading', 'cow', 'rejected', 'dr', 'guatemala', 'rossum', 'anthrax', 'xv', 'techesback', 'winner', 'earner', 'crazy', 'earth', 'kendall', 'massive', 'paper', 'low', 'continue', 'follow', 'recall', 'dignity', 'nurse', 'glass', 'bjp', 'attic', 'yobe', 'afc', 'passing', 'dorrets', 'usagov', 'backup', 'el', 'democracy', 'stockton', 'cancelled', 'earnings', 'prediction', 'slow', 'sw', 'fatality', 'serve', 'hostage', 'liability', 'slammed', 'eruption', 'marker', 'darkness', 'rescuer', 'lous', 'yorker', 'backyard', 'delivers', 'heel', 'usual', 'cooler', 'norman', 'selfies', 'broad', 'roger', 'virgin', 'nap', 'truck', 'abuse', 'shot', 'hers', 'danger', 'cain', 'reid', 'airport', 'mcmahon', 'remembering', 'ag', 'info', 'protection', 'tape', 'mourning', 'abandon', 'sister', 'psalm', 'cnbc', 'fam', 'cotton', 'lemon', 'worst', 'calgary', 'atmospheric', 'destiny', 'engineer', 'promote', 'sunny', 'evacuating', 'jones', 'revolution', 'charger', 'cobra', 'war', 'tracking', 'simple', 'abcnews', 'sheriff', 'layout', 'base', 'pretty', 'jupiter', 'painting', 'picture', 'apparently', 'boston', 'njturnpike', 'motorcraft', 'bass', 'seal', 'baruch', 'troy', 'pcp', 'financing', 'katherines', 'challenge', 'quarantined', 'laundry', 'hw', 'worldnetdaily', 'slanglucci', 'lamp', 'auckland', 'kodiak', 'repatriated', 'lasting', 'hear', 'certificate', 'hard', 'blowmandyup', 'dundee', 'wwwcbplawyers', 'sj', 'odeon', 'michele', 'film', 'ash', 'blizzard', 'caution', 'latestnews', 'sanctioned', 'begin', 'east', 'fm', 'derailed', 'soaking', 'sibling', 'nowplaying', 'sassy', 'coach', 'somebody', 'louis', 'west', 'investigator', 'commonwealth', 'autumn', 'scare', 'tgirl', 'nuff', 'illness', 'passenger', 'buff', 'halifax', 'block', 'unhappiness', 'gotten', 'bulletin', 'spot', 'dijk', 'megynkelly', 'torch', 'gained', 'uniform', 'level', 'email', 'hunk', 'exactly', 'redhanded', 'overwork', 'newyorker', 'detained', 'flood', 'shop', 'jasmine', 'victim', 'insight', 'table', 'shark', 'dj', 'swing', 'cbc', 'disappear', 'half', 'workplace', 'crematorium', 'this', 'sounding', 'freedom', 'charlotte', 'romance', 'stopped', 'eat', 'opp', 'school', 'espn', 'piling', 'taken', 'china', 'liveonk', 'stephen', 'leather', 'publicizing', 'allowed', 'stereo', 'centipede', 'will', 'rd', 'kuwait', 'sin', 'tune', 'tonto', 'holding', 'rev', 'screen', 'result', 'license', 'avoid', 'feelin', 'ugh', 'runway', 'swear', 'goat', 'brand', 'graveyard', 'arrest', 'increasing', 'pendleton', 'lady', 'sensor', 'life', 'cinema', 'respond', 'tram', 'janaq', 'music', 'rome', 'chelsea', 'day', 'illegal', 'midwest', 'compound', 'btw', 'wounded', 'occurs', 'illinois', 'blog', 'bang', 'cute', 'god', 'allows', 'letsfootball', 'massmurderer', 'speed', 'fraction', 'ibooklove', 'northland', 'ripple', 'bathroom', 'mechanical', 'background', 'worked', 'frontline', 'previously', 'cd', 'handle', 'trust', 'capacity', 'stock', 'gtgtgt', 'seen', 'responder', 'opus', 'miner', 'toll', 'slate', 'shaker', 'witch', 'marquei', 'shall', 'also', 'emotion', 'alert', 'attempt', 'oppression', 'twitter', 'manager', 'tree', 'tubestrike', 'accuses', 'cafe', 'dolphin', 'completed', 'buddy', 'grade', 'doublecups', 'water', 'knoxville', 'official', 'trading', 'surely', 'icemoon', 'variety', 'purple', 'abusing', 'scottwalker', 'jacket', 'hitting', 'harmkid', 'vampiro', 'relive', 'jennifer', 'serial', 'flame', 'sue', 'lauren', 'omg', 'magisters', 'de', 'listing', 'chill', 'broadway', 'clearly', 'clean', 'summertime', 'awesome', 'nri', 'driven', 'reject', 'african', 'teeth', 'mooresville', 'irony', 'criminal', 'tempered', 'mercy', 'atmosphere', 'apocalyptic', 'ferry', 'familia', 'dothraki', 'hybrid', 'pivot', 'professional', 'blizzheroes', 'acdelco', 'risk', 'raining', 'acc', 'mountaineering', 'handling', 'officer', 'toilet', 'pain', 'boot', 'out', 'invalid', 'acre', 'underwater', 'brady', 'republican', 'safe', 'trump', 'tampa', 'stuck', 'word', 'infinity', 'pls', 'nylon', 'trapmusic', 'recorded', 'bug', 'scifi', 'captured', 'theyre', 'reactor', 'supervisor', 'pileup', 'battered', 'liable', 'deputy', 'acquisition', 'unrelenting', 'dark', 'shira', 'pill', 'indoors', 'embroidered', 'political', 'montgomery', 'bless', 'security', 'summary', 'colorado', 'find', 'entering', 'two', 'stage', 'glenn', 'shocked', 'freak', 'hawaii', 'raised', 'theory', 'black', 'friday', 'bestseller', 'series', 'prosyn', 'cadfyi', 'tide', 'min', 'sooo', 'slipped', 'q', 'pas', 'pony', 'jail', 'motor', 'poorly', 'maketh', 'gift', 'genuine', 'meinlcymbals', 'age', 'lowly', 'scream', 'mortal', 'print', 'climate', 'beyonce', 'afternoon', 'brain', 'area', 'waist', 'dance', 'threw', 'ok', 'mat', 'wrist', 'favs', 'reporting', 'population', 'ross', 'grandeur', 'hooligan', 'thousand', 'sure', 'abia', 'difference', 'airplane', 'cheat', 'prabhu', 'magnum', 'brit', 'xbox', 'welfare', 'httpt', 'honest', 'greek', 'crystal', 'fighter', 'igers', 'cali', 'schwarber', 'jan', 'projected', 'blocked', 'williams', 'gamergate', 'fieg', 'steve', 'fake', 'sent', 'unr', 'scuf', 'aw', 'hour', 'monitoring', 'dante', 'bounty', 'apc', 'planned', 'famine', 'arriving', 'accident', 'happiness', 'yr', 'ja', 'newyork', 'being', 'vietnamese', 'fell', 'haha', 'shook', 'extender', 'stretcher', 'crowd', 'operation', 'bill', 'tank', 'guide', 'responded', 'andor', 'feeling', 'sarah', 'uncle', 'sydney', 'wireless', 'razing', 'expand', 'website', 'moon', 'weed', 'united', 'recycling', 'hoping', 'nepal', 'nobody', 'naved', 'period', 'laid', 'speak', 'collective', 'nixon', 'uganda', 'holland', 'injured', 'kid', 'voice', 'calif', 'dvd', 'propertycasualty', 'responsibility', 'canada', 'possible', 'weallheartonedirection', 'connector', 'bn', 'break', 'c', 'chain', 'redlight', 'aug', 'multiplayer', 'ironic', 'november', 'mudslide', 'wildhorses', 'accustomed', 'mt', 'civilian', 'overnight', 'ghost', 'torching', 'virgil', 'anthony', 'plus', 'next', 'showing', 'ball', 'elephant', 'max', 'amageddon', 'curved', 'murderous', 'rohingya', 'heartless', 'blessing', 'entrepreneur', 'still', 'gridlock', 'volleyball', 'fast', 'spectacular', 'mc', 'syrian', 'midsouth', 'strict', 'fee', 'brighton', 'lance', 'ipod', 'israel', 'vid', 'wed', 'leader', 'simply', 'girlfriend', 'campfire', 'citizen', 'clock', 'grabber', 'wtf', 'annihilated', 'land', 'throwback', 'messed', 'delta', 'parley', 'nytimes', 'heat', 'geyser', 'given', 'fur', 'combat', 'person', 'provide', 'treatment', 'expect', 'ft', 'rohnertparkdps', 'buffer', 'playlist', 'battling', 'ar', 'tent', 'banned', 'personal', 'indiannews', 'done', 'browser', 'ergo', 'sweep', 'cowboy', 'lonewolffur', 'dorret', 'hunt', 'robotrainstorm', 'stout', 'blazing', 'crashed', 'demonstratio', 'public', 'sand', 'pm', 'institute', 'mediterran', 'ovofest', 'mikeparractor', 'leo', 'karma', 'stuff', 'hit', 'sean', 'rockyfire', 'mile', 'salem', 'sixmeter', 'article', 'read', 'feminist', 'sample', 'offensive', 'downpour', 'sunni', 'meter', 'standing', 'mishacollins', 'way', 'pushing', 'flattened', 'transporting', 'else', 'casperrmg', 'scwx', 'final', 'bu', 'calorie', 'turned', 'xd', 'launch', 'whitbourne', 'bank', 'consequence', 'fear', 'rich', 'unavoidable', 'scorpion', 'shutdown', 'regret', 'beforeitsnews', 'globe', 'guaranteed', 'marvel', 'false', 'duck', 'starting', 'verdict', 'brooklyn', 'killing', 'thriller', 'boat', 'pipe', 'reacted', 'outlet', 'gtii', 'northern', 'mine', 'bride', 'trouble', 'bit', 'royal', 'bored', 'conference', 'metro', 'impulse', 'reportedly', 'especially', 'always', 'minecraft', 'cracking', 'rise', 'respected', 'cancel', 'success', 'atlanta', 'via', 'nagasaki', 'beard', 'hood', 'fucking', 'decent', 'sailing', 's', 'ur', 'lebanon', 'kosciusko', 'libya', 'recently', 'program', 'dey', 'finger', 'bioterrorism', 'asian', 'godslove', 'swimming', 'whats', 'acting', 'update', 'match', 'debatequestionswewanttohear', 'rare', 'impressive', 'nosurrender', 'milkshake', 'brooke', 'concern', 'latino', 'theater', 'omega', 'awaits', 'icymi', 'shantae', 'droid', 'legislation', 'monster', 'youve', 'happening', 'tomcatarts', 'specific', 'venezuela', 'meet', 'prebreak', 'voodoo', 'jam', 'use', 'bitcoin', 'trace', 'chose', 'practice', 'croat', 'probably', 'fest', 'integrity', 'gtfo', 'wall', 'bernardino', 'wmv', 'fog', 'wont', 'kidnapped', 'party', 'actor', 'dwarf', 'watching', 'pathogen', 'paramedic', 'vision', 'blast', 'kaduna', 'canberra', 'noncompliant', 'honor', 'tease', 'removal', 'asylum', 'scheme', 'limited', 'unnecessary', 'connection', 'domestic', 'electrical', 'appreciated', 'core', 'kindle', 'dlh', 'dental', 'twovehicle', 'taylor', 'stewart', 'rape', 'special', 'tilnow', 'ouvindo', 'traffic', 'derby', 'geller', 'walmart', 'cum', 'torture', 'excuse', 'monkey', 'birthday', 'stepped', 'real', 'confirmation', 'conquest', 'cabin', 'leak', 'march', 'hospital', 'exit', 'associated', 'islamic', 'debt', 'entertainment', 'side', 'cryptic', 'interstate', 'replacing', 'standwithpp', 'jacksonville', 'camping', 'mutant', 'egged', 'knew', 'looting', 'chicken', 'amirite', 'hinton', 'exploration', 'detail', 'memorial', 'nut', 'when', 'yahistorical', 'electric', 'question', 'brazil', 'aviation', 'screw', 'burn', 'yazidis', 'pack', 'apartment', 'estimated', 'rightways', 'waimate', 'surrender', 'cairo', 'dust', 'sandy', 'hall', 'admits', 'event', 'te', 'marijuana', 'northeast', 'relax', 'lgbt', 'surrounded', 'define', 'channel', 'surprised', 'dirt', 'ac', 'alloy', 'again', 'athlete', 'cycling', 'suck', 'crown', 'store', 'clash', 'senator', 'warn', 'albany', 'softenza', 'expecting', 'senior', 'try', 'mud', 'shared', 'ii', 'environment', 'microsoft', 'windy', 'failed', 'savebees', 'mohammed', 'dangerous', 'something', 'khan', 'trend', 'flow', 'rock', 'complete', 'sewing', 'lez', 'decade', 'describing', 'dinner', 'keep', 'kiss', 'nigga', 'fortune', 'dye', 'evening', 'belonged', 'recreates', 'juliedicaro', 'explode', 'island', 'pres', 'device', 'colour', 'whitehouse', 'fyi', 'custer', 'asics', 'negative', 'near', 'lava', 'cyclist', 'trapped', 'jamesmelville', 'our', 'benefit', 'yazidi', 'radio', 'division', 'cheyenne', 'extreme', 'test', 'strange', 'cause', 'gateau', 'suryaray', 'rtamerica', 'patch', 'poll', 'battleship', 'steel', 'dis', 'cbs', 'casual', 'talkradio', 'spend', 'jon', 'halt', 'network', 'yesterday', 'outage', 'over', 'fresh', 'abomination', 'flooding', 'pa', 'say', 'ambulance', 'spread', 'talking', 'contained', 'weakening', 'dropped', 'johannesburg', 'labour', 'fart', 'neighbour', 'indi', 'heavy', 'chief', 'politics', 'horse', 'sexy', 'card', 'belief', 'cnews', 'saw', 'opera', 'already', 'doctor', 'belly', 'sympathy', 'ryan', 'maintain', 'military', 'specie', 'thinking', 'faced', 'blind', 'displaced', 'bail', 'analysis', 'briefing', 'relief', 'tuned', 'shocking', 'inner', 'located', 'euro', 'pleasure', 'performance', 'hipster', 'enjoying', 'ruined', 'order', 'individual', 'blown', 'buddha', 'teacher', 'pregnant', 'sink', 'noted', 'rolling', 'marine', 'dorman', 'wait', 'dvc', 'plaguing', 'hampshire', 'accept', 'locomotive', 'michael', 'spear', 'anchorage', 'dead', 'incredible', 'dare', 'loan', 'baltimore', 'revenue', 'little', 'increase', 'concept', 'missed', 'derivative', 'view', 'garbage', 'nose', 'cawx', 'swim', 'clueless', 'hiroshima', 'cared', 'kept', 'declared', 'anti', 'committee', 'sentinel', 'proxy', 'nightmare', 'owner', 'vulnerable', 'choice', 'unconfirmed', 'cart', 'playoff', 'deck', 'billneelynbc', 'rpics', 'franklin', 'arrive', 'sound', 'think', 'walk', 'prepper', 'atk', 'eyewitness', 'trillion', 'evacuation', 'destroying', 'quick', 'round', 'faceless', 'trancy', 'hannemans', 'u', 'fashionable', 'stronger', 'incident', 'oper', 'lung', 'thin', 'ugly', 'relentless', 'greedy', 'seagull', 'time', 'joining', 'tropical', 'exchanging', 'aa', 'stats', 'cm', 'bell', 'rate', 'pakpattan', 'moore', 'river', 'primary', 'james', 'track', 'pradesh', 'pundit', 'door', 'construction', 'just', 'bts', 'gambit', 'surrounding', 'law', 'michaelsos', 'throat', 'target', 'discovered', 'count', 'guardian', 'grand', 'violent', 'formed', 'activated', 'wing', 'muscle', 'apt', 'pp', 'nearly', 'have', 'suspense', 'spark', 'starbucks', 'paved', 'were', 'now', 'frontlines', 'known', 'man', 'heroin', 'there', 'thankfully', 'socialmedia', 'produced', 'decided', 'danisnotonfire', 'ted', 'faulty', 'crisis', 'provoke', 'blutz', 'pc', 'buying', 'grab', 'rescue', 'hundred', 'ontario', 'pool', 'live', 'lake', 'skanndtyagi', 'diesis', 'washed', 'suppose', 'headquarters', 'ben', 'boeing', 'unknown', 'premier', 'cock', 'maryland', 'lying', 'tumbling', 'nasty', 'mail', 'compete', 'fukushima', 'guilty', 'mount', 'software', 'groom', 'since', 'personnel', 'ruining', 'yo', 'coaster', 'status', 'had', 'ig', 'hyderabad', 'visto', 'boundary', 'term', 'pisgah', 'mf', 'dems', 'okwx', 'conservative', 'laughing', 'shelter', 'freezing', 'korea', 'lawsuit', 'circle', 'cherry', 'controlled', 'boko', 'solo', 'red', 'ripped', 'suicide', 'outrage', 'unlocked', 'brigade', 'learn', 'cbsbigbrother', 'kanye', 'add', 'digging', 'premium', 'donation', 'iranian', 'feel', 'sa', 'threatening', 'cuff', 'signed', 'snow', 'dont', 'rt', 'ukraine', 'tablet', 'imagine', 'soudelors', 'meme', 'spur', 'ctd', 'bypass', 'tube', 'coverage', 'myanmar', 'positive', 'grow', 'aggressive', 'pace', 'capsizes', 'diablo', 'purse', 'earlier', 'guillermo', 'mineral', 'flying', 'upgraded', 'emotional', 'cheese', 'though', 'escape', 'palestine', 'sense', 'aid', 'case', 'bright', 'sittwe', 'sony', 'confirm', 'municipal', 'mido', 'hobo', 'wonderful', 'lowndes', 'yes', 'tennessee', 'harwich', 'coal', 'galactic', 'experiment', 'mchenry', 'maybe', 'cleveland', 'terrorism', 'indifference', 'cord', 'renewhealth', 'taught', 'platform', 'angeles', 'slightly', 'architect', 'sketch', 'wrapped', 'announcement', 'wo', 'extremely', 'cat', 'region', 'exercised', 'north', 'paint', 'rspca', 'south', 'choose', 'tyler', 'ptsd', 'as', 'bottle', 'resulted', 'mega', 'then', 'lip', 'machine', 'gmmbc', 'forsure', 'obviously', 'driving', 'much', 'inspiring', 'stunned', 'van', 'virus', 'enjoy', 'metrofmtalk', 'valley', 'denmark', 'wa', 'fav', 'dancer', 'slip', 'sac', 'warned', 'server', 'vegetable', 'liberty', 'photo', 'mill', 'sixth', 'kca', 'address', 'pic', 'kiernan', 'difficult', 'jacque', 'apply', 'devastated', 'score', 'jamaica', 'entire', 'gordon', 'survive', 'cost', 'amsterdam', 'al', 'profit', 'really', 'title', 'barry', 'electronic', 'selfie', 'directioners', 'reunion', 'physician', 'homie', 'delete', 'prisoner', 'loses', 'shia', 'native', 'greece', 'circuit', 'homerescuers', 'horrific', 'easily', 'exc', 'better', 'route', 'hiding', 'pennington', 'reflects', 'origin', 'pissed', 'wilshere', 'rihanna', 'todd', 'item', 'court', 'existence', 'northwestern', 'wht', 'gilbert', 'tunnel', 'sold', 'dame', 'irandeal', 'sportwatch', 'fouseytube', 'hate', 'sweater', 'finally', 'build', 'rat', 'estimate', 'studio', 'formation', 'letting', 'counselor', 'hashtag', 'infoorder', 'phantom', 'laugh', 'instead', 'mall', 'panel', 'threat', 'linkury', 'fan', 'protector', 'richard', 'spos', 'product', 'perfect', 'lion', 'oped', 'insas', 'stupid', 'found', 'gameplay', 'arsenal', 'hwy', 'easy', 'grew', 'nasasolarsystem', 'mourns', 'gr', 'theatre', 'rio', 'realized', 'lightening', 'sleeping', 'bin', 'approaching', 'collapsed', 'measurement', 'chick', 'character', 'okay', 'thankful', 'db', 'ferguson', 'seduction', 'electro', 'follows', 'tied', 'preview', 'worth', 'headphone', 'llf', 'ty', 'building', 'lord', 'second', 'holiday', 'mb', 'barack', 'punished', 'cruise', 'lonely', 'luka', 'lover', 'palermo', 'away', 'peak', 'hahaha', 'riyadh', 'famous', 'bull', 'listening', 'truly', 'record', 'plunging', 'hd', 'latimes', 'beginner', 'murdered', 'rap', 'learned', 'recommend', 'domain', 'mo', 'common', 'remains', 'thisizbwright', 'ppl', 'holy', 'obliteration', 'agreed', 'paris', 'antioch', 'billing', 'kingdom', 'instantly', 'vietnam', 'milwaukee', 'socialism', 'priceless', 'distance', 'psychiatric', 'wocowae', 'progress', 'seismic', 'cree', 'present', 'mediterranean', 'af', 'previous', 'fatally', 'contrast', 'aim', 'horror', 'latin', 'ankle', 'extensive', 'bleeding', 'rioter', 'account', 'dam', 'chaos', 'forbes', 'rush', 'show', 'slayer', 'tonight', 'online', 'allegation', 'contract', 'research', 'george', 'engulfed', 'inside', 'star', 'mike', 'nh', 'ohio', 'a', 'x', 'netanyahu', 'outta', 'patient', 'protectdenaliwolves', 'air', 'weather', 'arsonistmusic', 'zayn', 'told', 'samaritan', 'japanese', 'spencer', 'downtown', 'throw', 'australian', 'responsible', 'mercados', 'planted', 'example', 'updated', 'alp', 'correct', 'all', 'somalia', 'showcase', 'impacted', 'pam', 'attacked', 'comp', 'buy', 'small', 'history', 'fleet', 'flew', 'internally', 'bioterror', 'fly', 'bro', 'gravel', 'originalfunko', 'wreck', 'refugee', 'viralspell', 'rear', 'artist', 'sf', 'thats', 'trusty', 'prayer', 'coat', 'elbow', 'window', 'numbered', 'ian', 'sleep', 'hatchetwielding', 'snd', 'transformation', 'openly', 'description', 'medium', 'morning', 'med', 'election', 'big', 'gay', 'price', 'asking', 'medical', 'awwww', 'scotland', 'utter', 'kalle', 'turning', 'past', 'magic', 'everytime', 'sore', 'sinjar', 'camper', 'cladding', 'inec', 'pickup', 'vancouver', 'modiministry', 'triple', 'conversation', 'needed', 'rocket', 'wrought', 'favourite', 'beautiful', 'file', 'precious', 'desire', 'silence', 'required', 'buffalo', 'en', 'ironically', 'occupant', 'nyc', 'screamqueens', 'deserve', 'main', 'perquisite', 'spray', 'omars', 'father', 'rayner', 'dozen', 'era', 'historic', 'avoiding', 'ya', 'aoms', 'edition', 'jumped', 'palin', 'gunshot', 'box', 'bite', 'search', 'bluedio', 'left', 'bruh', 'utckm', 'forgive', 'surface', 'family', 'journal', 'lorry', 'married', 'style', 'gym', 'brian', 'responds', 'sg', 'powerlines', 'portion', 'bolster', 'salvadoran', 'interest', 'involving', 'yyc', 'remembered', 'smash', 'vacation', 'sixpenceee', 'weight', 'brown', 'dannyonpc', 'without', 'meg', 'evanston', 'luis', 'abc', 'nasahurricane', 'broke', 'co', 'typical', 'nike', 'writer', 'columbia', 'st', 'devalue', 'rainier', 'tryout', 'journalism', 'typo', 'data', 'apollobrown', 'pirate', 'at', 'tr', 'to', 'peterjukes', 'afterlife', 'abused', 'indonesia', 'healthy', 'tb', 'fierce', 'nickcocofree', 'bummer', 'gn', 'writing', 'premiere', 'illustration', 'gpm', 'sunday', 'hilarious', 'luck', 'sampling', 'dystopian', 'lyric', 'himalaya', 'map', 'upper', 'nearby', 'matthew', 'islam', 'cue', 'thy', 'attack', 'diver', 'col', 'gtgt', 'southbound', 'aussie', 'reef', 'coyote', 'purchase', 'continued', 'go', 'crane', 'donate', 'longs', 'loos', 'flooded', 'wbioterrorismampuse', 'sandiego', 'probe', 'mark', 'herself', 'utv', 'trying', 'amazing', 'clutch', 'dealbreaker', 'wither', 'afraid', 'bumper', 'settle', 'zombie', 'proceeds', 'prevention', 'applaud', 'finnish', 'subreddits', 'making', 'served', 'connectorconnecto', 'tribal', 'insurance', 'love', 'acquire', 'otrametlife', 'gabon', 'addition', 'trash', 'mgm', 'giveaway', 'greenharvard', 'losing', 'plenty', 'mariah', 'evacuate', 'ive', 'solar', 'shes', 'arwx', 'weapon', 'sanction', 'fueling', 'drug', 'largest', 'option', 'where', 'ahh', 'squeeze', 'month', 'england', 'crushed', 'destruction', 'wide', 'sm', 'stressful', 'forget', 'justice', 'thigh', 'tory', 'alaska', 'reminder', 'ablaze', 'avenger', 'jackson', 'oklahomaok', 'drama', 'vip', 'cook', 'blvd', 'toddler', 'waving', 'condolence', 'reaching', 'phil', 'resource', 'tag', 'section', 'signup', 'controller', 'rutherford', 'hiring', 'raynor', 'constant', 'alive', 'devil', 'jedi', 'rene', 'san', 'america', 'beyhive', 'wet', 'argument', 'md', 'chronicle', 'considering', 'floyds', 'disease', 'perfectly', 'restore', 'content', 'league', 'dope', 'strongly', 'sct', 'glad', 'warning', 'fevwarrior', 'an', 'drum', 'huffman', 'iredell', 'night', 'mum', 'autobiography', 'kidnap', 'scandal', 'lmfaoooo', 'vods', 'gel', 'stir', 'agree', 'union', 'foot', 'auth', 'psa', 'neighborhood', 'rickperry', 'spanish', 'dove', 'jewelry', 'endorses', 'mistake', 'sp', 'mic', 'denver', 'dq', 'front', 'look', 'bloomberg', 'cod', 'income', 'joint', 'console', 'funny', 'swarm', 'massacrehttptcolvlhwawoantiochhttptcoviwxyxdyk', 'lose', 'understand', 'removing', 'woke', 'soudelor', 'weekold', 'rightwaystan', 'socialnews', 'managed', 'census', 'egg', 'forced', 'theological', 'spaniel', 'deluge', 'wouldemocracy', 'invasion', 'candy', 'triggered', 'allah', 'beach', 'prison', 'settlement', 'totally', 'demand', 'catching', 'derail', 'far', 'setlist', 'barely', 'psychological', 'hotel', 'bluetooth', 'wife', 'both', 'survey', 'walked', 'minority', 'spill', 'forgiven', 'announces', 'miss', 'bieber', 'chat', 'relationship', 'fit', 'blacklivesmatter', 'wx', 'pray', 'bore', 'work', 'quake', 'bay', 'routecomplex', 'brisk', 'warming', 'simultaneous', 'trap', 'cameo', 'madison', 'procedure', 'share', 'julian', 'charged', 'rudd', 'birmingham', 'jay', 'him', 'isi', 'weird', 'lawrence', 'attacking', 'kitten', 'migrant', 'aust', 'av', 'overturn', 'know', 'meaning', 'fez', 'rammed', 'critical', 'rifle', 'naval', 'walking', 'issue', 'minaj', 'decor', 'kindness', 'robert', 'offensivecontent', 'demi', 'gust', 'heart', 'saying', 'bash', 'vibez', 'arent', 'disney', 'healing', 'maria', 'mini', 'debris', 'encounter', 'crude', 'hurry', 'agency', 'inundated', 'jean', 'gary', 'reno', 'ocean', 'bigamist', 'response', 'recommended', 'salvis', 'kenya', 'written', 'bomber', 'flower', 'massacre', 'obispo', 'blame', 'hamilton', 'zouma', 'matching', 'sharethis', 'we', 'darkest', 'asleep', 'into', 'bid', 'photoset', 'imported', 'district', 'swallow', 'lie', 'betz', 'marin', 'trauma', 'gave', 'grant', 'banerjee', 'hermancranston', 'certified', 'custom', 'affiliate', 'minute', 'feat', 'attitude', 'thirsty', 'awful', 'mosquito', 'mhtwfnetofficials', 'targeting', 'locke', 'lawton', 'radioactive', 'moving', 'call', 'therapy', 'expert', 'leeds', 'frozen', 'campaign', 'consent', 'subway', 'waiting', 'bestnaijamade', 'foreign', 'striker', 'minion', 'abe', 'steal', 'africa', 'too', 'runion', 'dept', 'reward', 'tested', 'capture', 'bwp', 'blackpool', 'fleeing', 'plain', 'art', 'selection', 'edward', 'russian', 'soon', 'initial', 'heaven', 'deluged', 'streaming', 'republic', 'musik', 'complication', 'alone', 'mon', 'cecilthelion', 'rory', 'startup', 'downfall', 'monday', 'esh', 'reality', 'dailykos', 'needle', 'began', 'emmerdale', 'sigalert', 'reopening', 'cab', 'alllivesmatter', 'worstsummerjob', 'sweat', 'readingapocalypse', 'mystery', 'jonvoyage', 'experiencing', 'ny', 'blake', 'lovedup', 'epicentre', 'jesus', 'melt', 'washington', 'smh', 'permanently', 'thegame', 'la', 'partner', 'sends', 'bone', 'legionnaire', 'oklahoma', 'downstairs', 'mission', 'jdabe', 'police', 'finished', 'together', 'longest', 'tbt', 'titan', 'snowstorm', 'dry', 'plug', 'ev', 'fort', 'ne', 'abuseddesolateamplost', 'homeland', 'stuns', 'missing', 'interlaken', 'slide', 'unity', 'canvas', 'pulled', 'britney', 'basement', 'hmm', 'marlon', 'likely', 'drowning', 'listenbuy', 'ahead', 'yet', 'idis', 'pertains', 'jerry', 'em', 'grown', 'quarter'}\n"
          ]
        }
      ]
    },
    {
      "cell_type": "markdown",
      "source": [
        "# Comparing Models:\n",
        "I'm choosing models commonly used for supervised classification:\n",
        "- Logistic Regression\n",
        "- Decision Tree\n",
        "- Support Vector\n",
        "- Naive Bayes\n",
        "- KNN\n",
        "- Random Forest\n",
        "- Gradient Boosted\n",
        "\n",
        "I'm going to make a data frame with rows (index) a list of the different types of models  and columns: y_pred and accuracy score"
      ],
      "metadata": {
        "id": "GgUe2iAGTBH4"
      }
    },
    {
      "cell_type": "code",
      "source": [
        "models = { 'Logistic Regression': LogisticRegression(), \n",
        "          'Decision Tree': DecisionTreeClassifier(),\n",
        "          'Support Vector': SVC(),\n",
        "          'Naive Bayes': GaussianNB(),\n",
        "          'KNN': KNeighborsClassifier(),\n",
        "          'Random Forest': RandomForestClassifier(),\n",
        "          'Gradient Boosted':GradientBoostingClassifier()}\n",
        "              "
      ],
      "metadata": {
        "id": "G7Pet_hws42O"
      },
      "execution_count": null,
      "outputs": []
    },
    {
      "cell_type": "code",
      "source": [
        "results  = pd.DataFrame(index = models.keys(), columns = \n",
        "                        ['w2v predicted','w2v accuracy','tfidf predicted','tfidf accuracy'])\n",
        "results.head()"
      ],
      "metadata": {
        "colab": {
          "base_uri": "https://localhost:8080/",
          "height": 206
        },
        "id": "rJg6-dk7oBSw",
        "outputId": "e0bd5fe7-442c-4a5f-b3e0-c4587c0cc6e5"
      },
      "execution_count": null,
      "outputs": [
        {
          "output_type": "execute_result",
          "data": {
            "text/plain": [
              "                    w2v predicted w2v accuracy tfidf predicted tfidf accuracy\n",
              "Logistic Regression           NaN          NaN             NaN            NaN\n",
              "Decision Tree                 NaN          NaN             NaN            NaN\n",
              "Support Vector                NaN          NaN             NaN            NaN\n",
              "Naive Bayes                   NaN          NaN             NaN            NaN\n",
              "KNN                           NaN          NaN             NaN            NaN"
            ],
            "text/html": [
              "\n",
              "  <div id=\"df-4d80e497-2780-45ae-89fc-47d30e9fcca0\">\n",
              "    <div class=\"colab-df-container\">\n",
              "      <div>\n",
              "<style scoped>\n",
              "    .dataframe tbody tr th:only-of-type {\n",
              "        vertical-align: middle;\n",
              "    }\n",
              "\n",
              "    .dataframe tbody tr th {\n",
              "        vertical-align: top;\n",
              "    }\n",
              "\n",
              "    .dataframe thead th {\n",
              "        text-align: right;\n",
              "    }\n",
              "</style>\n",
              "<table border=\"1\" class=\"dataframe\">\n",
              "  <thead>\n",
              "    <tr style=\"text-align: right;\">\n",
              "      <th></th>\n",
              "      <th>w2v predicted</th>\n",
              "      <th>w2v accuracy</th>\n",
              "      <th>tfidf predicted</th>\n",
              "      <th>tfidf accuracy</th>\n",
              "    </tr>\n",
              "  </thead>\n",
              "  <tbody>\n",
              "    <tr>\n",
              "      <th>Logistic Regression</th>\n",
              "      <td>NaN</td>\n",
              "      <td>NaN</td>\n",
              "      <td>NaN</td>\n",
              "      <td>NaN</td>\n",
              "    </tr>\n",
              "    <tr>\n",
              "      <th>Decision Tree</th>\n",
              "      <td>NaN</td>\n",
              "      <td>NaN</td>\n",
              "      <td>NaN</td>\n",
              "      <td>NaN</td>\n",
              "    </tr>\n",
              "    <tr>\n",
              "      <th>Support Vector</th>\n",
              "      <td>NaN</td>\n",
              "      <td>NaN</td>\n",
              "      <td>NaN</td>\n",
              "      <td>NaN</td>\n",
              "    </tr>\n",
              "    <tr>\n",
              "      <th>Naive Bayes</th>\n",
              "      <td>NaN</td>\n",
              "      <td>NaN</td>\n",
              "      <td>NaN</td>\n",
              "      <td>NaN</td>\n",
              "    </tr>\n",
              "    <tr>\n",
              "      <th>KNN</th>\n",
              "      <td>NaN</td>\n",
              "      <td>NaN</td>\n",
              "      <td>NaN</td>\n",
              "      <td>NaN</td>\n",
              "    </tr>\n",
              "  </tbody>\n",
              "</table>\n",
              "</div>\n",
              "      <button class=\"colab-df-convert\" onclick=\"convertToInteractive('df-4d80e497-2780-45ae-89fc-47d30e9fcca0')\"\n",
              "              title=\"Convert this dataframe to an interactive table.\"\n",
              "              style=\"display:none;\">\n",
              "        \n",
              "  <svg xmlns=\"http://www.w3.org/2000/svg\" height=\"24px\"viewBox=\"0 0 24 24\"\n",
              "       width=\"24px\">\n",
              "    <path d=\"M0 0h24v24H0V0z\" fill=\"none\"/>\n",
              "    <path d=\"M18.56 5.44l.94 2.06.94-2.06 2.06-.94-2.06-.94-.94-2.06-.94 2.06-2.06.94zm-11 1L8.5 8.5l.94-2.06 2.06-.94-2.06-.94L8.5 2.5l-.94 2.06-2.06.94zm10 10l.94 2.06.94-2.06 2.06-.94-2.06-.94-.94-2.06-.94 2.06-2.06.94z\"/><path d=\"M17.41 7.96l-1.37-1.37c-.4-.4-.92-.59-1.43-.59-.52 0-1.04.2-1.43.59L10.3 9.45l-7.72 7.72c-.78.78-.78 2.05 0 2.83L4 21.41c.39.39.9.59 1.41.59.51 0 1.02-.2 1.41-.59l7.78-7.78 2.81-2.81c.8-.78.8-2.07 0-2.86zM5.41 20L4 18.59l7.72-7.72 1.47 1.35L5.41 20z\"/>\n",
              "  </svg>\n",
              "      </button>\n",
              "      \n",
              "  <style>\n",
              "    .colab-df-container {\n",
              "      display:flex;\n",
              "      flex-wrap:wrap;\n",
              "      gap: 12px;\n",
              "    }\n",
              "\n",
              "    .colab-df-convert {\n",
              "      background-color: #E8F0FE;\n",
              "      border: none;\n",
              "      border-radius: 50%;\n",
              "      cursor: pointer;\n",
              "      display: none;\n",
              "      fill: #1967D2;\n",
              "      height: 32px;\n",
              "      padding: 0 0 0 0;\n",
              "      width: 32px;\n",
              "    }\n",
              "\n",
              "    .colab-df-convert:hover {\n",
              "      background-color: #E2EBFA;\n",
              "      box-shadow: 0px 1px 2px rgba(60, 64, 67, 0.3), 0px 1px 3px 1px rgba(60, 64, 67, 0.15);\n",
              "      fill: #174EA6;\n",
              "    }\n",
              "\n",
              "    [theme=dark] .colab-df-convert {\n",
              "      background-color: #3B4455;\n",
              "      fill: #D2E3FC;\n",
              "    }\n",
              "\n",
              "    [theme=dark] .colab-df-convert:hover {\n",
              "      background-color: #434B5C;\n",
              "      box-shadow: 0px 1px 3px 1px rgba(0, 0, 0, 0.15);\n",
              "      filter: drop-shadow(0px 1px 2px rgba(0, 0, 0, 0.3));\n",
              "      fill: #FFFFFF;\n",
              "    }\n",
              "  </style>\n",
              "\n",
              "      <script>\n",
              "        const buttonEl =\n",
              "          document.querySelector('#df-4d80e497-2780-45ae-89fc-47d30e9fcca0 button.colab-df-convert');\n",
              "        buttonEl.style.display =\n",
              "          google.colab.kernel.accessAllowed ? 'block' : 'none';\n",
              "\n",
              "        async function convertToInteractive(key) {\n",
              "          const element = document.querySelector('#df-4d80e497-2780-45ae-89fc-47d30e9fcca0');\n",
              "          const dataTable =\n",
              "            await google.colab.kernel.invokeFunction('convertToInteractive',\n",
              "                                                     [key], {});\n",
              "          if (!dataTable) return;\n",
              "\n",
              "          const docLinkHtml = 'Like what you see? Visit the ' +\n",
              "            '<a target=\"_blank\" href=https://colab.research.google.com/notebooks/data_table.ipynb>data table notebook</a>'\n",
              "            + ' to learn more about interactive tables.';\n",
              "          element.innerHTML = '';\n",
              "          dataTable['output_type'] = 'display_data';\n",
              "          await google.colab.output.renderOutput(dataTable, element);\n",
              "          const docLink = document.createElement('div');\n",
              "          docLink.innerHTML = docLinkHtml;\n",
              "          element.appendChild(docLink);\n",
              "        }\n",
              "      </script>\n",
              "    </div>\n",
              "  </div>\n",
              "  "
            ]
          },
          "metadata": {},
          "execution_count": 8
        }
      ]
    },
    {
      "cell_type": "code",
      "source": [
        "\n",
        "# step through each of the models, and run it to find the  y_predicted and the accuracy score\n",
        "for key in models:\n",
        "  mod = models[key]\n",
        "  model_w2v = mod.fit(X_train_w2v,y_train.values.ravel())\n",
        "\n",
        "  # find predictions for the test data on each model \n",
        "  y_pred_w2v = model_w2v.predict(X_test_w2v)\n",
        "  accuracy_w2v = accuracy_score(y_test, y_pred_w2v)\n",
        "\n",
        "  #put the results into the results dataframe\n",
        "  results.at[key, 'w2v predicted'] = y_pred_w2v \n",
        "  results.at[key, 'w2v accuracy'] = accuracy_w2v \n",
        "\n",
        "\n",
        "\n"
      ],
      "metadata": {
        "id": "UMJIu6oBmbLL"
      },
      "execution_count": null,
      "outputs": []
    },
    {
      "cell_type": "code",
      "source": [
        "for key in models:\n",
        "  mod = models[key]\n",
        "  model_tfidf = mod.fit(X_train_tfidf.toarray(),y_train.values.ravel())\n",
        "\n",
        "  # find predictions for the test data on each model using each vectorization\n",
        "  y_pred_tfidf = model_tfidf.predict(X_test_tfidf.toarray())\n",
        "  accuracy_tfidf = accuracy_score(y_test, y_pred_tfidf)\n",
        "\n",
        "  #put the results into the results dataframe\n",
        "  results.at[key, 'tfidf predicted'] = y_pred_tfidf\n",
        "  results.at[key, 'tfidf accuracy'] = accuracy_tfidf \n",
        "\n",
        "\n"
      ],
      "metadata": {
        "id": "O9L_E05UQPgd"
      },
      "execution_count": null,
      "outputs": []
    },
    {
      "cell_type": "code",
      "source": [
        "results.head()\n"
      ],
      "metadata": {
        "colab": {
          "base_uri": "https://localhost:8080/",
          "height": 206
        },
        "id": "Tt0d_hFYubGX",
        "outputId": "099fa815-7e25-4461-be50-a87032f01af6"
      },
      "execution_count": null,
      "outputs": [
        {
          "output_type": "execute_result",
          "data": {
            "text/plain": [
              "                                                         w2v predicted  \\\n",
              "Logistic Regression  [0, 0, 0, 0, 0, 0, 0, 0, 0, 0, 0, 0, 0, 0, 0, ...   \n",
              "Decision Tree        [0, 1, 0, 0, 1, 0, 0, 0, 0, 0, 1, 0, 1, 0, 0, ...   \n",
              "Support Vector       [0, 0, 0, 0, 0, 0, 0, 0, 0, 0, 0, 0, 0, 0, 0, ...   \n",
              "Naive Bayes          [0, 1, 0, 0, 0, 1, 1, 1, 1, 0, 1, 1, 1, 1, 0, ...   \n",
              "KNN                  [0, 1, 0, 0, 0, 1, 0, 1, 0, 1, 0, 0, 0, 1, 0, ...   \n",
              "\n",
              "                    w2v accuracy  \\\n",
              "Logistic Regression     0.567622   \n",
              "Decision Tree           0.560959   \n",
              "Support Vector           0.57495   \n",
              "Naive Bayes             0.542971   \n",
              "KNN                     0.596935   \n",
              "\n",
              "                                                       tfidf predicted  \\\n",
              "Logistic Regression  [0, 1, 0, 0, 0, 1, 0, 0, 0, 0, 1, 0, 0, 1, 0, ...   \n",
              "Decision Tree        [0, 1, 0, 0, 0, 0, 0, 0, 0, 0, 1, 0, 0, 1, 0, ...   \n",
              "Support Vector       [0, 1, 0, 0, 0, 1, 0, 0, 0, 0, 1, 0, 0, 1, 0, ...   \n",
              "Naive Bayes          [0, 0, 0, 0, 1, 1, 0, 0, 0, 0, 1, 0, 0, 0, 0, ...   \n",
              "KNN                  [0, 1, 0, 0, 0, 1, 0, 0, 0, 0, 1, 0, 0, 1, 0, ...   \n",
              "\n",
              "                    tfidf accuracy  \n",
              "Logistic Regression       0.803464  \n",
              "Decision Tree             0.741506  \n",
              "Support Vector             0.79547  \n",
              "Naive Bayes               0.759494  \n",
              "KNN                       0.711526  "
            ],
            "text/html": [
              "\n",
              "  <div id=\"df-8f0ea680-5fd8-4243-bb43-c3cad1f70d25\">\n",
              "    <div class=\"colab-df-container\">\n",
              "      <div>\n",
              "<style scoped>\n",
              "    .dataframe tbody tr th:only-of-type {\n",
              "        vertical-align: middle;\n",
              "    }\n",
              "\n",
              "    .dataframe tbody tr th {\n",
              "        vertical-align: top;\n",
              "    }\n",
              "\n",
              "    .dataframe thead th {\n",
              "        text-align: right;\n",
              "    }\n",
              "</style>\n",
              "<table border=\"1\" class=\"dataframe\">\n",
              "  <thead>\n",
              "    <tr style=\"text-align: right;\">\n",
              "      <th></th>\n",
              "      <th>w2v predicted</th>\n",
              "      <th>w2v accuracy</th>\n",
              "      <th>tfidf predicted</th>\n",
              "      <th>tfidf accuracy</th>\n",
              "    </tr>\n",
              "  </thead>\n",
              "  <tbody>\n",
              "    <tr>\n",
              "      <th>Logistic Regression</th>\n",
              "      <td>[0, 0, 0, 0, 0, 0, 0, 0, 0, 0, 0, 0, 0, 0, 0, ...</td>\n",
              "      <td>0.567622</td>\n",
              "      <td>[0, 1, 0, 0, 0, 1, 0, 0, 0, 0, 1, 0, 0, 1, 0, ...</td>\n",
              "      <td>0.803464</td>\n",
              "    </tr>\n",
              "    <tr>\n",
              "      <th>Decision Tree</th>\n",
              "      <td>[0, 1, 0, 0, 1, 0, 0, 0, 0, 0, 1, 0, 1, 0, 0, ...</td>\n",
              "      <td>0.560959</td>\n",
              "      <td>[0, 1, 0, 0, 0, 0, 0, 0, 0, 0, 1, 0, 0, 1, 0, ...</td>\n",
              "      <td>0.741506</td>\n",
              "    </tr>\n",
              "    <tr>\n",
              "      <th>Support Vector</th>\n",
              "      <td>[0, 0, 0, 0, 0, 0, 0, 0, 0, 0, 0, 0, 0, 0, 0, ...</td>\n",
              "      <td>0.57495</td>\n",
              "      <td>[0, 1, 0, 0, 0, 1, 0, 0, 0, 0, 1, 0, 0, 1, 0, ...</td>\n",
              "      <td>0.79547</td>\n",
              "    </tr>\n",
              "    <tr>\n",
              "      <th>Naive Bayes</th>\n",
              "      <td>[0, 1, 0, 0, 0, 1, 1, 1, 1, 0, 1, 1, 1, 1, 0, ...</td>\n",
              "      <td>0.542971</td>\n",
              "      <td>[0, 0, 0, 0, 1, 1, 0, 0, 0, 0, 1, 0, 0, 0, 0, ...</td>\n",
              "      <td>0.759494</td>\n",
              "    </tr>\n",
              "    <tr>\n",
              "      <th>KNN</th>\n",
              "      <td>[0, 1, 0, 0, 0, 1, 0, 1, 0, 1, 0, 0, 0, 1, 0, ...</td>\n",
              "      <td>0.596935</td>\n",
              "      <td>[0, 1, 0, 0, 0, 1, 0, 0, 0, 0, 1, 0, 0, 1, 0, ...</td>\n",
              "      <td>0.711526</td>\n",
              "    </tr>\n",
              "  </tbody>\n",
              "</table>\n",
              "</div>\n",
              "      <button class=\"colab-df-convert\" onclick=\"convertToInteractive('df-8f0ea680-5fd8-4243-bb43-c3cad1f70d25')\"\n",
              "              title=\"Convert this dataframe to an interactive table.\"\n",
              "              style=\"display:none;\">\n",
              "        \n",
              "  <svg xmlns=\"http://www.w3.org/2000/svg\" height=\"24px\"viewBox=\"0 0 24 24\"\n",
              "       width=\"24px\">\n",
              "    <path d=\"M0 0h24v24H0V0z\" fill=\"none\"/>\n",
              "    <path d=\"M18.56 5.44l.94 2.06.94-2.06 2.06-.94-2.06-.94-.94-2.06-.94 2.06-2.06.94zm-11 1L8.5 8.5l.94-2.06 2.06-.94-2.06-.94L8.5 2.5l-.94 2.06-2.06.94zm10 10l.94 2.06.94-2.06 2.06-.94-2.06-.94-.94-2.06-.94 2.06-2.06.94z\"/><path d=\"M17.41 7.96l-1.37-1.37c-.4-.4-.92-.59-1.43-.59-.52 0-1.04.2-1.43.59L10.3 9.45l-7.72 7.72c-.78.78-.78 2.05 0 2.83L4 21.41c.39.39.9.59 1.41.59.51 0 1.02-.2 1.41-.59l7.78-7.78 2.81-2.81c.8-.78.8-2.07 0-2.86zM5.41 20L4 18.59l7.72-7.72 1.47 1.35L5.41 20z\"/>\n",
              "  </svg>\n",
              "      </button>\n",
              "      \n",
              "  <style>\n",
              "    .colab-df-container {\n",
              "      display:flex;\n",
              "      flex-wrap:wrap;\n",
              "      gap: 12px;\n",
              "    }\n",
              "\n",
              "    .colab-df-convert {\n",
              "      background-color: #E8F0FE;\n",
              "      border: none;\n",
              "      border-radius: 50%;\n",
              "      cursor: pointer;\n",
              "      display: none;\n",
              "      fill: #1967D2;\n",
              "      height: 32px;\n",
              "      padding: 0 0 0 0;\n",
              "      width: 32px;\n",
              "    }\n",
              "\n",
              "    .colab-df-convert:hover {\n",
              "      background-color: #E2EBFA;\n",
              "      box-shadow: 0px 1px 2px rgba(60, 64, 67, 0.3), 0px 1px 3px 1px rgba(60, 64, 67, 0.15);\n",
              "      fill: #174EA6;\n",
              "    }\n",
              "\n",
              "    [theme=dark] .colab-df-convert {\n",
              "      background-color: #3B4455;\n",
              "      fill: #D2E3FC;\n",
              "    }\n",
              "\n",
              "    [theme=dark] .colab-df-convert:hover {\n",
              "      background-color: #434B5C;\n",
              "      box-shadow: 0px 1px 3px 1px rgba(0, 0, 0, 0.15);\n",
              "      filter: drop-shadow(0px 1px 2px rgba(0, 0, 0, 0.3));\n",
              "      fill: #FFFFFF;\n",
              "    }\n",
              "  </style>\n",
              "\n",
              "      <script>\n",
              "        const buttonEl =\n",
              "          document.querySelector('#df-8f0ea680-5fd8-4243-bb43-c3cad1f70d25 button.colab-df-convert');\n",
              "        buttonEl.style.display =\n",
              "          google.colab.kernel.accessAllowed ? 'block' : 'none';\n",
              "\n",
              "        async function convertToInteractive(key) {\n",
              "          const element = document.querySelector('#df-8f0ea680-5fd8-4243-bb43-c3cad1f70d25');\n",
              "          const dataTable =\n",
              "            await google.colab.kernel.invokeFunction('convertToInteractive',\n",
              "                                                     [key], {});\n",
              "          if (!dataTable) return;\n",
              "\n",
              "          const docLinkHtml = 'Like what you see? Visit the ' +\n",
              "            '<a target=\"_blank\" href=https://colab.research.google.com/notebooks/data_table.ipynb>data table notebook</a>'\n",
              "            + ' to learn more about interactive tables.';\n",
              "          element.innerHTML = '';\n",
              "          dataTable['output_type'] = 'display_data';\n",
              "          await google.colab.output.renderOutput(dataTable, element);\n",
              "          const docLink = document.createElement('div');\n",
              "          docLink.innerHTML = docLinkHtml;\n",
              "          element.appendChild(docLink);\n",
              "        }\n",
              "      </script>\n",
              "    </div>\n",
              "  </div>\n",
              "  "
            ]
          },
          "metadata": {},
          "execution_count": 11
        }
      ]
    },
    {
      "cell_type": "code",
      "source": [
        "\n",
        "\n",
        "# create a figure and axis object\n",
        "fig, ax = plt.subplots()\n",
        "\n",
        "# plot the w2v accuracy line\n",
        "ax.plot(results.index, results['w2v accuracy'], color='blue', label='w2v accuracy')\n",
        "\n",
        "# plot the tfidf accuracy line\n",
        "ax.plot(results.index, results['tfidf accuracy'], color='red', label='tfidf accuracy')\n",
        "\n",
        "# add axis labels and title\n",
        "ax.set_xticklabels(results.index, rotation=45)\n",
        "ax.set_xlabel('Model')\n",
        "ax.set_ylabel('Accuracy')\n",
        "ax.set_title('Model Accuracies')\n",
        "\n",
        "# add a legend\n",
        "ax.legend()\n",
        "\n",
        "# display the plot\n",
        "plt.show()\n"
      ],
      "metadata": {
        "colab": {
          "base_uri": "https://localhost:8080/",
          "height": 395
        },
        "id": "Hx1gXC91U_ef",
        "outputId": "822af0b2-69a5-4c08-c623-ee1290b0667c"
      },
      "execution_count": null,
      "outputs": [
        {
          "output_type": "stream",
          "name": "stderr",
          "text": [
            "<ipython-input-12-dc162473cea1>:11: UserWarning: FixedFormatter should only be used together with FixedLocator\n",
            "  ax.set_xticklabels(results.index, rotation=45)\n"
          ]
        },
        {
          "output_type": "display_data",
          "data": {
            "text/plain": [
              "<Figure size 432x288 with 1 Axes>"
            ],
            "image/png": "[encoded data removed]"
          },
          "metadata": {
            "needs_background": "light"
          }
        }
      ]
    },
    {
      "cell_type": "code",
      "source": [
        "print(X_train_w2v.toarray().shape)\n",
        "print(y_train.shape)\n",
        "#print(y_train)\n"
      ],
      "metadata": {
        "colab": {
          "base_uri": "https://localhost:8080/",
          "height": 201
        },
        "id": "53bL0hdPZxfU",
        "outputId": "3e9273b4-5e93-40df-d1f5-66cc36788876"
      },
      "execution_count": null,
      "outputs": [
        {
          "output_type": "error",
          "ename": "AttributeError",
          "evalue": "ignored",
          "traceback": [
            "\u001b[0;31m---------------------------------------------------------------------------\u001b[0m",
            "\u001b[0;31mAttributeError\u001b[0m                            Traceback (most recent call last)",
            "\u001b[0;32m<ipython-input-26-4609a051da8e>\u001b[0m in \u001b[0;36m<module>\u001b[0;34m\u001b[0m\n\u001b[0;32m----> 1\u001b[0;31m \u001b[0mprint\u001b[0m\u001b[0;34m(\u001b[0m\u001b[0mX_train_w2v\u001b[0m\u001b[0;34m.\u001b[0m\u001b[0mtoarray\u001b[0m\u001b[0;34m(\u001b[0m\u001b[0;34m)\u001b[0m\u001b[0;34m.\u001b[0m\u001b[0mshape\u001b[0m\u001b[0;34m)\u001b[0m\u001b[0;34m\u001b[0m\u001b[0;34m\u001b[0m\u001b[0m\n\u001b[0m\u001b[1;32m      2\u001b[0m \u001b[0mprint\u001b[0m\u001b[0;34m(\u001b[0m\u001b[0my_train\u001b[0m\u001b[0;34m.\u001b[0m\u001b[0mshape\u001b[0m\u001b[0;34m)\u001b[0m\u001b[0;34m\u001b[0m\u001b[0;34m\u001b[0m\u001b[0m\n\u001b[1;32m      3\u001b[0m \u001b[0;31m#print(y_train)\u001b[0m\u001b[0;34m\u001b[0m\u001b[0;34m\u001b[0m\u001b[0m\n",
            "\u001b[0;31mAttributeError\u001b[0m: 'list' object has no attribute 'toarray'"
          ]
        }
      ]
    },
    {
      "cell_type": "code",
      "source": [
        "\n",
        "\n",
        "# define the model\n",
        "model = Sequential()\n",
        "model.add(Dense(10, input_dim=100, activation='relu'))\n",
        "model.add(Dense(1, activation='sigmoid'))\n",
        "\n",
        "# compile the model\n",
        "model.compile(loss='binary_crossentropy', optimizer='adam', metrics=['accuracy'])\n",
        "\n",
        "# train the model\n",
        "model.fit(X_train_tfidf, y_train, epochs=10, batch_size=32, validation_data=(X_test_tfidf, y_test))\n",
        "\n",
        "# evaluate the model\n",
        "loss, accuracy = model.evaluate(X_test_tfidf, y_test)\n",
        "print(f'Accuracy: {accuracy*100:.2f}%')\n"
      ],
      "metadata": {
        "colab": {
          "base_uri": "https://localhost:8080/",
          "height": 748
        },
        "id": "SWK9OIphW8ZA",
        "outputId": "638b27c5-4d69-45fc-f671-15d21d99340f"
      },
      "execution_count": null,
      "outputs": [
        {
          "output_type": "stream",
          "name": "stderr",
          "text": [
            "WARNING:tensorflow:Keras is training/fitting/evaluating on array-like data. Keras may not be optimized for this format, so if your input data format is supported by TensorFlow I/O (https://github.com/tensorflow/io) we recommend using that to load a Dataset instead.\n"
          ]
        },
        {
          "output_type": "stream",
          "name": "stdout",
          "text": [
            "Epoch 1/10\n"
          ]
        },
        {
          "output_type": "error",
          "ename": "ValueError",
          "evalue": "ignored",
          "traceback": [
            "\u001b[0;31m---------------------------------------------------------------------------\u001b[0m",
            "\u001b[0;31mValueError\u001b[0m                                Traceback (most recent call last)",
            "\u001b[0;32m<ipython-input-20-cb9d7c0a4d2c>\u001b[0m in \u001b[0;36m<module>\u001b[0;34m\u001b[0m\n\u001b[1;32m      8\u001b[0m \u001b[0;34m\u001b[0m\u001b[0m\n\u001b[1;32m      9\u001b[0m \u001b[0;31m# train the model\u001b[0m\u001b[0;34m\u001b[0m\u001b[0;34m\u001b[0m\u001b[0m\n\u001b[0;32m---> 10\u001b[0;31m \u001b[0mmodel\u001b[0m\u001b[0;34m.\u001b[0m\u001b[0mfit\u001b[0m\u001b[0;34m(\u001b[0m\u001b[0mX_train_tfidf\u001b[0m\u001b[0;34m,\u001b[0m \u001b[0my_train\u001b[0m\u001b[0;34m,\u001b[0m \u001b[0mepochs\u001b[0m\u001b[0;34m=\u001b[0m\u001b[0;36m10\u001b[0m\u001b[0;34m,\u001b[0m \u001b[0mbatch_size\u001b[0m\u001b[0;34m=\u001b[0m\u001b[0;36m32\u001b[0m\u001b[0;34m,\u001b[0m \u001b[0mvalidation_data\u001b[0m\u001b[0;34m=\u001b[0m\u001b[0;34m(\u001b[0m\u001b[0mX_test_tfidf\u001b[0m\u001b[0;34m,\u001b[0m \u001b[0my_test\u001b[0m\u001b[0;34m)\u001b[0m\u001b[0;34m)\u001b[0m\u001b[0;34m\u001b[0m\u001b[0;34m\u001b[0m\u001b[0m\n\u001b[0m\u001b[1;32m     11\u001b[0m \u001b[0;34m\u001b[0m\u001b[0m\n\u001b[1;32m     12\u001b[0m \u001b[0;31m# evaluate the model\u001b[0m\u001b[0;34m\u001b[0m\u001b[0;34m\u001b[0m\u001b[0m\n",
            "\u001b[0;32m/usr/local/lib/python3.9/dist-packages/keras/utils/traceback_utils.py\u001b[0m in \u001b[0;36merror_handler\u001b[0;34m(*args, **kwargs)\u001b[0m\n\u001b[1;32m     68\u001b[0m             \u001b[0;31m# To get the full stack trace, call:\u001b[0m\u001b[0;34m\u001b[0m\u001b[0;34m\u001b[0m\u001b[0m\n\u001b[1;32m     69\u001b[0m             \u001b[0;31m# `tf.debugging.disable_traceback_filtering()`\u001b[0m\u001b[0;34m\u001b[0m\u001b[0;34m\u001b[0m\u001b[0m\n\u001b[0;32m---> 70\u001b[0;31m             \u001b[0;32mraise\u001b[0m \u001b[0me\u001b[0m\u001b[0;34m.\u001b[0m\u001b[0mwith_traceback\u001b[0m\u001b[0;34m(\u001b[0m\u001b[0mfiltered_tb\u001b[0m\u001b[0;34m)\u001b[0m \u001b[0;32mfrom\u001b[0m \u001b[0;32mNone\u001b[0m\u001b[0;34m\u001b[0m\u001b[0;34m\u001b[0m\u001b[0m\n\u001b[0m\u001b[1;32m     71\u001b[0m         \u001b[0;32mfinally\u001b[0m\u001b[0;34m:\u001b[0m\u001b[0;34m\u001b[0m\u001b[0;34m\u001b[0m\u001b[0m\n\u001b[1;32m     72\u001b[0m             \u001b[0;32mdel\u001b[0m \u001b[0mfiltered_tb\u001b[0m\u001b[0;34m\u001b[0m\u001b[0;34m\u001b[0m\u001b[0m\n",
            "\u001b[0;32m/usr/local/lib/python3.9/dist-packages/keras/engine/training.py\u001b[0m in \u001b[0;36mtf__train_function\u001b[0;34m(iterator)\u001b[0m\n\u001b[1;32m     13\u001b[0m                 \u001b[0;32mtry\u001b[0m\u001b[0;34m:\u001b[0m\u001b[0;34m\u001b[0m\u001b[0;34m\u001b[0m\u001b[0m\n\u001b[1;32m     14\u001b[0m                     \u001b[0mdo_return\u001b[0m \u001b[0;34m=\u001b[0m \u001b[0;32mTrue\u001b[0m\u001b[0;34m\u001b[0m\u001b[0;34m\u001b[0m\u001b[0m\n\u001b[0;32m---> 15\u001b[0;31m                     \u001b[0mretval_\u001b[0m \u001b[0;34m=\u001b[0m \u001b[0mag__\u001b[0m\u001b[0;34m.\u001b[0m\u001b[0mconverted_call\u001b[0m\u001b[0;34m(\u001b[0m\u001b[0mag__\u001b[0m\u001b[0;34m.\u001b[0m\u001b[0mld\u001b[0m\u001b[0;34m(\u001b[0m\u001b[0mstep_function\u001b[0m\u001b[0;34m)\u001b[0m\u001b[0;34m,\u001b[0m \u001b[0;34m(\u001b[0m\u001b[0mag__\u001b[0m\u001b[0;34m.\u001b[0m\u001b[0mld\u001b[0m\u001b[0;34m(\u001b[0m\u001b[0mself\u001b[0m\u001b[0;34m)\u001b[0m\u001b[0;34m,\u001b[0m \u001b[0mag__\u001b[0m\u001b[0;34m.\u001b[0m\u001b[0mld\u001b[0m\u001b[0;34m(\u001b[0m\u001b[0miterator\u001b[0m\u001b[0;34m)\u001b[0m\u001b[0;34m)\u001b[0m\u001b[0;34m,\u001b[0m \u001b[0;32mNone\u001b[0m\u001b[0;34m,\u001b[0m \u001b[0mfscope\u001b[0m\u001b[0;34m)\u001b[0m\u001b[0;34m\u001b[0m\u001b[0;34m\u001b[0m\u001b[0m\n\u001b[0m\u001b[1;32m     16\u001b[0m                 \u001b[0;32mexcept\u001b[0m\u001b[0;34m:\u001b[0m\u001b[0;34m\u001b[0m\u001b[0;34m\u001b[0m\u001b[0m\n\u001b[1;32m     17\u001b[0m                     \u001b[0mdo_return\u001b[0m \u001b[0;34m=\u001b[0m \u001b[0;32mFalse\u001b[0m\u001b[0;34m\u001b[0m\u001b[0;34m\u001b[0m\u001b[0m\n",
            "\u001b[0;31mValueError\u001b[0m: in user code:\n\n    File \"/usr/local/lib/python3.9/dist-packages/keras/engine/training.py\", line 1249, in train_function  *\n        return step_function(self, iterator)\n    File \"/usr/local/lib/python3.9/dist-packages/keras/engine/training.py\", line 1233, in step_function  **\n        outputs = model.distribute_strategy.run(run_step, args=(data,))\n    File \"/usr/local/lib/python3.9/dist-packages/keras/engine/training.py\", line 1222, in run_step  **\n        outputs = model.train_step(data)\n    File \"/usr/local/lib/python3.9/dist-packages/keras/engine/training.py\", line 1023, in train_step\n        y_pred = self(x, training=True)\n    File \"/usr/local/lib/python3.9/dist-packages/keras/utils/traceback_utils.py\", line 70, in error_handler\n        raise e.with_traceback(filtered_tb) from None\n    File \"/usr/local/lib/python3.9/dist-packages/keras/engine/input_spec.py\", line 295, in assert_input_compatibility\n        raise ValueError(\n\n    ValueError: Input 0 of layer \"sequential_1\" is incompatible with the layer: expected shape=(None, 100), found shape=(None, 1000)\n"
          ]
        }
      ]
    },
    {
      "cell_type": "code",
      "source": [
        "df_comparison = pandas.DataFrame()\n",
        "df_comparison.set_index"
      ],
      "metadata": {
        "id": "IfwY8_9hkjQg"
      },
      "execution_count": null,
      "outputs": []
    },
    {
      "cell_type": "code",
      "source": [
        "# this is a function that takes in a list of sentences ( X_train or X_test) and returns a list of vectors\n",
        "# vectorized with word2vec.  You also need to pass the trained w2v_model and the list of words\n",
        "def w2v(sentence_data,w2v_model, words):\n",
        "  vectorized_words = np.array([np.array([w2v_model.wv[i] for i in ls if i in words])\n",
        "                         for ls in sentence_data])\n",
        "\n",
        "\n",
        "# Compute sentence vectors by averaging the word vectors for the words contained in the sentence\n",
        "  vectorized_sentences = []\n",
        "  for v in vectorized_words:\n",
        "    if v.size:\n",
        "        vectorized_sentences.append(v.mean(axis=0))\n",
        "    else:\n",
        "        vectorized_sentences.append(np.zeros(100, dtype=float))\n",
        "        \n",
        "  return vectorized_sentences\n"
      ],
      "metadata": {
        "id": "NdOLxnAtYb9o"
      },
      "execution_count": null,
      "outputs": []
    },
    {
      "cell_type": "code",
      "source": [
        "#split up the data into train / test\n",
        "X_train, X_test, y_train, y_test = train_test_split (df['clean_text'], df['target'] , test_size=0.2)\n",
        "\n",
        "# Train the word2vec model\n",
        "w2v_model = gensim.models.Word2Vec(sentences,\n",
        "                                   vector_size=100, \n",
        "                                   window=5,\n",
        "                                   min_count=2)\n",
        "words = set(w2v_model.wv.index_to_key )\n",
        "\n",
        "\n",
        "X_train_vect = np.array([np.array([w2v_model.wv[i] for i in ls if i in words])\n",
        "                         for ls in X_train])\n",
        "X_test_vect = np.array([np.array([w2v_model.wv[i] for i in ls if i in words])\n",
        "                         for ls in X_test])\n",
        "\n",
        "\n",
        "# Compute sentence vectors by averaging the word vectors for the words contained in the sentence\n",
        "X_train_vect_avg = []\n",
        "for v in X_train_vect:\n",
        "    if v.size:\n",
        "        X_train_vect_avg.append(v.mean(axis=0))\n",
        "    else:\n",
        "        X_train_vect_avg.append(np.zeros(100, dtype=float))\n",
        "        \n",
        "X_test_vect_avg = []\n",
        "for v in X_test_vect:\n",
        "    if v.size:\n",
        "        X_test_vect_avg.append(v.mean(axis=0))\n",
        "    else:\n",
        "        X_test_vect_avg.append(np.zeros(100, dtype=float))\n",
        "\n",
        "\n",
        "# Instantiate and fit a basic Random Forest model on top of the vectors\n",
        "\n",
        "#rf = RandomForestClassifier()\n",
        "rf = LogisticRegression()\n",
        "rf_model = rf.fit(X_train_vect_avg, y_train.values.ravel())\n",
        "\n",
        "# Use the trained model to make predictions on the test data\n",
        "y_pred = rf_model.predict(X_test_vect_avg)\n",
        "\n",
        "\n",
        "#accuracy_score(predictions, y_val)*100\n",
        "precision = precision_score(y_test, y_pred)\n",
        "recall = recall_score(y_test, y_pred)\n",
        "print('Precision: {} / Recall: {} / Accuracy: {}'.format(\n",
        "    round(precision, 3), round(recall, 3), round((y_pred==y_test).sum()/len(y_pred), 3)))"
      ],
      "metadata": {
        "colab": {
          "base_uri": "https://localhost:8080/"
        },
        "id": "9DEmvcPsj_fU",
        "outputId": "bbed0cf7-f9d4-431d-d51e-56710cd29452"
      },
      "execution_count": null,
      "outputs": [
        {
          "output_type": "stream",
          "name": "stderr",
          "text": [
            "<ipython-input-9-5fe4f5056ced>:12: VisibleDeprecationWarning: Creating an ndarray from ragged nested sequences (which is a list-or-tuple of lists-or-tuples-or ndarrays with different lengths or shapes) is deprecated. If you meant to do this, you must specify 'dtype=object' when creating the ndarray.\n",
            "  X_train_vect = np.array([np.array([w2v_model.wv[i] for i in ls if i in words])\n",
            "<ipython-input-9-5fe4f5056ced>:14: VisibleDeprecationWarning: Creating an ndarray from ragged nested sequences (which is a list-or-tuple of lists-or-tuples-or ndarrays with different lengths or shapes) is deprecated. If you meant to do this, you must specify 'dtype=object' when creating the ndarray.\n",
            "  X_test_vect = np.array([np.array([w2v_model.wv[i] for i in ls if i in words])\n"
          ]
        },
        {
          "output_type": "stream",
          "name": "stdout",
          "text": [
            "Precision: 0.396 / Recall: 0.03 / Accuracy: 0.572\n"
          ]
        }
      ]
    },
    {
      "cell_type": "code",
      "source": [
        "        models = [\n",
        "              LogisticRegression(),\n",
        "              DecisionTreeClassifier(),\n",
        "              GradientBoostingClassifier(),\n",
        "              sklearn.naive_bayes.MultinomialNB(), \n",
        "              sklearn.linear_model.LogisticRegression(),\n",
        "              sklearn.svm.SVC(),\n",
        "              sklearn.svm.SVC(C=10),\n",
        "              sklearn.svm.SVC(C=0.5),\n",
        "            ]"
      ],
      "metadata": {
        "id": "gg_wMXKTsr-p"
      },
      "execution_count": null,
      "outputs": []
    },
    {
      "cell_type": "code",
      "source": [
        "\n",
        "cm = confusion_matrix(y_test, y_pred)\n",
        "ConfusionMatrixDisplay(cm).plot()\n",
        "#plot_confusion_matrix(classifier, X_test, y_test, cmap=plt.cm.Blues)\n",
        "#plt.show()"
      ],
      "metadata": {
        "colab": {
          "base_uri": "https://localhost:8080/",
          "height": 296
        },
        "id": "sUVwZG7AvrBl",
        "outputId": "1c70265b-44be-4ed2-a5af-f36794cfa8c3"
      },
      "execution_count": null,
      "outputs": [
        {
          "output_type": "execute_result",
          "data": {
            "text/plain": [
              "<sklearn.metrics._plot.confusion_matrix.ConfusionMatrixDisplay at 0x7fe7642bd940>"
            ]
          },
          "metadata": {},
          "execution_count": 17
        },
        {
          "output_type": "display_data",
          "data": {
            "text/plain": [
              "<Figure size 432x288 with 2 Axes>"
            ],
            "image/png": "[encoded data removed]"
          },
          "metadata": {
            "needs_background": "light"
          }
        }
      ]
    },
    {
      "cell_type": "code",
      "source": [
        "tfidf_vectorizer = TfidfVectorizer()\n",
        "tfidf_model = tfidf_vectorizer.fit_transform(df['clean_text']).toarray()\n",
        "tfidf_model"
      ],
      "metadata": {
        "colab": {
          "base_uri": "https://localhost:8080/"
        },
        "id": "_4gKeCSfIYhC",
        "outputId": "edbe40ea-7562-46a2-ff41-0b9001abfb48"
      },
      "execution_count": null,
      "outputs": [
        {
          "output_type": "execute_result",
          "data": {
            "text/plain": [
              "array([[0., 0., 0., ..., 0., 0., 0.],\n",
              "       [0., 0., 0., ..., 0., 0., 0.],\n",
              "       [0., 0., 0., ..., 0., 0., 0.],\n",
              "       ...,\n",
              "       [0., 0., 0., ..., 0., 0., 0.],\n",
              "       [0., 0., 0., ..., 0., 0., 0.],\n",
              "       [0., 0., 0., ..., 0., 0., 0.]])"
            ]
          },
          "metadata": {},
          "execution_count": 22
        }
      ]
    },
    {
      "cell_type": "code",
      "source": [
        "# this is a function that takes a list of sentences ( X_train or X_test) and returns a list of vectors\n",
        "# vectorized with TFIDF\n",
        "def tfidf(sentence_data):\n",
        "\n",
        "  tfidf_vectorizer = TfidfVectorizer()\n",
        "  vectorized_sentences = tfidf_vectorizer.fit_transform(sentence_data).toarray()\n",
        "  return vectorized_sentences\n"
      ],
      "metadata": {
        "id": "4OWzxCmecX4a"
      },
      "execution_count": null,
      "outputs": []
    },
    {
      "cell_type": "code",
      "source": [
        "\n",
        "X_train, X_test, y_train, y_test = train_test_split (df['clean_text'], df['target'] , test_size=0.2)\n",
        "\n",
        "# Train the word2vec model\n",
        "w2v_model = gensim.models.Word2Vec(sentences =X_train,\n",
        "                                   vector_size=100, \n",
        "                                   window=5,\n",
        "                                   min_count=2)\n",
        "\n",
        "words = set(w2v_model.wv.index_to_key )\n",
        "X_train_vect = np.array([np.array([w2v_model.wv[i] for i in ls if i in words])\n",
        "                         for ls in X_train])\n",
        "X_test_vect = np.array([np.array([w2v_model.wv[i] for i in ls if i in words])\n",
        "                         for ls in X_test])\n",
        "\n",
        "\n",
        "# Compute sentence vectors by averaging the word vectors for the words contained in the sentence\n",
        "X_train_vect_avg = []\n",
        "for v in X_train_vect:\n",
        "    if v.size:\n",
        "        X_train_vect_avg.append(v.mean(axis=0))\n",
        "    else:\n",
        "        X_train_vect_avg.append(np.zeros(100, dtype=float))\n",
        "        \n",
        "X_test_vect_avg = []\n",
        "for v in X_test_vect:\n",
        "    if v.size:\n",
        "        X_test_vect_avg.append(v.mean(axis=0))\n",
        "    else:\n",
        "        X_test_vect_avg.append(np.zeros(100, dtype=float))\n",
        "\n",
        "\n",
        "# Instantiate and fit a basic Random Forest model on top of the vectors\n",
        "from sklearn.ensemble import RandomForestClassifier\n",
        "rf = RandomForestClassifier()\n",
        "rf_model = rf.fit(X_train_vect_avg, y_train.values.ravel())\n",
        "\n",
        "# Use the trained model to make predictions on the test data\n",
        "y_pred = rf_model.predict(X_test_vect_avg)\n",
        "\n",
        "\n",
        "from sklearn.metrics import precision_score, recall_score\n",
        "precision = precision_score(y_test, y_pred)\n",
        "recall = recall_score(y_test, y_pred)\n",
        "print('Precision: {} / Recall: {} / Accuracy: {}'.format(\n",
        "    round(precision, 3), round(recall, 3), round((y_pred==y_test).sum()/len(y_pred), 3)))"
      ],
      "metadata": {
        "colab": {
          "base_uri": "https://localhost:8080/"
        },
        "id": "gx5ahhjOD2vG",
        "outputId": "acb14ad0-14cd-48d1-983c-61cd0620f9ce"
      },
      "execution_count": null,
      "outputs": [
        {
          "output_type": "stream",
          "name": "stderr",
          "text": [
            "WARNING:gensim.models.word2vec:Each 'sentences' item should be a list of words (usually unicode strings). First item here is instead plain <class 'str'>.\n",
            "<ipython-input-15-5537f43bc9e1>:10: VisibleDeprecationWarning: Creating an ndarray from ragged nested sequences (which is a list-or-tuple of lists-or-tuples-or ndarrays with different lengths or shapes) is deprecated. If you meant to do this, you must specify 'dtype=object' when creating the ndarray.\n",
            "  X_train_vect = np.array([np.array([w2v_model.wv[i] for i in ls if i in words])\n",
            "<ipython-input-15-5537f43bc9e1>:12: VisibleDeprecationWarning: Creating an ndarray from ragged nested sequences (which is a list-or-tuple of lists-or-tuples-or ndarrays with different lengths or shapes) is deprecated. If you meant to do this, you must specify 'dtype=object' when creating the ndarray.\n",
            "  X_test_vect = np.array([np.array([w2v_model.wv[i] for i in ls if i in words])\n"
          ]
        },
        {
          "output_type": "stream",
          "name": "stdout",
          "text": [
            "Precision: 0.653 / Recall: 0.455 / Accuracy: 0.649\n"
          ]
        }
      ]
    },
    {
      "cell_type": "code",
      "source": [
        "print(words)"
      ],
      "metadata": {
        "id": "0f3-nWjlUkrD",
        "colab": {
          "base_uri": "https://localhost:8080/"
        },
        "outputId": "865cc1df-ef47-47c6-fd05-536c8d3887a2"
      },
      "execution_count": null,
      "outputs": [
        {
          "output_type": "stream",
          "name": "stdout",
          "text": [
            "{'row', 'conservative', 'right', 'boy', 'bit', 'divided', 'woman', 'ready', 'reopening', 'journalist', 'exercised', 'loseit', 'k', 'crossed', 'beneath', 'horizon', 'brunette', 'okanagan', 'pkwy', 'looting', 'contain', 'latimes', 'instantly', 'minion', 'stephen', 'grandeur', 'spill', 'charles', 'pocket', 'blvd', 'driven', 'lamp', 'ev', 'robotrainstorm', 'turbine', 'i', 'cawx', 'wounded', 'herself', 'fence', 'cant', 'referring', 'appreciate', 'drag', 'jet', 'africa', 'ta', 'penn', 'surrounding', 'predicted', 'oct', 'sunk', 'fuckin', 'tripledigit', 'spent', 'journalism', 'union', 'modi', 'this', 'ima', 'year', 'technique', 'course', 'saw', 'go', 'danger', 'slipped', 'picking', 'catching', 'parole', 'kid', 'collins', 'displace', 'karymsky', 'worried', 'socialnews', 'rockbottomradfm', 'them', 'hahah', 'stu', 'teaching', 'out', 'renison', 'rail', 'plague', 'making', 'study', 'chocolate', 'amageddon', 'thankful', 'plan', 'playstation', 'bee', 'fog', 'flooded', 'pt', 'fucked', 'rly', 'protection', 'interested', 'dems', 'housing', 'primary', 'harbor', 'evolve', 'loving', 'pump', 'fill', 'betz', 'distinct', 'ending', 'vegetarian', 'devastated', 'gd', 'do', 'glink', 'standard', 'charging', 'social', 'towel', 'price', 'rspca', 'leg', 'kiev', 'totaling', 'loses', 'anniversary', 'republican', 'king', 'community', 'unsafe', 'anthrax', 'healthy', 'main', 'watertown', 'custom', 'town', 'coal', 'prevent', 'xb', 'cyclone', 'slowly', 'plastic', 'reinstate', 'triple', 'possibility', 'sad', 'cancel', 'pakistan', 'thrown', 'spilled', 'aunt', 'si', 'clearly', 'avoided', 'coincide', 'player', 'cadfyi', 'tin', 'taxiway', 'roanoke', 'hilarious', 'rubber', 'brazil', 'trinity', 'offs', 'newest', 'root', 'jamesmelville', 'can', 'drowning', 'abe', 'invasion', 'snap', 'bumper', 'yorker', 'analysis', 'responded', 'minister', 'sexy', 'weight', 'off', 'district', 'swarm', 'multidimensi', 'estimate', 'pic', 'cigarette', 'governor', 'pattonoswalt', 'nema', 'coyote', 'tournament', 'dancer', 'meeting', 'hunk', 'de', 'salty', 'zayn', 'indie', 'comment', 'evansville', 'receive', 'disruptive', 'wrought', 'entrepreneur', 'totally', 'vibez', 'shocking', 'arent', 'comedy', 'performance', 'injuryi', 'coil', 'messed', 'bail', 'manutd', 'whoop', 'section', 'find', 'ferguson', 'concrete', 'diesis', 'gamergate', 'targeted', 'volcanoinrussia', 'midsouth', 'get', 'bicycle', 'wrong', 'arsonist', 'others', 'knock', 'ar', 'sheer', 'legacy', 'blackpool', 'activity', 'version', 'suffered', 'krefeld', 'alert', 'society', 'file', 'demonstration', 'tcot', 'badge', 'prez', 'gateau', 'upper', 'equipment', 'jst', 'jim', 'headset', 'bombing', 'package', 'narendramodi', 'occurred', 'lance', 'arrest', 'memphis', 'butter', 'cia', 'wind', 'calm', 'somalia', 'rd', 'combined', 'festival', 'exterminate', 'completely', 'the', 'videoveranomtv', 'asshole', 'poor', 'southbound', 'improve', 'smithsonian', 'actress', 'more', 'decrease', 'large', 'katunews', 'measles', 'responder', 'jhaustin', 'gary', 'friend', 'lego', 'anything', 'international', 'explores', 'belt', 'faith', 'stomach', 'golem', 'prime', 'june', 'stole', 'division', 'castle', 'asks', 'bluedio', 'song', 'hamas', 'favs', 'katherines', 'spread', 'huffman', 'samesex', 'struggling', 'liveonk', 'basic', 'dance', 'subway', 'carr', 'registered', 'broken', 'audio', 'o', 'lovedup', 'dept', 'runway', 'prison', 'fun', 'state', 'investigating', 'content', 'teen', 'sweden', 'stressful', 'up', 'judge', 'afghanistan', 'sunny', 'amid', 'fine', 'shall', 'luka', 'lowly', 'thetwister', 'insane', 'ral', 'nm', 'italian', 'hwo', 's', 'dock', 'yr', 'battling', 'older', 'forex', 'headline', 'nobody', 'toddler', 'knife', 'allah', 'sudden', 'actor', 'servant', 'approach', 'chile', 'pllolz', 'drive', 'buff', 'joined', 'donald', 'rexyy', 'proceeds', 'grace', 'standing', 'edm', 'solar', 'password', 'massacrehttptcolvlhwawoantiochhttptcoviwxyxdyk', 'killing', 'twin', 'complication', 'pres', 'gift', 'war', 'outdoor', 'commute', 'eat', 'provoke', 'atlantic', 'star', 'gusty', 'isnt', 'record', 'screen', 'cheat', 'belonged', 'noticed', 'upset', 'ally', 'impulse', 'jamaica', 'hardly', 'votejktid', 'chill', 'prisoner', 'machine', 'follow', 'survivor', 'camp', 'gum', 'rdhorndale', 'brian', 'ppl', 'musik', 'pancake', 'fallen', 'water', 'apollo', 'lesbian', 'uploading', 'music', 'wrapup', 'kraft', 'presence', 'of', 'automation', 'japn', 'relative', 'bago', 'destroyer', 'label', 'unknown', 'treeporn', 'gtii', 'stupid', 'dem', 'banerjee', 'f', 'underwater', 'watched', 'auth', 'pussy', 'closest', 'moral', 'cartoon', 'sustainable', 'rwy', 'disease', 'forget', 'truelove', 'bobcat', 'repair', 'earbuds', 'santa', 'dt', 'examiner', 'cosponsor', 'permanently', 'requiring', 'city', 'returned', 'bombed', 'reactor', 'thegame', 'extender', 'rose', 'tell', 'heard', 'winston', 'trent', 'enjoy', 'inec', 'guardian', 'apply', 'indiannews', 'pool', 'specie', 'tahoe', 'into', 'mother', 'stopped', 'tab', 'initial', 'missing', 'flying', 'wed', 'em', 'superhero', 'statement', 'try', 'blaze', 'listenbuy', 'psychiatric', 'ir', 'wale', 'abomb', 'whatsapp', 'ramag', 'robert', 'odeon', 'scorpion', 'reap', 'buck', 'living', 'map', 'bush', 'basically', 'frank', 'x', 'apart', 'piling', 'tuned', 'blocked', 'exp', 'wordpressdotcom', 'appointment', 'creates', 'dickhead', 'fettilootch', 'rome', 'set', 'saddlebrooke', 'iran', 'cooking', 'longest', 'blown', 'sat', 'pbban', 'alloy', 'brick', 'task', 'apt', 'blow', 'britishbakeoff', 'christ', 'tomato', 'corey', 'fossil', 'late', 'tryout', 'scary', 'experience', 'washed', 'ssw', 'insurance', 'acdelco', 'inch', 'grief', 'pile', 'twovehicle', 'revolution', 'marlon', 'realtime', 'wi', 'shia', 'visit', 'rogue', 'bitcoin', 'cherry', 'mishap', 'promote', 'tom', 'navbl', 'vgbootcamp', 'locomotive', 'sends', 'pizza', 'final', 'stuart', 'colour', 'seeing', 'ash', 'architect', 'palin', 'looter', 'cowboy', 'egg', 'miyagi', 'vital', 'jewelry', 'east', 'integrity', 'entering', 'shutdown', 'inspired', 'tear', 'williams', 'gunfire', 'too', 'pertains', 'facing', 'obliterate', 'bump', 'combo', 'pulwama', 'joe', 'droid', 'cop', 'poplar', 'grab', 'defeat', 'blonde', 'boot', 'volleyball', 'strategicpatience', 'nuff', 'freezing', 'gotten', 'hamilton', 'acute', 'fatalityus', 'fail', 'raining', 'ab', 'launch', 'boat', 'member', 'sorry', 'crusty', 'run', 'hard', 'potus', 'thy', 'democracy', 'cock', 'jdabe', 'agreed', 'escaped', 'alllivesmatter', 'alexbelloli', 'tribal', 'invest', 'practice', 'us', 'purse', 'faster', 'flush', 'justice', 'mum', 'troop', 'breakingnews', 'marked', 'bless', 'bronx', 'techesback', 'se', 'security', 'blunt', 'child', 'juliedicaro', 'greatbritishbakeoff', 'scar', 'hoax', 'hurricanedolce', 'strong', 'cricket', 'spanish', 'ebay', 'when', 'friday', 'medic', 'pmarca', 'attic', 'register', 'ran', 'safely', 'bioterrorism', 'cash', 'smoke', 'sixth', 'holed', 'johannesburg', 'dream', 'charlie', 'traffic', 'tattoo', 'talent', 'driving', 'trubgme', 'leisure', 'lonewolffur', 'grows', 'ja', 'gridlock', 'keegan', 'dk', 'repeat', 'wonderful', 'fema', 'vanessa', 'since', 'derailed', 'walk', 'inj', 'pilot', 'bone', 'seen', 'radio', 'con', 'pjnet', 'te', 'san', 'unavoidable', 'prepper', 're', 'remembered', 'combat', 'lee', 'cnews', 'came', 'whats', 'leadership', 'discus', 'ability', 'chance', 'capture', 'otrametlife', 'freaking', 'strategy', 'dublin', 'research', 'msica', 'wildfire', 'mitigation', 'internal', 'destiny', 'amsterdam', 'unto', 'mkx', 'allows', 'logo', 'pennington', 'fact', 'cc', 'cuff', 'korea', 'wouldeath', 'enjoyed', 'belly', 'wwe', 'sinking', 'lolol', 'weather', 'epidemic', 'fatburning', 'rey', 'appreciated', 'njturnpike', 'earth', 'monkey', 'cleric', 'split', 'bruh', 'bake', 'hashtag', 'obviously', 'mine', 'item', 'tour', 'include', 'msf', 'severe', 'took', 'rain', 'connector', 'heel', 'cell', 'authority', 'max', 'brighton', 'arrived', 'seven', 'damn', 'worth', 'mention', 'mystery', 'drought', 'bar', 'personal', 'warm', 'renewhealth', 'lifestyle', 'jacket', 'vega', 'lover', 'stuns', 'one', 'bride', 'case', 'themed', 'realize', 'omfg', 'lava', 'crossborder', 'wholesale', 'aniston', 'mosquito', 'eudrylantiqua', 'cinema', 'hwy', 'channel', 'rise', 'buying', 'julian', 'ag', 'mortal', 'siren', 'drove', 'ford', 'maketh', 'mean', 'sky', 'fruit', 'privacy', 'cheap', 'aid', 'citizen', 'seal', 'continue', 'fantasy', 'supply', 'design', 'aspect', 'hope', 'missionhills', 'shelby', 'pissed', 'highway', 'mei', 'pileup', 'detail', 'vegetable', 'theatre', 'passing', 'unrest', 'landslide', 'absolutely', 'copilot', 'stereo', 'outbid', 'predict', 'kombat', 'blake', 'well', 'background', 'wmata', 'truth', 'equally', 'suh', 'freak', 'dumb', 'germ', 'thick', 'what', 'rotation', 'instagram', 'fortune', 'andy', 'best', 'mansion', 'beam', 'kinda', 'rising', 'illegal', 'wanted', 'explain', 'creating', 'officer', 'lnp', 'chan', 'beauty', 'rifle', 'himalaya', 'brown', 'organic', 'looping', 'playing', 'faux', 'estate', 'putin', 'done', 'september', 'application', 'gig', 'level', 'take', 'kerry', 'buddy', 'rio', 'clever', 'pant', 'pisgah', 'grade', 'finished', 'astrology', 'proper', 'explodes', 'tak', 'expect', 'box', 'rally', 'hatcap', 'def', 'happen', 'dj', 'consequence', 'homeowner', 'current', 'noise', 'faroeislands', 'boom', 'earring', 'replace', 'would', 'coworker', 'extends', 'monster', 'complete', 'deputy', 'hw', 'alive', 'louis', 'bbsp', 'earnings', 'ny', 'bradleybrad', 'innocent', 'hiphop', 'reflects', 'raider', 'd', 'icymi', 'early', 'vabengal', 'celebration', 'explode', 'lead', 'exploit', 'today', 'together', 'medieval', 'cnewslive', 'savebees', 'available', 'embroidered', 'follower', 'streaming', 'amazon', 'after', 'newsgoldcoast', 'located', 'stronger', 'hostage', 'generation', 'often', 'dare', 'hood', 'poster', 'upgraded', 'error', 'garfield', 'wee', 'language', 'wouldetonate', 'modiministry', 'wheel', 'demon', 'gear', 'is', 'capsizes', 'follows', 'completed', 'specific', 'crime', 'blocking', 'nice', 'stans', 'hacker', 'buried', 'wreck', 'btw', 'trust', 'people', 'everyones', 'originalfunko', 'heroin', 'whipped', 'parker', 'ut', 'gerenciatodos', 'mandatory', 'hey', 'capacity', 'discovery', 'president', 'support', 'forgiven', 'on', 'smiling', 'fb', 'espn', 'hating', 'yeah', 'avoid', 'opinion', 'banned', 'starring', 'physician', 'continued', 'died', 'porn', 'youll', 'wnd', 'langley', 'fte', 'plain', 'expense', 'linerless', 'redeemeth', 'path', 'metal', 'cj', 'why', 'simon', 'dark', 'rapping', 'drown', 'sinkhole', 'related', 'please', 'nurse', 'pond', 'cook', 'movement', 'lord', 'temp', 'sputnik', 'slate', 'mom', 'riyadh', 'canvas', 'increase', 'zionism', 'daily', 'model', 'greek', 'grande', 'avenue', 'daughter', 'suruc', 'yyc', 'crashed', 'chronicle', 'mikeparractor', 'christmas', 'announced', 'inundated', 'fight', 'lie', 'protesting', 'betrayed', 'rick', 'nugget', 'indifference', 'alleged', 'freshman', 'motorcyclist', 'britain', 'exit', 'motion', 'peace', 'message', 'popular', 'acc', 'retract', 'approves', 'necessary', 'subreddits', 'title', 'g', 'timeline', 'usagov', 'gbbo', 'insubcontinent', 'knight', 'billion', 'bomber', 'understand', 'oneself', 'sixpenceee', 'q', 'regard', 'l', 'rat', 'pop', 'driver', 'surrounded', 'beyhive', 'controlled', 'earlier', 'anybody', 'salvadoran', 'blamed', 'mlb', 'jay', 'faan', 'mariah', 'say', 'through', 'boxing', 'pb', 'prepares', 'crack', 'suspense', 'found', 'challenged', 'diverse', 'compound', 'card', 'disney', 'rene', 'calgary', 'reason', 'patrick', 'raynbowaffair', 'vid', 'debate', 'edge', 'break', 'detonated', 'empire', 'bunch', 'photo', 'bmw', 'annoying', 'usatoday', 'recap', 'female', 'prompted', 'wheeler', 'headquarters', 'justified', 'addition', 'draw', 'mido', 'ban', 'surge', 'rammed', 'private', 'household', 'virgin', 'reunion', 'candy', 'monitor', 'bos', 'lonely', 'shanghai', 'specialist', 'stockton', 'wont', 'individual', 'beginner', 'dozen', 'talkin', 'accidentally', 'hollywood', 'acting', 'labour', 'pressed', 'chairman', 'fm', 'nasasolarsystem', 'dakota', 'lulgzimbestpicts', 'rea', 'mercury', 'fighting', 'though', 'bullet', 'fully', 'barn', 'restricted', 'franklin', 'wealthy', 'bite', 'review', 'everything', 'yellow', 'photography', 'vault', 'pmharper', 'patch', 'propertycasualty', 'lgbt', 'hers', 'mental', 'auckland', 'anchor', 'world', 'ww', 'zaynmalik', 'around', 'exploded', 'insomnia', 'palermo', 'troll', 'programme', 'my', 'detained', 'hero', 'loose', 'pkk', 'event', 'meme', 'gabon', 'debt', 'cat', 'pay', 'beat', 'variety', 'grant', 'typo', 'rapidcity', 'mud', 'endangered', 'yep', 'trial', 'violent', 'utckm', 'haiyan', 'far', 'localarsonist', 'passed', 'nv', 'casualty', 'strongly', 'postbattle', 'second', 'wilshere', 'torch', 'londonfire', 'survive', 'sink', 'military', 'coaster', 'elkhorn', 'jonathanferrell', 'deserves', 'filled', 'pillow', 'tech', 'indeed', 'permanent', 'skirt', 'uber', 'rover', 'cried', 'rihanna', 'karachi', 'leave', 'pipeline', 'netanyahu', 'stab', 'finally', 'yugvani', 'seeker', 'possibly', 'an', 'chem', 'soldier', 'earthquake', 'commerce', 'jimmyfallon', 'lez', 'electro', 'abortion', 'yonews', 'lightening', 'destroyed', 'michaelsos', 'soft', 'advised', 'major', 'valley', 'ameenshaikh', 'call', 'unnecessary', 'ops', 'andrew', 'population', 'ya', 'guided', 'table', 'spaniel', 'alcohol', 'survey', 'yougov', 'igers', 'contruction', 'aw', 'sb', 'transformation', 'south', 'battery', 'thunderstorm', 'ring', 'behalf', 'lowlying', 'join', 'singing', 'view', 'tank', 'grabber', 'kissed', 'throw', 'master', 'tunnel', 'tv', 'careful', 'google', 'iphone', 'derivative', 'oppression', 'website', 'honestly', 'kidding', 'door', 'had', 'defend', 'ugh', 'longterm', 'learning', 'move', 'replacing', 'hipster', 'changed', 'saipan', 'kingdom', 'sweep', 'attempting', 'kalle', 'hi', 'nato', 'village', 'summerfate', 'peaceful', 'condolence', 'decide', 'boko', 'quoted', 'biker', 'investing', 'correct', 'plug', 'probe', 'closed', 'bernardino', 'microsoft', 'prince', 'steel', 'dopey', 'xv', 'enemy', 'lifethreatening', 'pivot', 'ik', 'squirrel', 'blame', 'ntsb', 'mutant', 'riot', 'stretcher', 'afghan', 'contributing', 'river', 'sandstorm', 'dont', 'islamic', 'assembly', 'impending', 'transformed', 'complex', 'iraq', 'shook', 'clothes', 'murderous', 'american', 'request', 'rating', 'remain', 'djicemoon', 'score', 'three', 'russia', 'department', 'harwich', 'lightningcaused', 'hearthstone', 'glass', 'croatian', 'anymore', 'term', 'arriving', 'pain', 'concern', 'mp', 'exciting', 'daytoday', 'irony', 'bg', 'david', 'eastward', 'listing', 'key', 'dealing', 'coastal', 'missed', 'monsoon', 'certificate', 'pinpoint', 'affiliation', 'germany', 'bestnaijamade', 'bypass', 'lv', 'fukushima', 'pipe', 'space', 'searching', 'destroys', 'reading', 'road', 'wipp', 'dedicated', 'cryptic', 'pradesh', 'samanthaturne', 'injury', 'turning', 'wouldelectrocute', 'wake', 'club', 'sneak', 'asleep', 'portion', 'itunesmusic', 'wayne', 'raid', 'legendary', 'pin', 'cont', 'hike', 'japton', 'ian', 'just', 'heavenly', 'diff', 'vulnerable', 'plaguing', 'interlaken', 'camera', 'bus', 'dwarf', 'bout', 'spreading', 'mail', 'ashayo', 'forgive', 'feminist', 'bluetooth', 'chaos', 'senator', 'confirmation', 'reid', 'armageddon', 'apparent', 'blksampwhts', 'egged', 'chart', 'invoice', 'jp', 'aoms', 'political', 'kindness', 'gettin', 'favourite', 'slide', 'teacher', 'homeless', 'grey', 'occupant', 'flip', 'worstsummerjob', 'serve', 'spring', 'constantly', 'wondering', 'gang', 'cite', 'rohnertparkdps', 'isi', 'putting', 'head', 'cupcake', 'deluged', 'sell', 'reminds', 'texas', 'warned', 'knee', 'cuz', 'streak', 'tribune', 'ac', 'person', 'taste', 'public', 'relentless', 'supposed', 'existence', 'creativity', 'pdx', 'failure', 'tie', 'cut', 'thx', 'served', 'blackberry', 'relief', 'injured', 'chip', 'graveyard', 'global', 'warns', 'work', 'abandoned', 'albany', 'exposure', 'mooresville', 'victim', 'activated', 'again', 'abia', 'hip', 'bbcnews', 'weekend', 'enugu', 'davidvonderhaar', 'soak', 'function', 'group', 'mediterranean', 'hockey', 'striking', 'bloomberg', 'revolt', 'contemplating', 'snow', 'secret', 'chunk', 'aftershock', 'zero', 'mm', 'parade', 'floor', 'oh', 'yankee', 'southeast', 'brock', 'thirsty', 'cr', 'full', 'animalrescue', 'wildhorses', 'godslove', 'continues', 'paint', 'wbioterrorismampuse', 'rotten', 'lmfao', 'coahuila', 'denial', 'xoxo', 'board', 'fueling', 'giveaway', 'extremely', 'turkey', 'volga', 'rpics', 'warne', 'friggin', 'rtamerica', 'andor', 'rank', 'return', 'palestinian', 'shouting', 'zionist', 'beach', 'af', 'saudi', 'avalanche', 'z', 'point', 'fate', 'jonathan', 'hug', 'realdonaldtrump', 'evacuated', 'unhappiness', 'outfit', 'locke', 'baseball', 'msnbc', 'artistsunited', 'leader', 'expecting', 'type', 'lol', 'weathernetwork', 'israel', 'bother', 'clev', 'dey', 'pam', 'certainly', 'definitely', 'remember', 'attractive', 'link', 'columbia', 'countynews', 'justmarried', 'to', 'stir', 'dante', 'sweater', 'yobe', 'discovered', 'behavior', 'mediterran', 'nigeria', 'showing', 'reshapes', 'yo', 'dying', 'roh', 'arnhem', 'assistant', 'screaming', 'increased', 'lifted', 'unlocking', 'pedestrian', 'striker', 'formation', 'ok', 'touch', 'small', 'old', 'bash', 'mph', 'mentally', 'microsofts', 'reacted', 'warming', 'sub', 'unawares', 'militant', 'official', 'm', 'favorite', 'therapy', 'multiple', 'weed', 'loop', 'stepped', 'ironically', 'back', 'warrior', 'correspondent', 'premium', 'exchange', 'wired', 'travis', 'idfire', 'sunni', 'strike', 'halt', 'ebike', 'open', 'alarmed', 'tough', 'acid', 'outflow', 'plus', 'pls', 'china', 'janaq', 'swell', 'email', 'starbucks', 'probably', 'plenty', 'eurotunnel', 'cared', 'dorret', 'grown', 'bloody', 'sexual', 'walker', 'text', 'candle', 'holmgren', 'grenade', 'scare', 'gate', 'horn', 'illusion', 'suppose', 'pepper', 'co', 'heading', 'problem', 'perfect', 'prefer', 'powerlines', 'groom', 'rickperry', 'feared', 'cover', 'eq', 'honor', 'sn', 'anthony', 'seduction', 'broke', 'made', 'girlfriend', 'radiation', 'interstate', 'downpour', 'omg', 'personnel', 'suru', 'reef', 'regional', 'job', 'clip', 'asylum', 'afterlife', 'hospital', 'auction', 'justinbieber', 'magisters', 'blah', 'high', 'youth', 'shit', 'ethereal', 'told', 'spontaneously', 'journal', 'soccer', 'blowing', 'awaits', 'mistreated', 'blessing', 'ed', 'stunned', 'indi', 'human', 'volcano', 'swallow', 'evil', 'jr', 'double', 'causing', 'university', 'meekmill', 'mind', 'shira', 'gf', 'soon', 'everyday', 'whitbourne', 'marshall', 'washingtonpost', 'invalid', 'cloud', 'trapped', 'button', 'kuwait', 'press', 'silvergray', 'ship', 'hotel', 'leaving', 'protector', 'houston', 'waving', 'kodiak', 'bin', 'steam', 'ante', 'two', 'rescue', 'waterresistant', 'slammed', 'numbered', 'precipitation', 'guatemala', 'republic', 'islam', 'satan', 'foxtrot', 'di', 'young', 'spear', 'increasing', 'greenharvard', 'refugee', 'place', 'trouble', 'attained', 'baruch', 'val', 'demonstratio', 'easily', 'latestnews', 'triumph', 'survived', 'address', 'professional', 'sail', 'dolphin', 'robot', 'entire', 'surprise', 'meter', 'weak', 'voluntary', 'brake', 'odds', 'while', 'resource', 'dealbreaker', 'wrap', 'disorder', 'deadliest', 'die', 'reno', 'coach', 'asked', 'dundee', 'burn', 'material', 'anna', 'supernatural', 'self', 'helicopter', 'pas', 'library', 'rocky', 'pcp', 'measurement', 'megynkelly', 'luck', 'thisiswhywecanthavenicethings', 'fav', 'fourth', 'askcharley', 'loaded', 'doublecups', 'started', 'breaking', 'chase', 'tease', 'falcon', 'needed', 'twentynine', 'nhl', 'haunting', 'bug', 'not', 'recommend', 'niall', 'funtenna', 'nickcannon', 'worked', 'gas', 'forecast', 'pet', 'bat', 'aust', 'admin', 'satellite', 'popularmmos', 'thief', 'riversiskiyou', 'running', 'fixed', 'helen', 'gander', 'legion', 'hyderabad', 'officially', 'falling', 'studio', 'cta', 'rcmp', 'rained', 'sniping', 'lesson', 'hungry', 'universe', 'injures', 'restaurant', 'brother', 'hahaha', 'committee', 'wwwcbplawyers', 'watching', 'fell', 'ianhellfire', 'prom', 'toxic', 'icemoon', 'hew', 'reward', 'dijk', 'national', 'denier', 'jacque', 'foxnew', 'cobra', 'incredible', 'coat', 'unconfirmed', 'managed', 'whistle', 'ad', 'invited', 'component', 'canoe', 'reagan', 'death', 'particularly', 'meal', 'trusting', 'hottest', 'moderate', 'mcilroy', 'antonio', 'lotz', 'odd', 'dryer', 'evidence', 'apocalypse', 'worse', 'joint', 'quartz', 'policy', 'saving', 'rapper', 'maj', 'calling', 'punch', 'palm', 'treating', 'hijacking', 'matter', 'enabled', 'gr', 'army', 'cld', 'men', 'hawaii', 'brooke', 'declares', 'adding', 'xxx', 'gta', 'ipod', 'wa', 'involving', 'strange', 'shitty', 'trap', 'counselor', 'wom', 'sent', 'lot', 'puncture', 'firefighting', 'testimony', 'cement', 'abusing', 'line', 'desert', 'holding', 'w', 'bwp', 'office', 'pressure', 'southern', 'fatally', 'love', 'customer', 'canyon', 'married', 'swing', 'ch', 'fled', 'fergusons', 'thyroid', 'away', 'afp', 'executive', 'industry', 'vaccine', 'golf', 'lay', 'negro', 'france', 'designed', 'envw', 'nu', 'firetruck', 'rep', 'katrina', 'cargo', 'paved', 'taken', 'setting', 'gop', 'hysteria', 'nba', 'hop', 'natural', 'publicizing', 'era', 'dc', 'costly', 'or', 'green', 'wx', 'et', 'catfish', 'slower', 'giant', 'briefing', 'eaten', 'her', 'name', 'being', 'shower', 'destructive', 'science', 'shania', 'inc', 'massmurderer', 'long', 'grain', 'paris', 'direction', 'wearing', 'income', 'sign', 'freakiest', 'a', 'everytime', 'reduce', 'euro', 'agrees', 'nyc', 'rworldnews', 'matching', 'walked', 'always', 'step', 'god', 'real', 'honest', 'abomination', 'alaska', 'birthday', 'exercise', 'principle', 'chilling', 'he', 'zakbagans', 'linked', 'thirst', 'yay', 'billboard', 'hurricane', 'theory', 'cladding', 'nb', 'steve', 'blizzarddraco', 'yearold', 'bag', 'jones', 'shock', 'philippine', 'writing', 'specimen', 'u', 'engine', 'suspect', 'aftershockdelo', 'tea', 'kick', 'share', 'elijah', 'pitcher', 'wy', 'sport', 'dual', 'argument', 'dutch', 'vantage', 'titan', 'extreme', 'haram', 'cnnbrk', 'hidden', 'nightmare', 'wanting', 'fat', 'scifi', 'etisalat', 'roller', 'pathogen', 'evacuation', 'leveled', 'sandiego', 'mac', 'morning', 'ocean', 'schwarber', 'diver', 'bullseye', 'angel', 'reject', 'iron', 'dangerous', 'soviet', 'legit', 'believe', 'clash', 'freedom', 'home', 'especially', 'gi', 'lucky', 'terrible', 'rory', 'bomb', 'sony', 'no', 'steak', 'insurer', 'tonight', 'hair', 'esteemed', 'moved', 'already', 'drone', 'bell', 'newyork', 'removing', 'majority', 'colluded', 'stolen', 'gn', 'bend', 'voting', 'shut', 'round', 'great', 'patriot', 'cleared', 'titanic', 'yet', 'pakpattan', 'p', 'sample', 'square', 'cafe', 'scoopit', 'faceless', 'maryland', 'symphony', 'knob', 'census', 'rule', 'ray', 'shepherd', 'simply', 'mistake', 'redhanded', 'bayelsa', 'vladimir', 'property', 'wouldemocracy', 'class', 'window', 'blind', 'helping', 'school', 'condemn', 'relationship', 'boxer', 'utv', 'egypt', 'acted', 'minhazmerchant', 'runion', 'newberg', 'dambisa', 'reshape', 'unprecedented', 'roll', 'finger', 'emperor', 'backup', 'pantherattack', 'fresh', 'virgil', 'tied', 'nail', 'lizard', 'elite', 'beautiful', 'oops', 'govt', 'basement', 'quality', 'michelebachman', 'annihilation', 'imperfect', 'face', 'atmosphere', 'actually', 'bought', 'centre', 'dry', 'meg', 'upheaval', 'hiker', 'fart', 'pol', 'tee', 'apocalyptic', 'captured', 'esh', 'white', 'affiliate', 'nagasaki', 'unfolded', 'ltlt', 'mon', 'cope', 'mountaineering', 'custer', 'voice', 'donation', 'entered', 'isil', 'premature', 'leeds', 'cake', 'reuters', 'met', 'feel', 'lung', 'kowing', 'wound', 'darkness', 'scale', 'championship', 'shaking', 'blacklivesmatter', 'areddit', 'hang', 'attendance', 'dame', 'blood', 'distance', 'italy', 'hiding', 'selling', 'utc', 'color', 'bioterror', 'n', 'big', 'dystopian', 'tiger', 'walter', 'billionaire', 'expected', 'how', 'responsibility', 'er', 'legislation', 'environmental', 'control', 'scwx', 'bolster', 'assistance', 'psalm', 'ruining', 'petitiontake', 'wreckage', 'western', 'tubestrike', 'store', 'cancelled', 'livingsafely', 'fatal', 'swim', 'delivers', 'rb', 'develop', 'bagging', 'j', 'idk', 'plane', 'meltdown', 'landing', 'ablaze', 'drain', 'editor', 'slanglucci', 'pickup', 'body', 'end', 'financial', 'building', 'eastern', 'tree', 'strict', 'circus', 'jeb', 'hardy', 'finding', 'sometimes', 'montgomery', 'hailstorm', 'richard', 'mutual', 'stabbing', 'barrier', 'plot', 'william', 'jose', 'german', 'because', 'warfighting', 'homeland', 'infosec', 'rapidly', 'hatchetwielding', 'automatic', 'bitch', 'hermancranston', 'critical', 'lately', 'collapse', 'iranian', 'sympathy', 'shelter', 'following', 'rossum', 'speaker', 'christian', 'condo', 'inmate', 'wb', 'mate', 'handbag', 'hieroglyphic', 'curved', 'prebreak', 'metro', 'scariest', 'prophet', 'manmade', 'ironic', 'mouth', 'park', 'investigate', 'joel', 'railway', 'rape', 'readingapocalypse', 'chest', 'rich', 'strip', 'mod', 'dis', 'cocaine', 'soudelors', 'ay', 'quake', 'hazardous', 'note', 'joneskyle', 'needle', 'rid', 'quarter', 'liked', 'dlh', 'meinlcymbals', 'catastrophe', 'shoulder', 'mohammed', 'idp', 'retail', 'faulty', 'hazard', 'kanye', 'fevwarrior', 'royal', 'approaching', 'opening', 'classic', 'johnny', 'autumn', 'gtgt', 'awkward', 'boeing', 'hiroshima', 'july', 'season', 'iconic', 'kisii', 'fear', 'if', 'armed', 'kidnapped', 'bored', 'that', 'raw', 'business', 'crashing', 'contrast', 'fortunately', 'panicking', 'madison', 'supreme', 'artificial', 'furious', 'demolished', 'airplane', 'autoinsurance', 'guest', 'proposed', 'hat', 'chemical', 'in', 'ki', 'arson', 'minor', 'who', 'oregon', 'skyline', 'angeles', 'ty', 'mhtwfnetofficials', 'swansea', 'describing', 'ooh', 'recording', 'soaking', 'european', 'arabia', 'imported', 'reckless', 'etc', 'hopefully', 'ex', 'corner', 'hah', 'ended', 'motor', 'forward', 'defense', 'dating', 'ig', 'ct', 'mudslide', 'chosen', 'climatechange', 'mirage', 'airport', 'unity', 'lglorg', 'dust', 'trek', 'dope', 'hughes', 'hall', 'account', 'vision', 'asian', 'learn', 'demolition', 'feast', 'character', 'campus', 'rn', 'stick', 'gunsense', 'va', 'broad', 'woke', 'circuit', 'moment', 'sj', 'fall', 'contract', 'peanut', 'cherokee', 'tryna', 'knowing', 'figure', 'elliott', 'realized', 'smaug', 'sleeping', 'senate', 'thriller', 'detonation', 'crazy', 'battlefield', 'volunteer', 'bbc', 'metrofmtalk', 'lyric', 'vods', 'bed', 'bass', 'omars', 'moscow', 'ergo', 'weston', 'idis', 'psychological', 'port', 'examining', 'windstorm', 'toe', 'athlete', 'gmt', 'costlier', 'gmmbc', 'lloyd', 'planet', 'bully', 'speed', 'concept', 'ahh', 'karma', 'wife', 'humanity', 'upgrade', 'uncle', 'hurt', 'caused', 'nose', 'attempt', 'europe', 'dy', 'dropping', 'brought', 'schiphol', 'sheeran', 'medal', 'procedure', 'edition', 'hr', 'crematorium', 'md', 'aug', 'mat', 'nursing', 'conflict', 'ttes', 'tuesday', 'sydney', 'satchel', 'austin', 'claim', 'latin', 'fedex', 'coursing', 'summer', 'kith', 'defect', 'weird', 'syria', 'nda', 'fam', 'awwww', 'radioactive', 'arianagrande', 'paul', 'calamity', 'zabadani', 'barry', 'like', 'spectacular', 'nc', 'unfortunately', 'nasahurricane', 'stagetwo', 'loan', 'remembering', 'unveiled', 'here', 'sp', 'able', 'billneelynbc', 'mourning', 'copycat', 'milkshake', 'photoshop', 'lunch', 'responding', 'common', 'prayer', 'teamhendrick', 'thomas', 'freeway', 'seriously', 'bal', 'pakistannews', 'silver', 'impact', 'happens', 'info', 'daniel', 'unsuckdcmetro', 'considering', 'truck', 'burst', 'dothraki', 'charged', 'safari', 'battleship', 'vida', 'wattle', 'id', 'moon', 'yahoo', 'blog', 'chewing', 'liable', 'option', 'street', 'england', 'epilepsy', 'ball', 'begin', 'meat', 'veteran', 'patient', 'also', 'piner', 'applies', 'kidnap', 'typical', 'suddenly', 'dam', 'discussion', 'twice', 'charge', 'shame', 'waist', 'witch', 'curb', 'moore', 'brooklyn', 'quote', 'start', 'effort', 'forest', 'fantastic', 'fighter', 'famous', 'phil', 'thursday', 'nosurrender', 'locked', 'taliban', 'held', 'bicep', 'transporting', 'commercial', 'dinner', 'me', 'mid', 'roster', 'action', 'tflbusalerts', 'wear', 'hijacker', 'nj', 'mexico', 'mourns', 'management', 'pandemonium', 'greece', 'geometric', 'vehicle', 'ear', 'tongue', 'debatequestionswewanttohear', 'downstairs', 'look', 'sixmeter', 'll', 'traverse', 'cruise', 'electricity', 'difference', 'collective', 'combust', 'newzsacramento', 'lavenderpoetrycafe', 'museum', 'waste', 'notice', 'constant', 'liberal', 'man', 'signed', 'joke', 'choose', 'buddha', 'fez', 'near', 'rocket', 'raynor', 'controller', 'np', 'samaritan', 'all', 'removed', 'bakeofffriends', 'insult', 'tokyo', 'youve', 'folk', 'voodoo', 'feat', 'sort', 'firework', 'percent', 'effect', 'bound', 'drunk', 'bc', 'scout', 'jacksonville', 'shaker', 'tower', 'delayed', 'forsure', 'vashon', 'ctd', 'marin', 'normal', 'blessed', 'vet', 'mechanical', 'solicitor', 'welcome', 'nah', 'po', 'theological', 'son', 'stewart', 'showcase', 'mobile', 'winner', 'attitude', 'bn', 'japan', 'collide', 'exploration', 'cairo', 'inner', 'money', 'refugio', 'bb', 'displaced', 'remove', 'recovery', 'rock', 'violation', 'shaw', 'trancy', 'aggressive', 'cancer', 'gameplay', 'tip', 'flat', 'soul', 'video', 'jean', 'mega', 'standuser', 'demolish', 'patna', 'couple', 'gilbert', 'sister', 'thanks', 'help', 'dude', 'fairy', 'encouragement', 'weighs', 'sir', 'carried', 'auto', 'saying', 'drum', 'worn', 'outlet', 'northland', 'wod', 'camper', 'bath', 'lmfaoooo', 'whomever', 'lasting', 'sr', 'outta', 'dye', 'canberra', 'tweet', 'chair', 'deep', 'ushanka', 'mercados', 'touched', 'brazilian', 'whale', 'hosting', 'county', 'french', 'kosciusko', 'tb', 'apch', 'cunt', 'dnb', 'sparked', 'okay', 'depth', 'zone', 'thisizbwright', 'flattened', 'reddit', 'affected', 'spur', 'drink', 'bargain', 'novel', 'cycling', 'malik', 'safer', 'project', 'laois', 'irish', 'familia', 'refused', 'ri', 'primarily', 'marketer', 'frozen', 'arrive', 'failed', 'wwii', 'november', 'efak', 'calumsos', 'gym', 'wwi', 'ever', 'sounding', 'ovofest', 'mitt', 'chris', 'halifax', 'llf', 'epicentre', 'swimming', 'modified', 'mood', 'lowndes', 'headphone', 'sand', 'equal', 'image', 'fireman', 'bank', 'til', 'floated', 'loos', 'rear', 'squeeze', 'reduced', 'mishacollins', 'joy', 'stadium', 'harry', 'cnn', 'coverage', 'mountain', 'sake', 'artist', 'quickly', 'saturn', 'salem', 'express', 'food', 'telegraph', 'alright', 'kyle', 'briton', 'moyo', 'rice', 'moth', 'hunter', 'recreates', 'cfc', 'getting', 'tempered', 'curfew', 'skin', 'peacefully', 'mall', 'staff', 'jerry', 'beforeitsnews', 'description', 'impacted', 'lawrence', 'kiernan', 'you', 'planted', 'meet', 'mic', 'regular', 'massacre', 'target', 'hurry', 'sheet', 'adventure', 'knocking', 'deserve', 'specially', 'factory', 'blizzard', 'report', 'cofounder', 'anyways', 'devil', 'british', 'jordan', 'transport', 'lollapalooza', 'rip', 'detonate', 'jam', 'bancodeseries', 'myself', 'doc', 'nsfw', 'false', 'usual', 'court', 'short', 'hello', 'site', 'energy', 'approval', 'bestseller', 'cameroon', 'miner', 'know', 'cry', 'ml', 'greenway', 'edt', 'trash', 'red', 'noahanyname', 'removal', 'future', 'sigalert', 'exc', 'un', 'tablet', 'healthcare', 'lightning', 'hail', 'butterfinger', 'next', 'pounded', 'kit', 'specif', 'leo', 'stout', 'dmpl', 'vine', 'longer', 'foul', 'timelapse', 'alot', 'cbc', 'undercover', 'devastation', 'footage', 'wait', 'spending', 'emotionally', 'game', 'different', 'oral', 'killer', 'btwn', 'applaud', 'christie', 'impressive', 'ignore', 'wouldnt', 'fishing', 'flight', 'generally', 'change', 'document', 'debris', 'widespread', 'vocal', 'john', 'throat', 'ridiculous', 'come', 'gallipoli', 'ebola', 'cmon', 'nytimes', 'hide', 'cafire', 'spark', 'aa', 'stone', 'landscape', 'pakistani', 'care', 'desire', 'showed', 'lake', 'nfl', 'fresno', 'extra', 'usa', 'loud', 'fool', 'sahib', 'lying', 'dvc', 'michigan', 'chonce', 'babe', 'picture', 'uribe', 'jewish', 'fish', 'denmark', 'careless', 'northwestern', 'log', 'mike', 'civil', 'highest', 'taking', 'album', 'cast', 'wall', 'spos', 'deed', 'denali', 'dvd', 'trapmusic', 'billing', 'icelandreview', 'spider', 'past', 'nyt', 'fist', 'aka', 'legal', 'write', 'magner', 'thurs', 'pharaoh', 'internet', 'detectado', 'provide', 'hoe', 'gopdebate', 'crash', 'premier', 'fucking', 'method', 'thigh', 'psa', 'attraction', 'nasty', 'structural', 'much', 'education', 'ohio', 'israeli', 'danisnotonfire', 'pak', 'pulled', 'reveals', 'fleeing', 'brief', 'nearby', 'cold', 'utter', 'week', 'exchanging', 'nuke', 'omega', 'horrific', 'ghost', 'juror', 'india', 'av', 'solo', 'gps', 'freestyle', 'worldwide', 'stuck', 'pick', 'virus', 'sac', 'federal', 'kicked', 'genius', 'manufactured', 'tix', 'gg', 'light', 'bowling', 'country', 'damaged', 'apparently', 'bring', 'physical', 'nature', 'kurdish', 'protect', 'starter', 'simple', 'handle', 'so', 'neighborhood', 'sin', 'org', 'chicagoarea', 'active', 'siding', 'freefrom', 'nigga', 'at', 'avoiding', 'blight', 'owner', 'goodbye', 'affect', 'sen', 'carlos', 'toilet', 'bieber', 'there', 'surf', 'walking', 'inferno', 'ticket', 'teenager', 'front', 'fading', 'compete', 'justin', 'stealing', 'mama', 'strengthening', 'biggest', 'few', 'carry', 'thousand', 'family', 'mukilteo', 'delay', 'wan', 'onlinecommunities', 'mchenry', 'annual', 'canada', 'mode', 'ireland', 'fort', 'socket', 'suck', 'swiss', 'blueprint', 'le', 'lorry', 'medicine', 'dear', 'starving', 'cheese', 'shared', 'grand', 'partnership', 'cotton', 'foreign', 'hellfire', 'tc', 'vietnamese', 'overturn', 'fieg', 'runner', 'abuseddesolateamplost', 'damaging', 'subject', 'openly', 'walerga', 'illness', 'fyi', 'lethal', 'pc', 'ask', 'pasta', 'fair', 'pundit', 'quiz', 'realise', 'answer', 'wit', 'njenga', 'survival', 'cap', 'youtube', 'jealous', 'cdt', 'al', 'emergency', 'vip', 'goal', 'butt', 'exacerbated', 'mamata', 'microlight', 'wd', 'jailed', 'kiss', 'sale', 'accused', 'obsessed', 'ee', 'muscle', 'border', 'tutorial', 'vice', 'wonder', 'profile', 'opera', 'banquet', 'calif', 'circle', 'tag', 'dieplease', 'success', 'handling', 'delete', 'poland', 'murdered', 'threaten', 'struck', 'grew', 'wmv', 'sailing', 'captain', 'post', 'dead', 'cliff', 'arrested', 'james', 'clinton', 'fuck', 'ted', 'information', 'ohh', 'nude', 'theater', 'backpack', 'speak', 'rest', 'roger', 'lived', 'surfer', 'client', 'unr', 'relax', 'left', 'posted', 'lubbock', 'trend', 'aircraft', 'powerful', 'massive', 'smh', 'location', 'ak', 'tomorrow', 'farrakhan', 'arwx', 'teeth', 'bay', 'malaysian', 'peak', 'sweat', 'loss', 'hole', 'clean', 'eastbound', 'restore', 'shantae', 'soudelor', 'lighting', 'sw', 'computer', 'hack', 'cooler', 'amp', 'prosecuted', 'cod', 'sharethis', 'tasmania', 'cracking', 'civilian', 'swallowed', 'source', 'instant', 'bundle', 'tyler', 'looked', 'workplace', 'shake', 'history', 'economy', 'lemon', 'session', 'sacramento', 'phone', 'ambulance', 'way', 'greg', 'crown', 'company', 'dw', 'recent', 'ga', 'goulburn', 'down', 'perfectly', 'dog', 'jon', 'northwest', 'bio', 'yall', 'aquarium', 'order', 'jump', 'listen', 'australia', 'tampa', 'childhood', 'sf', 'aba', 'rate', 'michael', 'alex', 'aogashima', 'manager', 'feinstein', 'blizzheroes', 'wolf', 'doll', 'rob', 'theadvocatemag', 'ink', 'cream', 'waking', 'degree', 'updated', 'pan', 'imagined', 'soundcloud', 'flow', 'forever', 'written', 'jupiter', 'preorder', 'stacey', 'spain', 'flood', 'environment', 'thinking', 'welfare', 'visto', 'declined', 'logan', 'britney', 'send', 'infinity', 'wht', 'enormous', 'kindle', 'meatloving', 'declared', 'deliver', 'sooo', 'faced', 'cyprus', 'thought', 'over', 'ouvindo', 'hasbro', 'tension', 'worst', 'conclusively', 'period', 'nowplaying', 'letsfootball', 'known', 'treatment', 'fired', 'devalue', 'madhya', 'arm', 'student', 'stop', 'irandeal', 'cbcca', 'response', 'chose', 'downfall', 'explosionproof', 'give', 'pot', 'denver', 'feeding', 'da', 'lifting', 'got', 'acquire', 'horror', 'smoky', 'impressed', 'frontpage', 'stamp', 'role', 'minute', 'exclusive', 'upwards', 'charity', 'claytonbryant', 'apple', 'were', 'recount', 'itunes', 'glad', 'temper', 'weapon', 'crushed', 'intact', 'comparison', 'murder', 'device', 'heartless', 'clueless', 'holy', 'tried', 'abcnews', 'hoping', 'boston', 'mock', 'ive', 'desolate', 'trump', 'australian', 'shocked', 'ignition', 'rescuer', 'obispo', 'letting', 'norman', 'jake', 'total', 'pendleton', 'fire', 'buffer', 'gave', 'sittwe', 'ugly', 'marine', 'print', 'engineer', 'eruption', 'asking', 'guillermo', 'breakfast', 'still', 'neighbor', 'feed', 'refund', 'cain', 'ethiopian', 'live', 'nikeplus', 'series', 'pushing', 'th', 'civilization', 'gawx', 'rockin', 'wisenews', 'caesar', 'cheryl', 'mv', 'gtfo', 'chief', 'roosevelt', 'destruction', 'georgia', 'required', 'chat', 'nixon', 'worry', 'komen', 'marketing', 'intensity', 'exist', 'oun', 'budget', 'hobo', 'illinois', 'bringing', 'ontario', 'pitch', 'sharp', 'painting', 'summertime', 'saturday', 'deny', 'addict', 'dropped', 'distributed', 'timkaine', 'traditional', 'yea', 'upgrading', 'correction', 'silence', 'nw', 'galactic', 'maybe', 'usar', 'shirt', 'pull', 'wud', 'compliant', 'expand', 'tropical', 'choking', 'shark', 'directioners', 'sanction', 'weakening', 'happily', 'inevitably', 'inundation', 'hypocrisy', 'till', 'hype', 'rare', 'bummer', 'said', 'bubble', 'typhoondevastated', 'wet', 'xd', 'florida', 'awesome', 'wheavenly', 'happened', 'scott', 'swear', 'sensorsenso', 'enrt', 'desk', 'brave', 'innovation', 'bigger', 'miami', 'repay', 'scheme', 'providence', 'ci', 'worldnews', 'japanese', 'arsenal', 'jennifer', 'scotland', 'zombie', 'iraqi', 'preservation', 'nh', 'listenlive', 'responsible', 'opus', 'quick', 'honey', 'ago', 'ill', 'browser', 'core', 'infoorder', 'platform', 'imagine', 'apartment', 'ripped', 'bundled', 'fabric', 'news', 'whao', 'camilacabello', 'ipad', 'travelling', 'zimbabwe', 'height', 'writer', 'sunday', 'mtvhottest', 'important', 'taco', 'metric', 'comp', 'gay', 'afc', 'now', 'mo', 'house', 'every', 'im', 'zarry', 'scared', 'wtf', 'bro', 'clear', 'coral', 'west', 'workout', 'okwx', 'attacked', 'purchased', 'transit', 'tesla', 'offensive', 'tmp', 'sunset', 'latest', 'then', 'leading', 'los', 'julie', 'abbswinston', 'garbage', 'dubstep', 'tory', 'aware', 'wedaugth', 'legionnaire', 'offer', 'tremor', 'heartwarming', 'photographer', 'talkradio', 'party', 'protest', 'voted', 'church', 'selfimage', 'oklahoma', 'blutz', 'trying', 'dr', 'shop', 'carrying', 'lil', 'geneva', 'father', 'californian', 'pov', 'ptsdchat', 'fake', 'poverty', 'syrian', 'suffer', 'rush', 'spot', 'growingupblack', 'turned', 'gold', 'endures', 'personally', 'seek', 'charlotte', 'canaanite', 'guard', 'poll', 'parking', 'throwback', 'hot', 'joining', 'tested', 'forgotten', 'motorcraft', 'chelsea', 'township', 'electronic', 'central', 'weakness', 'edward', 'yahoonews', 'disappeared', 'del', 'smash', 'uniform', 'opposition', 'cab', 'nope', 'liberty', 'built', 'acoustic', 'mississauga', 'tlc', 'cutting', 'milwaukee', 'sandy', 'johnson', 'fairfax', 'will', 'exhibition', 'lock', 'conquest', 'tor', 'prone', 'appropriation', 'greedy', 'outbreak', 'somebody', 'bright', 'previously', 'luis', 'zipper', 'ma', 'salvador', 'working', 'el', 'reaching', 'crystal', 'resident', 'lith', 'finnish', 'len', 'richmond', 'tdp', 'passenger', 'engvaus', 'hour', 'kurd', 'contact', 'milk', 'went', 'parley', 'accident', 'straight', 'hampshire', 'lost', 'limit', 'push', 'tune', 'cum', 'remorse', 'anza', 'tr', 'lab', 'bore', 'sicily', 'pickens', 'advanced', 'confirms', 'recommended', 'salvation', 'beginning', 'revenue', 'felt', 'minority', 'download', 'pre', 'nan', 'respect', 'external', 'kashmir', 'ushed', 'collided', 'lrt', 'ptsd', 'tracking', 'retro', 'mile', 'shes', 'side', 'treat', 'vanuatu', 'disrupts', 'station', 'feeling', 'explosion', 'leather', 'harm', 'moving', 'robinson', 'tbt', 'host', 'curiosity', 'verdict', 'area', 'holiday', 'losing', 'heal', 'bulletin', 'batting', 'serial', 'least', 'memorial', 'surgery', 'server', 'peep', 'recover', 'native', 'connection', 'panel', 'jackson', 'prabhu', 'called', 'bear', 'dorman', 'kotaweather', 'happiness', 'warship', 'glimpse', 'alabama', 'software', 'downtown', 'kurtschlichter', 'wrecked', 'uganda', 'list', 'drawn', 'testing', 'caribbean', 'potential', 'sweet', 'trick', 'brit', 'health', 'rioter', 'bts', 'drake', 'keep', 'extensive', 'greatest', 'deck', 'movie', 'bluejays', 'rotator', 'magnum', 'lose', 'priceless', 'lous', 'refuse', 'neighbour', 'blazing', 'based', 'prediction', 'checked', 'wrapped', 'potentially', 'respected', 'cape', 'blue', 'playthursdays', 'outrage', 'fur', 'number', 'communication', 'base', 'throwingknifes', 'russian', 'threat', 'going', 'range', 'tragedy', 'tumblr', 'drop', 'independent', 'regret', 'jkl', 'noaa', 'both', 'fox', 'infectious', 'jersey', 'phantom', 'threw', 'jan', 'loretta', 'african', 'summary', 'demand', 'night', 'wither', 'disappearance', 'desolation', 'whitehouse', 'epic', 'half', 'dailykos', 'excited', 'famine', 'recorded', 'led', 'wfp', 'teamstream', 'confirm', 'prevention', 'net', 'afternoon', 'burnt', 'closure', 'mayan', 'story', 'structure', 'gel', 'brush', 'rohingya', 'portland', 'tape', 'beard', 'mi', 'km', 'sharing', 'maintain', 'countless', 'throwing', 'catch', 'code', 'broadway', 'condition', 'ibooklove', 'trfc', 'present', 'latino', 'certain', 'tch', 'happening', 'yelling', 'bjp', 'dannyonpc', 'north', 'uranium', 'oklahomaok', 'drifting', 'element', 'shift', 'by', 'delta', 'vi', 'abubaraa', 'disea', 'heaven', 'pumpkin', 'threatening', 'mining', 'date', 'atlanta', 'jazz', 'likely', 'offensivecontent', 'responds', 'ii', 'float', 'smell', 'interview', 'okinawa', 'bu', 'toll', 'whirlwind', 'longs', 'mgm', 'define', 'article', 'rayner', 'choice', 'politifiact', 'dove', 'sweetyoung', 'rutherford', 'announcement', 'value', 'appears', 'idiot', 'wish', 'later', 'cute', 'release', 'profit', 'taught', 'hannemans', 'inside', 'penalty', 'religion', 'chevrolet', 'jesus', 'scottwalker', 'aim', 'medium', 'motorcycle', 'serious', 'shaped', 'pregnant', 'cause', 'screw', 'drinking', 'let', 'sct', 'escape', 'crew', 'connectorconnecto', 'hamburg', 'slam', 'smile', 'typhoon', 'create', 'leaf', 'shell', 'surely', 'april', 'disappear', 'fouseytube', 'salt', 'simulation', 'plunging', 'settlement', 'pony', 'minaj', 'eb', 'climate', 'wireless', 'stylish', 'paper', 'camping', 'ego', 'previous', 'airline', 'udhampur', 'enjoying', 'architecture', 'jail', 'fest', 'burning', 'attack', 'emotional', 'released', 'bruise', 'telling', 'adult', 'beyonce', 'undergroundrailraod', 'nap', 'center', 'sound', 'fraction', 'trail', 'puppy', 'harrybecareful', 'emmerdale', 'ultimate', 'highly', 'temple', 'bike', 'worldnetdaily', 'ridge', 'democrat', 'hostageamp', 'as', 'nashville', 'missile', 'trophy', 'significant', 'overload', 'arizona', 'spaceship', 'paramedic', 'sensor', 'winning', 'crisis', 'wide', 'month', 'exhausted', 'skynews', 'mcdonalds', 'nasa', 'pirate', 'fee', 'ruined', 'xbox', 'yycstorm', 'console', 'roof', 'size', 'waiting', 'damage', 'pp', 'httpt', 'activates', 'cleveland', 'perspective', 'non', 'foster', 'epicenter', 'tooth', 'didnt', 'tram', 'confirmed', 'fallacy', 'art', 'slayer', 'temperature', 'involved', 'paid', 'see', 'issued', 'pluto', 'marvel', 'nostalgia', 'playoff', 'crude', 'todd', 'crippling', 'historic', 'myanmar', 'cd', 'queen', 'technica', 'act', 'lip', 'region', 'iredell', 'morgan', 'am', 'chesttorso', 'warn', 'trs', 'mayhem', 'taxi', 'messi', 'associated', 'awful', 'diablo', 'acre', 'gt', 'everybody', 'idea', 'projected', 'organization', 'oso', 'domestic', 'incident', 'annihilated', 'flag', 'chicago', 'free', 'for', 'libya', 'super', 'inevitable', 'sorrow', 'suv', 'cecilthelion', 'mess', 'maintenance', 'jack', 'koinnews', 'mineral', 'visited', 'alp', 'blowout', 'manchester', 'pacific', 'overtime', 'occurs', 'caution', 'admits', 'issue', 'nri', 'ripple', 'bread', 'prepared', 'myfitnesspal', 'antioch', 'awareness', 'changing', 'burned', 'reality', 'seismic', 'tgirl', 'tuning', 'homerescuers', 'lebanon', 'bull', 'vuitton', 'brand', 'xl', 'lane', 'glorious', 'negative', 'grateful', 'single', 'e', 'mill', 'midget', 'ten', 'weekold', 'humidity', 'football', 'scream', 'traveling', 'edinburgh', 'knew', 'coping', 'soup', 'sarah', 'institute', 'nut', 'cyclist', 'lion', 'gem', 'salmon', 'philly', 'startup', 'h', 'trauma', 'disgusting', 'better', 'test', 'mcmahon', 'worker', 'iii', 'with', 'abandon', 'bounty', 'crane', 'bridge', 'basis', 'pm', 'abbott', 'collision', 'wealth', 'product', 'rainfall', 'alone', 'vest', 'laundry', 'firefighter', 'thankfully', 'fury', 'min', 'anxious', 'leak', 'truly', 'heat', 'quarrel', 'michele', 'sadly', 'enhanced', 'association', 'unlocked', 'tsunami', 'zouma', 'evanston', 'object', 'search', 'gained', 'usually', 'asia', 'derails', 'piece', 'excuse', 'brady', 'entertainment', 'horse', 'heavy', 'ames', 'rejected', 'sophie', 'lady', 'slightly', 'stand', 'fr', 'suicidebombing', 'syndrome', 'neil', 'cannon', 'mh', 'martinmj', 'safety', 'episode', 'book', 'memory', 'soooo', 'retweeted', 'torching', 'montetjwitter', 'mx', 'sit', 'facebook', 'overnight', 'plummeted', 'service', 'male', 'loading', 'insight', 'scene', 'rider', 'reportedly', 'shooting', 'sense', 'lauren', 'train', 'newbie', 'journey', 'birmingham', 'produce', 'blast', 'bedroom', 'penny', 'nearly', 'cyber', 'she', 'monogram', 'dressed', 'gambit', 'announces', 'fed', 'rolling', 'counter', 'flew', 'film', 'age', 'thuggin', 'tool', 'douchebag', 'tyre', 'routecomplex', 'recycling', 'inspiring', 'asf', 'sewing', 'slave', 'excellent', 'cindy', 'pickerel', 'band', 'gon', 'huge', 'diamondkesawn', 'nick', 'placing', 'obliterated', 'sentinel', 'oc', 'digging', 'glenn', 'maximum', 'transfer', 'exactly', 'route', 'autobiography', 'abstorm', 'biological', 'hd', 'monday', 'maria', 'market', 'admit', 'dollar', 'med', 'digit', 'ground', 'eyewitness', 'exposed', 'seattle', 'revealed', 'cali', 'cousin', 'wine', 'playlist', 'mini', 'razing', 'dental', 'sitting', 'cu', 'pill', 'dramatic', 'fund', 'homie', 'tube', 'birth', 'air', 'muslim', 'taylor', 'internally', 'believing', 'prosyn', 'anti', 'beer', 'turkmen', 'concert', 'fir', 'sinjar', 'election', 'butthe', 'lower', 'vacant', 'atmospheric', 'difficult', 'eden', 'comic', 'mc', 'chick', 'drew', 'wftv', 'your', 'committed', 'bean', 'neck', 'congress', 'kitten', 'bp', 'none', 'dick', 'cable', 'sustainability', 'surface', 'bottle', 'spinning', 'bowl', 'lone', 'brutally', 'ton', 'cramer', 'deadly', 'dunbar', 'original', 'uk', 'khan', 'anchorage', 'baltimore', 'trace', 'trailer', 'darkest', 'are', 'senior', 'tragic', 'wmur', 'advice', 'battered', 'nicki', 'retweet', 'hahahah', 'settle', 'freespeech', 'harper', 'kind', 'junk', 'cm', 'elephant', 'atomic', 'shoe', 'happy', 'save', 'goldstein', 'snuff', 'niece', 'ft', 'including', 'hand', 'globe', 'investigation', 'crater', 'bet', 'screamqueens', 'philadelphia', 'excitement', 'growing', 'ride', 'gaza', 'closing', 'part', 'raung', 'selfies', 'screamed', 'ep', 'hazmat', 'lifetime', 'motivation', 'dtn', 'boise', 'contained', 'expert', 'youngheroesid', 'garden', 'commonwealth', 'monitoring', 'career', 'time', 'improvement', 'helpline', 'ben', 'jenner', 'network', 'watch', 'redlight', 'investigator', 'brisk', 'scuf', 'gtgtgt', 'count', 'terror', 'hella', 'neverending', 'feelin', 'chernobyl', 'coast', 'barackobama', 'forced', 'only', 'tanzania', 'strain', 'doubt', 'earned', 'build', 'coffee', 'mb', 'sibling', 'grandpa', 'nazi', 'cage', 'sanctioned', 'ancient', 'advertised', 'northeast', 'unit', 'traumatised', 'duke', 'benefit', 'pa', 'interest', 'sideline', 'spend', 'gun', 'relive', 'fly', 'threatens', 'aussie', 'attacking', 'drill', 'proud', 'apc', 'kca', 'hunger', 'winter', 'trip', 'toronto', 'naval', 'rainstorm', 'tent', 'hatchet', 'chattanooga', 'make', 'olap', 'decided', 'suicide', 'growth', 'twia', 'triedhttptcobbdpnjxsx', 'college', 'magic', 'autistic', 'snack', 'casperrmg', 'sturgis', 'fella', 'soo', 'tax', 'style', 'rightwaystan', 'rockyfire', 'yazidi', 'experiment', 'stock', 'via', 'sm', 'decade', 'george', 'knoxville', 'chain', 'wave', 'bid', 'municipal', 'really', 'demi', 'ronnie', 'eu', 'protecting', 'screenshots', 'pair', 'mf', 'guilty', 'favor', 'placed', 'largest', 'special', 'fast', 'vintage', 'nickcocofree', 'cost', 'zippednews', 'preview', 'navy', 'shooter', 'wedding', 'posting', 'palestine', 'trafford', 'ky', 'underway', 'nation', 'kill', 'barely', 'olive', 'beckarnley', 'editorial', 'poorly', 'bathroom', 'hillary', 'laughing', 'london', 'general', 'razed', 'outside', 'daesh', 'training', 'cabin', 'fkn', 'ignored', 'sep', 'bastard', 'show', 'wedn', 'capsized', 'scientist', 'realised', 'identitytheft', 'risk', 'buy', 'trolley', 'illustration', 'positive', 'it', 'pretty', 'newlywed', 'cdcgov', 'ruin', 'mr', 'chevy', 'operation', 'fennovoima', 'hinton', 'talk', 'bigamist', 'bang', 'inspection', 'featured', 'ukraine', 'yesterday', 'ant', 'jeff', 'como', 'data', 'cbs', 'friendship', 'trusty', 'add', 'gov', 'bangin', 'prior', 'commit', 'diamond', 'fixing', 'bff', 'bare', 'kelly', 'trading', 'plant', 'stack', 'sewer', 'duty', 'ordered', 'wattpad', 'col', 'averted', 'cbsbigbrother', 'capital', 'wen', 'accuses', 'marijuana', 'attention', 'rioting', 'idol', 'planning', 'hated', 'grill', 'racing', 'accept', 'sized', 'ghostwriter', 'itsjustinstuart', 'page', 'exited', 'director', 'flaming', 'electric', 'corleonedaboss', 'phew', 'r', 'fwy', 'resulted', 'stress', 'gadget', 'example', 'drowned', 'focus', 'warcraft', 'marek', 'boundary', 'wouldemolish', 'ca', 'diamorfiend', 'priority', 'california', 'without', 'forbes', 'brewing', 'jamaicaobserver', 'allowed', 'sprinter', 'vessel', 'reopen', 'middle', 'skinny', 'reporting', 'derby', 'sampling', 'pun', 'suryaray', 'logic', 'affecting', 'duck', 'armory', 'phoenix', 'reported', 'weyreygidi', 'scandal', 'jumped', 'uh', 'gm', 'derail', 'repatriated', 'tomcatarts', 'spit', 'cuban', 'muzzamil', 'worrying', 'nd', 'atk', 'guaranteed', 'orange', 'respond', 'stay', 'result', 'heart', 'but', 'disappoints', 'cree', 'hold', 'ankle', 'experiencing', 'maker', 'hooligan', 'amirite', 'instruction', 'terrorism', 'context', 'rightways', 'dorrets', 'slicker', 'amazing', 'outlook', 'incredibly', 'vietnam', 'sham', 'tidal', 'allow', 'casper', 'buckle', 'loved', 'cart', 'decent', 'disaster', 'fleet', 'electrical', 'abc', 'shipping', 'tale', 'recall', 'finishing', 'load', 'drama', 'romance', 'sleep', 'midnight', 'rainier', 'pdp', 'southampton', 'realmandyrain', 'fashionable', 'abused', 'earner', 'update', 'ahead', 'catastrophic', 'added', 'cool', 'stats', 'usgs', 'lmao', 'tha', 'meteoearth', 'solution', 'fix', 'use', 'bodybagging', 'musician', 'chinese', 'online', 'hobbit', 'detroit', 'drool', 'quarantined', 'summit', 'tsunamiesh', 'turn', 'trunk', 'storm', 'authentic', 'belief', 'thanku', 'listening', 'simulate', 'rudd', 'economic', 'firey', 'bob', 'slip', 'absolute', 'keratin', 'esp', 'ha', 'sosfam', 'darude', 'gust', 'panic', 'america', 'buffalo', 'simultaneous', 'politics', 'status', 'consider', 'we', 'spell', 'united', 'mania', 'witness', 'yemen', 'temporary', 'letter', 'pretend', 'bookboost', 'opened', 'alternative', 'wannabe', 'indoors', 'girl', 'chicken', 'nostril', 'won', 'began', 'marquei', 'poem', 'logistics', 'geller', 'intelligence', 'claimed', 'cue', 'imdb', 'sto', 'mafia', 'anellatulip', 'alois', 'progressive', 'vermont', 'encounter', 'proof', 'race', 'sean', 'author', 'bill', 'mnpdnashville', 'vacation', 'killed', 'opp', 'campaign', 'sided', 'resulting', 'fifa', 'financing', 'estimated', 'vote', 'track', 'ne', 'yazidis', 'woodlawn', 'force', 'flooding', 'backyard', 'newsintweets', 'offr', 'brings', 'kindermorgan', 'kept', 'battle', 'concluded', 'accionempresa', 'spoke', 'wood', 'want', 'sa', 'something', 'construction', 'collisionno', 'bangladesh', 'clown', 'emotion', 'csx', 'layout', 'dependency', 'urgent', 'ferry', 'intern', 'word', 'atm', 'currently', 'targeting', 'thin', 'livelihood', 'ross', 'credit', 'criminal', 'fan', 'intensifies', 'certified', 'forth', 'crush', 'wrist', 'brain', 'doctor', 'multi', 'indian', 'stuff', 'destroy', 'thee', 'farm', 'everyone', 'incase', 'flash', 'giving', 'en', 'new', 'mad', 'la', 'noted', 'emsc', 'selection', 'covered', 'mosque', 'agency', 'laden', 'mansehra', 'tumbling', 'medical', 'cdc', 'violence', 'murfreesboro', 'pray', 'purple', 'domain', 'fbi', 'signing', 'disco', 'mission', 'sismo', 'db', 'expose', 'wash', 'manslaughter', 'malaysia', 'kaduna', 'lawton', 'torture', 'bird', 'picked', 'average', 'wocowae', 'permit', 'sore', 'sing', 'bkn', 'guide', 'au', 'carpet', 'ryan', 'nepal', 'dirt', 'listed', 'balance', 'realization', 'ah', 'other', 'priest', 'gunman', 'ovo', 'stranded', 'spray', 'cnbc', 'partner', 'noncompliant', 'que', 'collection', 'lack', 'bistro', 'flame', 'haha', 'recognize', 'metlife', 'win', 'kindly', 'react', 'patience', 'foot', 'play', 'waimate', 'where', 'eh', 'premiere', 'dat', 'pleasure', 'collapsed', 'walmart', 'avenger', 'foxnews', 'accustomed', 'voter', 'inning', 'asap', 'newyorker', 'shipwreck', 'grow', 'dress', 'fifth', 'witter', 'emerges', 'display', 'wednesday', 'technology', 'mass', 'license', 'belongs', 'limited', 'steal', 'system', 'crowd', 'skanndtyagi', 'fragile', 'na', 'bicyclist', 'endorses', 'deluge', 'electrocute', 'dragon', 'sheriff', 'solitude', 'homs', 'occasion', 'geyser', 'juice', 'suspected', 'agree', 'inst', 'tf', 'bleeding', 'wow', 'seed', 'pamela', 'wce', 'remains', 'phase', 'yes', 'punished', 'moulding', 'cleanup', 'pace', 'island', 'mount', 'recipe', 'deal', 'thats', 'wicked', 'formed', 'shedding', 'shot', 'sex', 'troy', 'indonesia', 'english', 'trillion', 'throne', 'top', 'gif', 'topstories', 'elbow', 'healing', 'sight', 'brigade', 'messenger', 'snd', 'sippin', 'mma', 'question', 'smooth', 'v', 'durant', 'regardless', 'engage', 'radar', 'sue', 'nnw', 'surprised', 'experienced', 'habit', 'intersection', 'alberta', 'consent', 'continually', 'million', 'evacuating', 'match', 'crap', 'colorado', 'perquisite', 'tornado', 'gaining', 'drug', 'colder', 'peterjukes', 'sketch', 'matthew', 'marker', 'government', 'ultimalucha', 'fatality', 'him', 'mary', 'van', 'baby', 'vicinity', 'quarantine', 'olympic', 'gravel', 'mumbai', 'prepare', 'ave', 'program', 'windy', 'vampiro', 'engulfed', 'guy', 'concerned', 'prompt', 'elizabeth', 'newsarama', 'globalwarming', 'hannaph', 'croat', 'think', 'tote', 'climb', 'recently', 'genuine', 'adam', 'obliteration', 'racist', 'league', 'sponsor', 'opposite', 'law', 'hundred', 'life', 'created', 'vince', 'guess', 'rap', 'genocide', 'cheyenne', 'wild', 'flashback', 'fluid', 'mufc', 'laugh', 'talking', 'terrorist', 'nike', 'twitter', 'funny', 'thunder', 'dallas', 'caught', 'selfie', 'finish', 'meaning', 'blew', 'safe', 'punjab', 'extension', 'photoset', 'utterly', 'saved', 'idc', 'hitting', 'angry', 'raised', 'oth', 'crackdown', 'skill', 'asics', 'venice', 'mullah', 'grove', 'little', 'blk', 'salvis', 'b', 'midwest', 'outage', 'flower', 'cave', 'nbcnews', 'lt', 'shout', 'rt', 'braking', 'derailment', 'anxiety', 'charger', 'headed', 'spirit', 'instead', 'tan', 'lionel', 'minecraft', 'december', 'tonto', 'softenza', 'sassy', 'northern', 'hatred', 'interesting', 'tilnow', 'rated', 'solid', 'socialmedia', 'frontlines', 'eating', 'frog', 'low', 'field', 'forbid', 'hill', 'check', 'understanding', 'first', 'purchase', 'sept', 'terrifying', 't', 'mix', 'evacuate', 'kerricktrial', 'hardline', 'calorie', 'reach', 'spin', 'standwithpp', 'porridge', 'decision', 'stressed', 'hearing', 'spencer', 'dm', 'random', 'hmm', 'huh', 'miss', 'corp', 'advance', 'blowmandyup', 'explains', 'willing', 'cow', 'bankstown', 'ur', 'nwo', 'nigerian', 'rockstar', 'tired', 'legio', 'youre', 'leaked', 'casual', 'animal', 'arsonistmusic', 'oil', 'seagull', 'riding', 'surrender', 'theyre', 'mop', 'c', 'alien', 'his', 'quest', 'venezuela', 'hear', 'abuse', 'clutch', 'sportwatch', 'wire', 'kenya', 'shelli', 'sun', 'rage', 'fashion', 'despite', 'hell', 'usnwsgov', 'destroying', 'edit', 'horrible', 'petition', 'conversation', 'setlist', 'car', 'august', 'vinyl', 'struggle', 'treated', 'stroke', 'agent', 'advisory', 'wing', 'enroute', 'march', 'turkish', 'warning', 'parent', 'shoot', 'else', 'user', 'questioning', 'reminder', 'bengal', 'melt', 'app', 'laid', 'hardcore', 'visibility', 'enter', 'forgot', 'complaint', 'begging', 'progress', 'installation', 'ornament', 'mark', 'parenthood', 'nuclear', 'precious', 'gunshot', 'gone', 'elsa', 'factor', 'murderer', 'victory', 'ihhen', 'cameo', 'shape', 'power', 'smart', 'notification', 'batter', 'literally', 'lawsuit', 'close', 'justifying', 'mattson', 'yahistorical', 'diaporama', 'block', 'pulling', 'snowball', 'pattern', 'oak', 'york', 'mt', 'naved', 'pit', 'fd', 'wpt', 'ruebs', 'ram', 'hybrid', 'oped', 'access', 'solve', 'waterway', 'need', 'thank', 'fierce', 'smoking', 'cruz', 'black', 'and', 'anger', 'vancouver', 'donate', 'oper', 'ap', 'linkury', 'lovely', 'sick', 'sure', 'caitlin', 'dreaming', 'afraid', 'actual', 'played', 'boyfriend', 'dignity', 'cam', 'clock', 'hiring', 'snapchat', 'cup', 'residential', 'offroad', 'ke', 'sg', 'gorgeous', 'form', 'goat', 'performing', 'washington', 'facility', 'thing', 'coming', 'seat', 'nylon', 'expensive', 'feature', 'ori', 'encore', 'cross', 'tho', 'produced', 'viralspell', 'southdowns', 'fuel', 'supervisor', 'wo', 'calumet', 'suit', 'sequel', 'patched', 'micom', 'rev', 'true', 'tennessee', 'obama', 'henry', 'promise', 'meant', 'apollobrown', 'marians', 'schedule', 'allegation', 'starting', 'wpri', 'eye', 'pack', 'gpm', 'punishment', 'conference', 'xp', 'someone', 'aviation', 'ceo', 'shadow', 'barack', 'electrocuted', 'cord', 'according', 'learned', 'doe', 'impossible', 'kendall', 'holland', 'hit', 'unique', 'evening', 'diet', 'socialism', 'frontline', 'be', 'stage', 'mina', 'sold', 'goku', 'skipping', 'fold', 'administration', 'planned', 'click', 'born', 'mercy', 'rescued', 'gain', 'centipede', 'multiplayer', 'proxy', 'escaping', 'protectdenaliwolves', 'sending', 'silent', 'speaking', 'hijack', 'local', 'situation', 'oliver', 'arabian', 'floyds', 'cole', 'triggered', 'easy', 'elevated', 'fitness', 'landfall', 'pointing', 'hunt', 'nbc', 'jedi', 'breathe', 'sea', 'jonvoyage', 'restive', 'eventually', 'superstition', 'read', 'grass', 'migrant', 'given', 'rant', 'day', 'immediately', 'land', 'microphone', 'reopens', 'unrelenting', 'looking', 'origin', 'generalnews', 'plate', 'rubble', 'room', 'st', 'campfire', 'swept', 'bad', 'possible', 'meek', 'wasnt', 'regime', 'taiwan', 'good', 'jax', 'acquisition', 'dq', 'audience', 'declaration', 'aint', 'decor', 'luchaunderground', 'challenge', 'sarcasm', 'tt', 'snowden', 'dad', 'busy', 'preparedness', 'named', 'larger', 'snowstorm', 'suffering', 'dan', 'diving', 'blanket', 'pro', 'weallheartonedirection', 'equate', 'team', 'rtrrt', 'slow', 'higher', 'nankana', 'stream', 'insas', 'cockpit', 'hahahaha', 'hmu', 'prod', 'tide', 'hate', 'grazed', 'assisting', 'fi', 'ice', 'policerun', 'jasmine', 'fit', 'signup', 'locker', 'our', 'mets', 'liability', 'police', 'harmkid', 'gordon', 'have', 'diageos', 'travel', 'twister', 'squad', 'trench', 'overwork', 'alarm', 'heroine'}\n"
          ]
        }
      ]
    },
    {
      "cell_type": "code",
      "source": [
        "print(gensim.__version__)"
      ],
      "metadata": {
        "colab": {
          "base_uri": "https://localhost:8080/"
        },
        "id": "A3E1EH9ldulG",
        "outputId": "eb014f5e-4726-4d34-9cec-7595946b245b"
      },
      "execution_count": null,
      "outputs": [
        {
          "output_type": "stream",
          "name": "stdout",
          "text": [
            "4.3.0\n"
          ]
        }
      ]
    },
    {
      "cell_type": "code",
      "source": [],
      "metadata": {
        "id": "ts-tal9sd3Iw"
      },
      "execution_count": null,
      "outputs": []
    },
    {
      "cell_type": "code",
      "source": [
        "# this is the next jumbled section\n",
        "# Instantiate and fit a basic Random Forest model on top of the vectors\n",
        "\n",
        "rf = RandomForestClassifier()\n",
        "rf_model = rf.fit(X_train_vect_avg, y_train.values.ravel())\n",
        "\n",
        "# Use the trained model to make predictions on the test data\n",
        "y_pred = rf_model.predict(X_test_vect_avg)\n",
        "\n",
        "\n",
        "rf_model = RandomForestClassifier().fit(X_train_w2v,y_train)\n",
        "#rf_model = rf.fit(X_train_vect_avg, y_train.values.ravel())\n",
        "# Use the trained model to make predictions on the test data\n",
        "y_pred = rf_model.predict(X_test_w2v)\n",
        "\n",
        "\n",
        "precision = precision_score(y_test, y_pred)\n",
        "recall = recall_score(y_test, y_pred)\n",
        "print('Precision: {} / Recall: {} / Accuracy: {}'.format(\n",
        "    round(precision, 3), round(recall, 3), round((y_pred==y_test).sum()/len(y_pred), 3)))"
      ],
      "metadata": {
        "id": "0jgg-0PIEBkn"
      },
      "execution_count": null,
      "outputs": []
    },
    {
      "cell_type": "code",
      "source": [
        "X_train, X_test, y_train, y_test = train_test_split (df['clean_text'], df['target'] , test_size=0.2)\n",
        "\n",
        "# Train the word2vec model\n",
        "w2v_model = gensim.models.Word2Vec(sentences,\n",
        "                                   vector_size=100, \n",
        "                                   window=5,\n",
        "                                   min_count=2)\n",
        "words = set(w2v_model.wv.index_to_key )\n",
        "\n",
        "\n",
        "# vectorize the X_train and X_test data in both word2vec and TFIDF\n",
        "X_train_w2v = w2v(X_train, w2v_model, words)\n",
        "X_test_w2v  = w2v(X_test, w2v_model, words)\n",
        "\n",
        "X_train_tfidf = tfidf(X_train)\n",
        "X_test_tfidf  = tfidf(X_test)\n",
        "\n",
        "\n"
      ],
      "metadata": {
        "id": "kdp8UyUwf02A",
        "colab": {
          "base_uri": "https://localhost:8080/"
        },
        "outputId": "83d8f83e-60f3-48dc-ae3d-57246914b790"
      },
      "execution_count": null,
      "outputs": [
        {
          "output_type": "stream",
          "name": "stderr",
          "text": [
            "<ipython-input-10-5e593157fa75>:4: VisibleDeprecationWarning: Creating an ndarray from ragged nested sequences (which is a list-or-tuple of lists-or-tuples-or ndarrays with different lengths or shapes) is deprecated. If you meant to do this, you must specify 'dtype=object' when creating the ndarray.\n",
            "  vectorized_words = np.array([np.array([w2v_model.wv[i] for i in ls if i in words])\n"
          ]
        }
      ]
    }
  ]
}